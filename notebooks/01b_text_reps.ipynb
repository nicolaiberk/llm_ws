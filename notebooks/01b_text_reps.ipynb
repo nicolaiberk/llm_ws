{
 "cells": [
  {
   "cell_type": "markdown",
   "id": "b27372a8",
   "metadata": {},
   "source": [
    "# Tabular data & text representation"
   ]
  },
  {
   "cell_type": "markdown",
   "id": "e8e9a2e1",
   "metadata": {},
   "source": [
    "In this notebook, we'll learn how to work with tabular data using the `pandas` library. We will also explore some basic text preprocessing and representation techniques."
   ]
  },
  {
   "cell_type": "markdown",
   "id": "b1dd2d94",
   "metadata": {},
   "source": [
    "## Intro to `pandas`"
   ]
  },
  {
   "cell_type": "markdown",
   "id": "1b214ff4",
   "metadata": {},
   "source": [
    "Before we delve into the use of the `pandas` library, we first need to understand how to load libraries. Libraries are collections of functions and other objects, provided by the python community for us to use (you might be familiar with the R equivalent of packages). To import them into our session, we simply use the `import` function."
   ]
  },
  {
   "cell_type": "code",
   "execution_count": 51,
   "id": "7848e5e4",
   "metadata": {},
   "outputs": [],
   "source": [
    "import pandas"
   ]
  },
  {
   "cell_type": "markdown",
   "id": "1f1001b3",
   "metadata": {},
   "source": [
    "The we can use it's functions and objects. For pandas, arguably the most relevant class is the dataframe. This object stores data in a two-dimensional matrix with rows and columns. We can supply a dictionary to the function to define a basic table."
   ]
  },
  {
   "cell_type": "code",
   "execution_count": 52,
   "id": "5da689ec",
   "metadata": {},
   "outputs": [],
   "source": [
    "df = pandas.DataFrame(\n",
    "{\"a\" : [4, 5, 6],\n",
    "\"b\" : [7, 8, 9],\n",
    "\"c\" : [10, 11, 12]})"
   ]
  },
  {
   "cell_type": "code",
   "execution_count": 53,
   "id": "dd07be5d",
   "metadata": {},
   "outputs": [
    {
     "data": {
      "text/html": [
       "<div>\n",
       "<style scoped>\n",
       "    .dataframe tbody tr th:only-of-type {\n",
       "        vertical-align: middle;\n",
       "    }\n",
       "\n",
       "    .dataframe tbody tr th {\n",
       "        vertical-align: top;\n",
       "    }\n",
       "\n",
       "    .dataframe thead th {\n",
       "        text-align: right;\n",
       "    }\n",
       "</style>\n",
       "<table border=\"1\" class=\"dataframe\">\n",
       "  <thead>\n",
       "    <tr style=\"text-align: right;\">\n",
       "      <th></th>\n",
       "      <th>a</th>\n",
       "      <th>b</th>\n",
       "      <th>c</th>\n",
       "    </tr>\n",
       "  </thead>\n",
       "  <tbody>\n",
       "    <tr>\n",
       "      <th>0</th>\n",
       "      <td>4</td>\n",
       "      <td>7</td>\n",
       "      <td>10</td>\n",
       "    </tr>\n",
       "    <tr>\n",
       "      <th>1</th>\n",
       "      <td>5</td>\n",
       "      <td>8</td>\n",
       "      <td>11</td>\n",
       "    </tr>\n",
       "    <tr>\n",
       "      <th>2</th>\n",
       "      <td>6</td>\n",
       "      <td>9</td>\n",
       "      <td>12</td>\n",
       "    </tr>\n",
       "  </tbody>\n",
       "</table>\n",
       "</div>"
      ],
      "text/plain": [
       "   a  b   c\n",
       "0  4  7  10\n",
       "1  5  8  11\n",
       "2  6  9  12"
      ]
     },
     "execution_count": 53,
     "metadata": {},
     "output_type": "execute_result"
    }
   ],
   "source": [
    "df"
   ]
  },
  {
   "cell_type": "markdown",
   "id": "304d445c",
   "metadata": {},
   "source": [
    "To select a column, we can either use `.` or use brackets."
   ]
  },
  {
   "cell_type": "code",
   "execution_count": 54,
   "id": "75728064",
   "metadata": {},
   "outputs": [
    {
     "data": {
      "text/plain": [
       "0    10\n",
       "1    11\n",
       "2    12\n",
       "Name: c, dtype: int64"
      ]
     },
     "execution_count": 54,
     "metadata": {},
     "output_type": "execute_result"
    }
   ],
   "source": [
    "df.c"
   ]
  },
  {
   "cell_type": "code",
   "execution_count": 55,
   "id": "f9d31c26",
   "metadata": {},
   "outputs": [
    {
     "data": {
      "text/plain": [
       "0    10\n",
       "1    11\n",
       "2    12\n",
       "Name: c, dtype: int64"
      ]
     },
     "execution_count": 55,
     "metadata": {},
     "output_type": "execute_result"
    }
   ],
   "source": [
    "df['c']"
   ]
  },
  {
   "cell_type": "markdown",
   "id": "07c2c508",
   "metadata": {},
   "source": [
    "Similarly, we can select rows by subsetting with brackets:"
   ]
  },
  {
   "cell_type": "code",
   "execution_count": 56,
   "id": "fe52e31b",
   "metadata": {},
   "outputs": [
    {
     "data": {
      "text/html": [
       "<div>\n",
       "<style scoped>\n",
       "    .dataframe tbody tr th:only-of-type {\n",
       "        vertical-align: middle;\n",
       "    }\n",
       "\n",
       "    .dataframe tbody tr th {\n",
       "        vertical-align: top;\n",
       "    }\n",
       "\n",
       "    .dataframe thead th {\n",
       "        text-align: right;\n",
       "    }\n",
       "</style>\n",
       "<table border=\"1\" class=\"dataframe\">\n",
       "  <thead>\n",
       "    <tr style=\"text-align: right;\">\n",
       "      <th></th>\n",
       "      <th>a</th>\n",
       "      <th>b</th>\n",
       "      <th>c</th>\n",
       "    </tr>\n",
       "  </thead>\n",
       "  <tbody>\n",
       "    <tr>\n",
       "      <th>1</th>\n",
       "      <td>5</td>\n",
       "      <td>8</td>\n",
       "      <td>11</td>\n",
       "    </tr>\n",
       "    <tr>\n",
       "      <th>2</th>\n",
       "      <td>6</td>\n",
       "      <td>9</td>\n",
       "      <td>12</td>\n",
       "    </tr>\n",
       "  </tbody>\n",
       "</table>\n",
       "</div>"
      ],
      "text/plain": [
       "   a  b   c\n",
       "1  5  8  11\n",
       "2  6  9  12"
      ]
     },
     "execution_count": 56,
     "metadata": {},
     "output_type": "execute_result"
    }
   ],
   "source": [
    "df[df.a > 4]"
   ]
  },
  {
   "cell_type": "markdown",
   "id": "982426fc",
   "metadata": {},
   "source": [
    "To select specific rows, you can also use `df.index`:"
   ]
  },
  {
   "cell_type": "code",
   "execution_count": 57,
   "id": "54dda9ec",
   "metadata": {},
   "outputs": [
    {
     "data": {
      "text/html": [
       "<div>\n",
       "<style scoped>\n",
       "    .dataframe tbody tr th:only-of-type {\n",
       "        vertical-align: middle;\n",
       "    }\n",
       "\n",
       "    .dataframe tbody tr th {\n",
       "        vertical-align: top;\n",
       "    }\n",
       "\n",
       "    .dataframe thead th {\n",
       "        text-align: right;\n",
       "    }\n",
       "</style>\n",
       "<table border=\"1\" class=\"dataframe\">\n",
       "  <thead>\n",
       "    <tr style=\"text-align: right;\">\n",
       "      <th></th>\n",
       "      <th>a</th>\n",
       "      <th>b</th>\n",
       "      <th>c</th>\n",
       "    </tr>\n",
       "  </thead>\n",
       "  <tbody>\n",
       "    <tr>\n",
       "      <th>1</th>\n",
       "      <td>5</td>\n",
       "      <td>8</td>\n",
       "      <td>11</td>\n",
       "    </tr>\n",
       "  </tbody>\n",
       "</table>\n",
       "</div>"
      ],
      "text/plain": [
       "   a  b   c\n",
       "1  5  8  11"
      ]
     },
     "execution_count": 57,
     "metadata": {},
     "output_type": "execute_result"
    }
   ],
   "source": [
    "df[df.index == 1]"
   ]
  },
  {
   "cell_type": "markdown",
   "id": "7e74df01",
   "metadata": {},
   "source": [
    "To select rows and columns at the same time, you can subset sequentially:"
   ]
  },
  {
   "cell_type": "code",
   "execution_count": 58,
   "id": "6fce2b02",
   "metadata": {},
   "outputs": [
    {
     "data": {
      "text/plain": [
       "1    11\n",
       "2    12\n",
       "Name: c, dtype: int64"
      ]
     },
     "execution_count": 58,
     "metadata": {},
     "output_type": "execute_result"
    }
   ],
   "source": [
    "df.c[df.a > 4]"
   ]
  },
  {
   "cell_type": "markdown",
   "id": "067cdc10",
   "metadata": {},
   "source": [
    "*Exercise: select the first observation of the b row.*"
   ]
  },
  {
   "cell_type": "code",
   "execution_count": null,
   "id": "22f69062",
   "metadata": {},
   "outputs": [],
   "source": []
  },
  {
   "cell_type": "markdown",
   "id": "37b2c2a5",
   "metadata": {},
   "source": [
    "To assign values, you can use the bracket logic:"
   ]
  },
  {
   "cell_type": "code",
   "execution_count": 59,
   "id": "4f643513",
   "metadata": {},
   "outputs": [
    {
     "data": {
      "text/html": [
       "<div>\n",
       "<style scoped>\n",
       "    .dataframe tbody tr th:only-of-type {\n",
       "        vertical-align: middle;\n",
       "    }\n",
       "\n",
       "    .dataframe tbody tr th {\n",
       "        vertical-align: top;\n",
       "    }\n",
       "\n",
       "    .dataframe thead th {\n",
       "        text-align: right;\n",
       "    }\n",
       "</style>\n",
       "<table border=\"1\" class=\"dataframe\">\n",
       "  <thead>\n",
       "    <tr style=\"text-align: right;\">\n",
       "      <th></th>\n",
       "      <th>a</th>\n",
       "      <th>b</th>\n",
       "      <th>c</th>\n",
       "    </tr>\n",
       "  </thead>\n",
       "  <tbody>\n",
       "    <tr>\n",
       "      <th>0</th>\n",
       "      <td>1</td>\n",
       "      <td>7</td>\n",
       "      <td>10</td>\n",
       "    </tr>\n",
       "    <tr>\n",
       "      <th>1</th>\n",
       "      <td>1</td>\n",
       "      <td>8</td>\n",
       "      <td>11</td>\n",
       "    </tr>\n",
       "    <tr>\n",
       "      <th>2</th>\n",
       "      <td>1</td>\n",
       "      <td>9</td>\n",
       "      <td>12</td>\n",
       "    </tr>\n",
       "  </tbody>\n",
       "</table>\n",
       "</div>"
      ],
      "text/plain": [
       "   a  b   c\n",
       "0  1  7  10\n",
       "1  1  8  11\n",
       "2  1  9  12"
      ]
     },
     "execution_count": 59,
     "metadata": {},
     "output_type": "execute_result"
    }
   ],
   "source": [
    "df['a'] = 1\n",
    "df"
   ]
  },
  {
   "cell_type": "code",
   "execution_count": 60,
   "id": "6fa005d1",
   "metadata": {},
   "outputs": [
    {
     "data": {
      "text/html": [
       "<div>\n",
       "<style scoped>\n",
       "    .dataframe tbody tr th:only-of-type {\n",
       "        vertical-align: middle;\n",
       "    }\n",
       "\n",
       "    .dataframe tbody tr th {\n",
       "        vertical-align: top;\n",
       "    }\n",
       "\n",
       "    .dataframe thead th {\n",
       "        text-align: right;\n",
       "    }\n",
       "</style>\n",
       "<table border=\"1\" class=\"dataframe\">\n",
       "  <thead>\n",
       "    <tr style=\"text-align: right;\">\n",
       "      <th></th>\n",
       "      <th>a</th>\n",
       "      <th>b</th>\n",
       "      <th>c</th>\n",
       "    </tr>\n",
       "  </thead>\n",
       "  <tbody>\n",
       "    <tr>\n",
       "      <th>0</th>\n",
       "      <td>2</td>\n",
       "      <td>2</td>\n",
       "      <td>2</td>\n",
       "    </tr>\n",
       "    <tr>\n",
       "      <th>1</th>\n",
       "      <td>1</td>\n",
       "      <td>8</td>\n",
       "      <td>11</td>\n",
       "    </tr>\n",
       "    <tr>\n",
       "      <th>2</th>\n",
       "      <td>1</td>\n",
       "      <td>9</td>\n",
       "      <td>12</td>\n",
       "    </tr>\n",
       "  </tbody>\n",
       "</table>\n",
       "</div>"
      ],
      "text/plain": [
       "   a  b   c\n",
       "0  2  2   2\n",
       "1  1  8  11\n",
       "2  1  9  12"
      ]
     },
     "execution_count": 60,
     "metadata": {},
     "output_type": "execute_result"
    }
   ],
   "source": [
    "df[df.index == 0] = 2\n",
    "df"
   ]
  },
  {
   "cell_type": "markdown",
   "id": "df102dd5",
   "metadata": {},
   "source": [
    "You can create new columns the same way:"
   ]
  },
  {
   "cell_type": "code",
   "execution_count": 61,
   "id": "7b1618ae",
   "metadata": {},
   "outputs": [],
   "source": [
    "df['d'] = [5,25,125]"
   ]
  },
  {
   "cell_type": "code",
   "execution_count": 62,
   "id": "5cc890ff",
   "metadata": {},
   "outputs": [
    {
     "data": {
      "text/html": [
       "<div>\n",
       "<style scoped>\n",
       "    .dataframe tbody tr th:only-of-type {\n",
       "        vertical-align: middle;\n",
       "    }\n",
       "\n",
       "    .dataframe tbody tr th {\n",
       "        vertical-align: top;\n",
       "    }\n",
       "\n",
       "    .dataframe thead th {\n",
       "        text-align: right;\n",
       "    }\n",
       "</style>\n",
       "<table border=\"1\" class=\"dataframe\">\n",
       "  <thead>\n",
       "    <tr style=\"text-align: right;\">\n",
       "      <th></th>\n",
       "      <th>a</th>\n",
       "      <th>b</th>\n",
       "      <th>c</th>\n",
       "      <th>d</th>\n",
       "    </tr>\n",
       "  </thead>\n",
       "  <tbody>\n",
       "    <tr>\n",
       "      <th>0</th>\n",
       "      <td>2</td>\n",
       "      <td>2</td>\n",
       "      <td>2</td>\n",
       "      <td>5</td>\n",
       "    </tr>\n",
       "    <tr>\n",
       "      <th>1</th>\n",
       "      <td>1</td>\n",
       "      <td>8</td>\n",
       "      <td>11</td>\n",
       "      <td>25</td>\n",
       "    </tr>\n",
       "    <tr>\n",
       "      <th>2</th>\n",
       "      <td>1</td>\n",
       "      <td>9</td>\n",
       "      <td>12</td>\n",
       "      <td>125</td>\n",
       "    </tr>\n",
       "  </tbody>\n",
       "</table>\n",
       "</div>"
      ],
      "text/plain": [
       "   a  b   c    d\n",
       "0  2  2   2    5\n",
       "1  1  8  11   25\n",
       "2  1  9  12  125"
      ]
     },
     "execution_count": 62,
     "metadata": {},
     "output_type": "execute_result"
    }
   ],
   "source": [
    "df"
   ]
  },
  {
   "cell_type": "markdown",
   "id": "1b704d90",
   "metadata": {},
   "source": [
    "To assign a specific value, you shoud use `.loc`:"
   ]
  },
  {
   "cell_type": "code",
   "execution_count": 63,
   "id": "6cb2ffb4",
   "metadata": {},
   "outputs": [],
   "source": [
    "df.loc[df.index == 2, 'c'] = 500"
   ]
  },
  {
   "cell_type": "code",
   "execution_count": 64,
   "id": "977d6a49",
   "metadata": {},
   "outputs": [
    {
     "data": {
      "text/html": [
       "<div>\n",
       "<style scoped>\n",
       "    .dataframe tbody tr th:only-of-type {\n",
       "        vertical-align: middle;\n",
       "    }\n",
       "\n",
       "    .dataframe tbody tr th {\n",
       "        vertical-align: top;\n",
       "    }\n",
       "\n",
       "    .dataframe thead th {\n",
       "        text-align: right;\n",
       "    }\n",
       "</style>\n",
       "<table border=\"1\" class=\"dataframe\">\n",
       "  <thead>\n",
       "    <tr style=\"text-align: right;\">\n",
       "      <th></th>\n",
       "      <th>a</th>\n",
       "      <th>b</th>\n",
       "      <th>c</th>\n",
       "      <th>d</th>\n",
       "    </tr>\n",
       "  </thead>\n",
       "  <tbody>\n",
       "    <tr>\n",
       "      <th>0</th>\n",
       "      <td>2</td>\n",
       "      <td>2</td>\n",
       "      <td>2</td>\n",
       "      <td>5</td>\n",
       "    </tr>\n",
       "    <tr>\n",
       "      <th>1</th>\n",
       "      <td>1</td>\n",
       "      <td>8</td>\n",
       "      <td>11</td>\n",
       "      <td>25</td>\n",
       "    </tr>\n",
       "    <tr>\n",
       "      <th>2</th>\n",
       "      <td>1</td>\n",
       "      <td>9</td>\n",
       "      <td>500</td>\n",
       "      <td>125</td>\n",
       "    </tr>\n",
       "  </tbody>\n",
       "</table>\n",
       "</div>"
      ],
      "text/plain": [
       "   a  b    c    d\n",
       "0  2  2    2    5\n",
       "1  1  8   11   25\n",
       "2  1  9  500  125"
      ]
     },
     "execution_count": 64,
     "metadata": {},
     "output_type": "execute_result"
    }
   ],
   "source": [
    "df"
   ]
  },
  {
   "cell_type": "markdown",
   "id": "1f26204a",
   "metadata": {},
   "source": [
    "More useful is the calculation with entire dataframes."
   ]
  },
  {
   "cell_type": "code",
   "execution_count": 65,
   "id": "0db203da",
   "metadata": {},
   "outputs": [
    {
     "data": {
      "text/html": [
       "<div>\n",
       "<style scoped>\n",
       "    .dataframe tbody tr th:only-of-type {\n",
       "        vertical-align: middle;\n",
       "    }\n",
       "\n",
       "    .dataframe tbody tr th {\n",
       "        vertical-align: top;\n",
       "    }\n",
       "\n",
       "    .dataframe thead th {\n",
       "        text-align: right;\n",
       "    }\n",
       "</style>\n",
       "<table border=\"1\" class=\"dataframe\">\n",
       "  <thead>\n",
       "    <tr style=\"text-align: right;\">\n",
       "      <th></th>\n",
       "      <th>a</th>\n",
       "      <th>b</th>\n",
       "      <th>c</th>\n",
       "      <th>d</th>\n",
       "    </tr>\n",
       "  </thead>\n",
       "  <tbody>\n",
       "    <tr>\n",
       "      <th>0</th>\n",
       "      <td>1.0</td>\n",
       "      <td>1.0</td>\n",
       "      <td>1.0</td>\n",
       "      <td>2.5</td>\n",
       "    </tr>\n",
       "    <tr>\n",
       "      <th>1</th>\n",
       "      <td>0.5</td>\n",
       "      <td>4.0</td>\n",
       "      <td>5.5</td>\n",
       "      <td>12.5</td>\n",
       "    </tr>\n",
       "    <tr>\n",
       "      <th>2</th>\n",
       "      <td>0.5</td>\n",
       "      <td>4.5</td>\n",
       "      <td>250.0</td>\n",
       "      <td>62.5</td>\n",
       "    </tr>\n",
       "  </tbody>\n",
       "</table>\n",
       "</div>"
      ],
      "text/plain": [
       "     a    b      c     d\n",
       "0  1.0  1.0    1.0   2.5\n",
       "1  0.5  4.0    5.5  12.5\n",
       "2  0.5  4.5  250.0  62.5"
      ]
     },
     "execution_count": 65,
     "metadata": {},
     "output_type": "execute_result"
    }
   ],
   "source": [
    "df/2"
   ]
  },
  {
   "cell_type": "markdown",
   "id": "1f980783",
   "metadata": {},
   "source": [
    "*Exercise: create a new column 'e', which is the difference between the d and the c columns.*"
   ]
  },
  {
   "cell_type": "code",
   "execution_count": null,
   "id": "393e7b44",
   "metadata": {},
   "outputs": [],
   "source": []
  },
  {
   "cell_type": "markdown",
   "id": "1700b37e",
   "metadata": {},
   "source": [
    "Lastly, you can store a dataframe to a local file, e.g. a csv-file. You can then also load it again."
   ]
  },
  {
   "cell_type": "code",
   "execution_count": 66,
   "id": "d49e0c4c",
   "metadata": {},
   "outputs": [],
   "source": [
    "df.to_csv(\"test_file.csv\", index=False)"
   ]
  },
  {
   "cell_type": "code",
   "execution_count": null,
   "id": "19eac238",
   "metadata": {},
   "outputs": [],
   "source": [
    "df_load = pandas.read_csv(\"test_file.csv\")\n",
    "df_load"
   ]
  },
  {
   "cell_type": "markdown",
   "id": "26fc4e9e",
   "metadata": {},
   "source": [
    "More: [pandas cheatsheet](https://pandas.pydata.org/Pandas_Cheat_Sheet.pdf)"
   ]
  },
  {
   "cell_type": "markdown",
   "id": "bfca59b3",
   "metadata": {},
   "source": [
    "## BoW"
   ]
  },
  {
   "cell_type": "markdown",
   "id": "79b4aaf7",
   "metadata": {},
   "source": [
    "Now that we understand how to work with dataframes, we can create a document-term matrix (DTM)."
   ]
  },
  {
   "cell_type": "code",
   "execution_count": 109,
   "id": "aad292b0",
   "metadata": {},
   "outputs": [],
   "source": [
    "documents = [\n",
    "    \"This is the first document.\",\n",
    "    \"This is the second document.\",\n",
    "    \"This is the third document.\",\n",
    "    \"A completely completely unrelated text.\"\n",
    "]"
   ]
  },
  {
   "cell_type": "markdown",
   "id": "36ceeb63",
   "metadata": {},
   "source": [
    "First, we need to create a vocabulary of unique terms (the columns of our DTM):"
   ]
  },
  {
   "cell_type": "code",
   "execution_count": 110,
   "id": "1744199b",
   "metadata": {},
   "outputs": [],
   "source": [
    "def vocab_generator(documents):\n",
    "    vocab = []\n",
    "    for doc in documents:\n",
    "        tokens = doc.split()\n",
    "        for token in tokens:\n",
    "            if token not in vocab:\n",
    "                vocab.append(token)\n",
    "    return vocab"
   ]
  },
  {
   "cell_type": "markdown",
   "id": "33c1a123",
   "metadata": {},
   "source": [
    "*Exercise: look at each line in the function above: what is happening here?*"
   ]
  },
  {
   "cell_type": "code",
   "execution_count": 111,
   "id": "5a6ba5c4",
   "metadata": {},
   "outputs": [
    {
     "data": {
      "text/plain": [
       "['This',\n",
       " 'is',\n",
       " 'the',\n",
       " 'first',\n",
       " 'document.',\n",
       " 'second',\n",
       " 'third',\n",
       " 'A',\n",
       " 'completely',\n",
       " 'unrelated',\n",
       " 'text.']"
      ]
     },
     "execution_count": 111,
     "metadata": {},
     "output_type": "execute_result"
    }
   ],
   "source": [
    "vocab_generator(documents)"
   ]
  },
  {
   "cell_type": "markdown",
   "id": "4fa7c837",
   "metadata": {},
   "source": [
    "This looks ok, but it probably makes sense to remove the punctuation and lowercase all tokens.\n",
    "\n",
    "*Exercise: create a function to remove punctuation and lowercase all tokens. Apply it to the documents, creating a new object with the processed documents.*"
   ]
  },
  {
   "cell_type": "code",
   "execution_count": 114,
   "id": "01f6021b",
   "metadata": {},
   "outputs": [],
   "source": [
    "## your code here"
   ]
  },
  {
   "cell_type": "markdown",
   "id": "77e92bf5",
   "metadata": {},
   "source": [
    "We might also remove some stopwords when creating the vocabulary."
   ]
  },
  {
   "cell_type": "code",
   "execution_count": 115,
   "id": "b3d2e2f5",
   "metadata": {},
   "outputs": [],
   "source": [
    "def vocab_generator(documents, stop_words = [\"this\", \"is\", \"the\", \"a\"]):\n",
    "    vocab = []\n",
    "    for doc in documents:\n",
    "        tokens = doc.split()\n",
    "        for token in tokens:\n",
    "            if token not in vocab and token not in stop_words:\n",
    "                vocab.append(token)\n",
    "    return vocab"
   ]
  },
  {
   "cell_type": "code",
   "execution_count": 116,
   "id": "af5ca6f7",
   "metadata": {},
   "outputs": [],
   "source": [
    "vocab = vocab_generator(processed_docs)"
   ]
  },
  {
   "cell_type": "markdown",
   "id": "bca50f08",
   "metadata": {},
   "source": [
    "Let's create a document term matrix! Let's start by creating one column per token in the vocabulary."
   ]
  },
  {
   "cell_type": "code",
   "execution_count": 117,
   "id": "b7fc01c4",
   "metadata": {},
   "outputs": [
    {
     "data": {
      "text/html": [
       "<div>\n",
       "<style scoped>\n",
       "    .dataframe tbody tr th:only-of-type {\n",
       "        vertical-align: middle;\n",
       "    }\n",
       "\n",
       "    .dataframe tbody tr th {\n",
       "        vertical-align: top;\n",
       "    }\n",
       "\n",
       "    .dataframe thead th {\n",
       "        text-align: right;\n",
       "    }\n",
       "</style>\n",
       "<table border=\"1\" class=\"dataframe\">\n",
       "  <thead>\n",
       "    <tr style=\"text-align: right;\">\n",
       "      <th></th>\n",
       "      <th>first</th>\n",
       "      <th>document</th>\n",
       "      <th>second</th>\n",
       "      <th>third</th>\n",
       "      <th>completely</th>\n",
       "      <th>unrelated</th>\n",
       "      <th>text</th>\n",
       "    </tr>\n",
       "  </thead>\n",
       "  <tbody>\n",
       "    <tr>\n",
       "      <th>0</th>\n",
       "      <td>0</td>\n",
       "      <td>0</td>\n",
       "      <td>0</td>\n",
       "      <td>0</td>\n",
       "      <td>0</td>\n",
       "      <td>0</td>\n",
       "      <td>0</td>\n",
       "    </tr>\n",
       "    <tr>\n",
       "      <th>1</th>\n",
       "      <td>0</td>\n",
       "      <td>0</td>\n",
       "      <td>0</td>\n",
       "      <td>0</td>\n",
       "      <td>0</td>\n",
       "      <td>0</td>\n",
       "      <td>0</td>\n",
       "    </tr>\n",
       "    <tr>\n",
       "      <th>2</th>\n",
       "      <td>0</td>\n",
       "      <td>0</td>\n",
       "      <td>0</td>\n",
       "      <td>0</td>\n",
       "      <td>0</td>\n",
       "      <td>0</td>\n",
       "      <td>0</td>\n",
       "    </tr>\n",
       "    <tr>\n",
       "      <th>3</th>\n",
       "      <td>0</td>\n",
       "      <td>0</td>\n",
       "      <td>0</td>\n",
       "      <td>0</td>\n",
       "      <td>0</td>\n",
       "      <td>0</td>\n",
       "      <td>0</td>\n",
       "    </tr>\n",
       "  </tbody>\n",
       "</table>\n",
       "</div>"
      ],
      "text/plain": [
       "   first  document  second  third  completely  unrelated  text\n",
       "0      0         0       0      0           0          0     0\n",
       "1      0         0       0      0           0          0     0\n",
       "2      0         0       0      0           0          0     0\n",
       "3      0         0       0      0           0          0     0"
      ]
     },
     "execution_count": 117,
     "metadata": {},
     "output_type": "execute_result"
    }
   ],
   "source": [
    "import pandas as pd\n",
    "dfm = pd.DataFrame([[0] * len(vocab)] * 4, columns=vocab)\n",
    "dfm"
   ]
  },
  {
   "cell_type": "markdown",
   "id": "4711fb54",
   "metadata": {},
   "source": [
    "Note that we `import pandas as pd` here. Libraries can be renamed at import, and `pd` is the customary way to refer to this frequently used package."
   ]
  },
  {
   "cell_type": "markdown",
   "id": "ad67983c",
   "metadata": {},
   "source": [
    "*Exercise: count the number of occurences of each term in each document and assign them to the DTM.*"
   ]
  },
  {
   "cell_type": "code",
   "execution_count": null,
   "id": "f3a406e4",
   "metadata": {},
   "outputs": [
    {
     "data": {
      "text/html": [
       "<div>\n",
       "<style scoped>\n",
       "    .dataframe tbody tr th:only-of-type {\n",
       "        vertical-align: middle;\n",
       "    }\n",
       "\n",
       "    .dataframe tbody tr th {\n",
       "        vertical-align: top;\n",
       "    }\n",
       "\n",
       "    .dataframe thead th {\n",
       "        text-align: right;\n",
       "    }\n",
       "</style>\n",
       "<table border=\"1\" class=\"dataframe\">\n",
       "  <thead>\n",
       "    <tr style=\"text-align: right;\">\n",
       "      <th></th>\n",
       "      <th>first</th>\n",
       "      <th>document</th>\n",
       "      <th>second</th>\n",
       "      <th>third</th>\n",
       "      <th>completely</th>\n",
       "      <th>unrelated</th>\n",
       "      <th>text</th>\n",
       "    </tr>\n",
       "  </thead>\n",
       "  <tbody>\n",
       "    <tr>\n",
       "      <th>0</th>\n",
       "      <td>1</td>\n",
       "      <td>1</td>\n",
       "      <td>0</td>\n",
       "      <td>0</td>\n",
       "      <td>0</td>\n",
       "      <td>0</td>\n",
       "      <td>0</td>\n",
       "    </tr>\n",
       "    <tr>\n",
       "      <th>1</th>\n",
       "      <td>0</td>\n",
       "      <td>1</td>\n",
       "      <td>1</td>\n",
       "      <td>0</td>\n",
       "      <td>0</td>\n",
       "      <td>0</td>\n",
       "      <td>0</td>\n",
       "    </tr>\n",
       "    <tr>\n",
       "      <th>2</th>\n",
       "      <td>0</td>\n",
       "      <td>1</td>\n",
       "      <td>0</td>\n",
       "      <td>1</td>\n",
       "      <td>0</td>\n",
       "      <td>0</td>\n",
       "      <td>0</td>\n",
       "    </tr>\n",
       "    <tr>\n",
       "      <th>3</th>\n",
       "      <td>0</td>\n",
       "      <td>0</td>\n",
       "      <td>0</td>\n",
       "      <td>0</td>\n",
       "      <td>2</td>\n",
       "      <td>1</td>\n",
       "      <td>1</td>\n",
       "    </tr>\n",
       "  </tbody>\n",
       "</table>\n",
       "</div>"
      ],
      "text/plain": [
       "   first  document  second  third  completely  unrelated  text\n",
       "0      1         1       0      0           0          0     0\n",
       "1      0         1       1      0           0          0     0\n",
       "2      0         1       0      1           0          0     0\n",
       "3      0         0       0      0           2          1     1"
      ]
     },
     "execution_count": 118,
     "metadata": {},
     "output_type": "execute_result"
    }
   ],
   "source": [
    "## your code here\n",
    "\n",
    "for i, doc in enumerate(processed_docs):\n",
    "    tokens = doc.split()\n",
    "    for token in tokens:\n",
    "        if token in vocab:\n",
    "            dfm.loc[i, token] += 1\n",
    "\n",
    "dfm"
   ]
  },
  {
   "cell_type": "markdown",
   "id": "a10cf7e1",
   "metadata": {},
   "source": [
    "## Processing text with `nltk`"
   ]
  },
  {
   "cell_type": "markdown",
   "id": "6eb8756e",
   "metadata": {},
   "source": [
    "A particularly useful library for basic operations with texts is the NLTK library (short for natural language toolkit). We can use it to stem or lemmatize some texts."
   ]
  },
  {
   "cell_type": "code",
   "execution_count": 126,
   "id": "72bb7341",
   "metadata": {},
   "outputs": [
    {
     "name": "stdout",
     "output_type": "stream",
     "text": [
      "quick\n",
      "quick\n",
      "univers\n",
      "univers\n",
      "run\n",
      "run\n",
      "ran\n"
     ]
    }
   ],
   "source": [
    "from nltk.stem.snowball import SnowballStemmer\n",
    "\n",
    "# Initialize stemmer for English\n",
    "stemmer = SnowballStemmer('english')\n",
    "\n",
    "# Test words with different morphological patterns\n",
    "test_words = [\n",
    "    'quick', 'quickly',\n",
    "    'university', 'universities',       \n",
    "    'running', 'runs', 'ran'\n",
    "]\n",
    "\n",
    "for word in test_words:\n",
    "    stem = stemmer.stem(word)\n",
    "    print(stem)"
   ]
  },
  {
   "cell_type": "markdown",
   "id": "b58a1790",
   "metadata": {},
   "source": [
    "The package also contains a lemmatizer. To use it, we first need to donwload the necessary resources."
   ]
  },
  {
   "cell_type": "code",
   "execution_count": 129,
   "id": "edbc595f",
   "metadata": {},
   "outputs": [
    {
     "name": "stderr",
     "output_type": "stream",
     "text": [
      "[nltk_data] Downloading package wordnet to /Users/niberk/nltk_data...\n",
      "[nltk_data]   Package wordnet is already up-to-date!\n"
     ]
    },
    {
     "data": {
      "text/plain": [
       "True"
      ]
     },
     "execution_count": 129,
     "metadata": {},
     "output_type": "execute_result"
    }
   ],
   "source": [
    "import nltk\n",
    "nltk.download('wordnet')"
   ]
  },
  {
   "cell_type": "code",
   "execution_count": 130,
   "id": "14b6c56a",
   "metadata": {},
   "outputs": [
    {
     "name": "stdout",
     "output_type": "stream",
     "text": [
      "quick\n",
      "quickly\n",
      "university\n",
      "university\n",
      "running\n",
      "run\n",
      "ran\n"
     ]
    }
   ],
   "source": [
    "from nltk.stem import WordNetLemmatizer as wnl\n",
    "\n",
    "lemmatizer = wnl()\n",
    "\n",
    "for word in test_words:\n",
    "    lemma = lemmatizer.lemmatize(word)\n",
    "    print(lemma)"
   ]
  },
  {
   "cell_type": "markdown",
   "id": "696bd905",
   "metadata": {},
   "source": [
    "Which way the lemmatizer defines the lemma might depend on whether it recognizes a given word as a verb or a noun. This behavior will be more useful when used alongside a parts-of-speech tagger identifying whether a given term is a verb, noun, adjective, etc."
   ]
  },
  {
   "cell_type": "code",
   "execution_count": 134,
   "id": "63c99fd1",
   "metadata": {},
   "outputs": [
    {
     "data": {
      "text/plain": [
       "'run'"
      ]
     },
     "execution_count": 134,
     "metadata": {},
     "output_type": "execute_result"
    }
   ],
   "source": [
    "from nltk.corpus import wordnet\n",
    "lemma = lemmatizer.lemmatize(\"ran\", wordnet.VERB)\n",
    "lemma"
   ]
  },
  {
   "cell_type": "markdown",
   "id": "927ea55b",
   "metadata": {},
   "source": [
    "*Exercise: Create your own word list and explore the differences between the two approaches further.*"
   ]
  },
  {
   "cell_type": "markdown",
   "id": "a7770bd2",
   "metadata": {},
   "source": []
  }
 ],
 "metadata": {
  "kernelspec": {
   "display_name": ".venv (3.12.0)",
   "language": "python",
   "name": "python3"
  },
  "language_info": {
   "codemirror_mode": {
    "name": "ipython",
    "version": 3
   },
   "file_extension": ".py",
   "mimetype": "text/x-python",
   "name": "python",
   "nbconvert_exporter": "python",
   "pygments_lexer": "ipython3",
   "version": "3.12.0"
  }
 },
 "nbformat": 4,
 "nbformat_minor": 5
}
