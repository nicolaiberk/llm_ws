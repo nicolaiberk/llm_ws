{
  "cells": [
    {
      "cell_type": "markdown",
      "metadata": {
        "id": "view-in-github",
        "colab_type": "text"
      },
      "source": [
        "<a href=\"https://colab.research.google.com/github/nicolaiberk/llm_ws/blob/main/notebooks/03b_hackathon.ipynb\" target=\"_parent\"><img src=\"https://colab.research.google.com/assets/colab-badge.svg\" alt=\"Open In Colab\"/></a>"
      ]
    },
    {
      "cell_type": "markdown",
      "id": "3b13646a",
      "metadata": {
        "id": "3b13646a"
      },
      "source": [
        "# Hackathon\n",
        "\n",
        "**Now it's your turn!**\n",
        "\n",
        "Together with your neighbour, **design an algorithm that can detect happiness online**. The training data contains tweets with different emotions, your challenge is to find the happy ones. Apply what you have learned since yesterday. Feel free to copy the code from other scripts.\n",
        "\n",
        "The last two cells contain code to load the test data and assess your classifier's performance. The link to the training set will be sent to you after 45 minutes.\n",
        "\n",
        "## **The best F1 score wins!!!**"
      ]
    },
    {
      "cell_type": "code",
      "execution_count": null,
      "id": "a3f06ab7",
      "metadata": {
        "id": "a3f06ab7"
      },
      "outputs": [],
      "source": [
        "tweets = pd.read_csv(\"https://www.dropbox.com/scl/fi/q4knjtpx0cw15v55q61vr/train_balanced.csv?rlkey=87djtsvsfx5mb1rgvpy0jsjz8&dl=1\")"
      ]
    },
    {
      "cell_type": "markdown",
      "id": "72d212ac",
      "metadata": {
        "id": "72d212ac"
      },
      "source": [
        "# Assessment"
      ]
    },
    {
      "cell_type": "code",
      "execution_count": null,
      "id": "6ea3f0d2",
      "metadata": {
        "id": "6ea3f0d2"
      },
      "outputs": [],
      "source": [
        "from sklearn.metrics import f1_score, recall_score, precision_score, accuracy_score\n",
        "def performance_report(y_test, y_pred):\n",
        "  print(\"Accuracy: \",  round(accuracy_score(y_test, y_pred), 3))\n",
        "  print(\"Recall: \",    round(recall_score(y_test, y_pred), 3))\n",
        "  print(\"Precision: \", round(precision_score(y_test, y_pred), 3))\n",
        "  print(\"F1: \",        round(f1_score(y_test, y_pred), 3))"
      ]
    },
    {
      "cell_type": "code",
      "execution_count": null,
      "id": "a4b7fa8c",
      "metadata": {
        "id": "a4b7fa8c"
      },
      "outputs": [],
      "source": [
        "test = pd.read_csv(\"\")\n",
        "X_test = vec.transform(test.content)\n",
        "y_test = test.happiness\n",
        "performance_report(y_test, classifier.predict(X_test))"
      ]
    }
  ],
  "metadata": {
    "language_info": {
      "name": "python"
    },
    "colab": {
      "provenance": [],
      "include_colab_link": true
    }
  },
  "nbformat": 4,
  "nbformat_minor": 5
}