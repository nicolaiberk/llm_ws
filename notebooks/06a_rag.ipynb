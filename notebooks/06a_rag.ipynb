{
  "cells": [
    {
      "cell_type": "markdown",
      "metadata": {
        "id": "view-in-github",
        "colab_type": "text"
      },
      "source": [
        "<a href=\"https://colab.research.google.com/github/nicolaiberk/llm_ws/blob/main/notebooks/06a_rag.ipynb\" target=\"_parent\"><img src=\"https://colab.research.google.com/assets/colab-badge.svg\" alt=\"Open In Colab\"/></a>"
      ]
    },
    {
      "cell_type": "markdown",
      "source": [
        "# Informed Prompting"
      ],
      "metadata": {
        "id": "tpYlhhRUgXsU"
      },
      "id": "tpYlhhRUgXsU"
    },
    {
      "cell_type": "markdown",
      "source": [
        "> ❗ ACTIVATE THE GPU BY SELECTING RUNTIME IN THE UPPER RIGHT > CONNECT TO RUNTIME > T4 GPU"
      ],
      "metadata": {
        "id": "J0ohUe4ThmVZ"
      },
      "id": "J0ohUe4ThmVZ"
    },
    {
      "cell_type": "code",
      "source": [
        "!pip install sentence_transformers datasets faiss-cpu  transformers"
      ],
      "metadata": {
        "id": "HNtMppQlga_f"
      },
      "id": "HNtMppQlga_f",
      "execution_count": null,
      "outputs": []
    },
    {
      "cell_type": "markdown",
      "source": [
        "> ❗ RESTART THE NOTEBOOK (DROPDOWN NEXT TO RUN ALL > RESTART SESSION)"
      ],
      "metadata": {
        "id": "khx1F651gkyk"
      },
      "id": "khx1F651gkyk"
    },
    {
      "cell_type": "markdown",
      "source": [
        "The [sentence-transformers](https://sbert.net/) library provides an ecosystem of models designed specifically for efficient embedding generation. It works very similar to transformers:"
      ],
      "metadata": {
        "id": "9q9nSkTKgzRa"
      },
      "id": "9q9nSkTKgzRa"
    },
    {
      "cell_type": "code",
      "source": [
        "from sentence_transformers import SentenceTransformer, CrossEncoder"
      ],
      "metadata": {
        "id": "SVn9mPt3f4ag"
      },
      "id": "SVn9mPt3f4ag",
      "execution_count": null,
      "outputs": []
    },
    {
      "cell_type": "markdown",
      "source": [
        "We load a pretrained model:"
      ],
      "metadata": {
        "id": "iGeFnesYi9LG"
      },
      "id": "iGeFnesYi9LG"
    },
    {
      "cell_type": "code",
      "execution_count": null,
      "id": "4dffabef",
      "metadata": {
        "id": "4dffabef"
      },
      "outputs": [],
      "source": [
        "model = SentenceTransformer(\"all-MiniLM-L6-v2\")"
      ]
    },
    {
      "cell_type": "markdown",
      "source": [
        "Then we encode some sentences of interest:"
      ],
      "metadata": {
        "id": "QD20gtKIjA9q"
      },
      "id": "QD20gtKIjA9q"
    },
    {
      "cell_type": "code",
      "source": [
        "sentences = [\n",
        "    \"The Great Wall of China was built over several dynasties, with most of the existing structure dating from the Ming Dynasty (1368-1644).\",\n",
        "    \"The blue whale's heart alone can weigh as much as an automobile and is roughly the size of a small car.\",\n",
        "    \"Studies show that the Dunning-Kruger effect causes people with low ability in a domain to overestimate their competence in that area.\",\n",
        "]"
      ],
      "metadata": {
        "id": "ljGutlG8i0GK"
      },
      "id": "ljGutlG8i0GK",
      "execution_count": null,
      "outputs": []
    },
    {
      "cell_type": "markdown",
      "source": [
        "And encode them as embeddings:"
      ],
      "metadata": {
        "id": "gbIPakrrjRVU"
      },
      "id": "gbIPakrrjRVU"
    },
    {
      "cell_type": "code",
      "source": [
        "# 2. Calculate embeddings by calling model.encode()\n",
        "embeddings = model.encode(sentences)\n",
        "print(embeddings.shape)"
      ],
      "metadata": {
        "id": "9HfxnqeEi2Yl"
      },
      "id": "9HfxnqeEi2Yl",
      "execution_count": null,
      "outputs": []
    },
    {
      "cell_type": "markdown",
      "source": [
        "We can then calculate the cosine similarity of the sentences with each other:"
      ],
      "metadata": {
        "id": "EjX-aQLXjgHC"
      },
      "id": "EjX-aQLXjgHC"
    },
    {
      "cell_type": "code",
      "source": [
        "# 3. Calculate the embedding similarities\n",
        "similarities = model.similarity(embeddings, embeddings)\n",
        "print(similarities)"
      ],
      "metadata": {
        "id": "yzRaQBGCi3rF"
      },
      "id": "yzRaQBGCi3rF",
      "execution_count": null,
      "outputs": []
    },
    {
      "cell_type": "markdown",
      "source": [
        "## Similarity Search"
      ],
      "metadata": {
        "id": "vX982RZzjxHd"
      },
      "id": "vX982RZzjxHd"
    },
    {
      "cell_type": "markdown",
      "source": [
        "This is particularly useful if we are searching something using a query:"
      ],
      "metadata": {
        "id": "bL2SFAA4jljR"
      },
      "id": "bL2SFAA4jljR"
    },
    {
      "cell_type": "code",
      "execution_count": null,
      "id": "678eed75",
      "metadata": {
        "id": "678eed75"
      },
      "outputs": [],
      "source": [
        "query = \"How large is a blue whales heart?\"\n",
        "query_embedding = model.encode([query])\n",
        "similarities = model.similarity(query_embedding, embeddings)\n",
        "print(similarities)"
      ]
    },
    {
      "cell_type": "markdown",
      "source": [
        "Looks good! Now we can then select the most similar context to add to the prompt:"
      ],
      "metadata": {
        "id": "b5gCcfjQj_kC"
      },
      "id": "b5gCcfjQj_kC"
    },
    {
      "cell_type": "code",
      "source": [
        "best_index = similarities.squeeze().argmax().item() # get the index of the highest similarity"
      ],
      "metadata": {
        "id": "jJ_QD1nplX0i"
      },
      "id": "jJ_QD1nplX0i",
      "execution_count": null,
      "outputs": []
    },
    {
      "cell_type": "code",
      "source": [
        "prompt = \"Answer the Question. \\nQuery:\" + query + \"\\nContext: \" + sentences[best_index]\n",
        "print(prompt)"
      ],
      "metadata": {
        "id": "jqXe_FLaj-_4"
      },
      "id": "jqXe_FLaj-_4",
      "execution_count": null,
      "outputs": []
    },
    {
      "cell_type": "markdown",
      "source": [
        "We can try and"
      ],
      "metadata": {
        "id": "GapL12k0l7RC"
      },
      "id": "GapL12k0l7RC"
    },
    {
      "cell_type": "code",
      "execution_count": null,
      "id": "e39dfac2",
      "metadata": {
        "id": "e39dfac2"
      },
      "outputs": [],
      "source": [
        "from datasets import load_dataset\n",
        "\n",
        "dataset = load_dataset(\"rag-datasets/rag-mini-wikipedia\", \"text-corpus\")"
      ]
    },
    {
      "cell_type": "code",
      "source": [
        "# Always clean + use this corpus consistently\n",
        "corpus = []\n",
        "for item in dataset[\"passages\"]:\n",
        "    text = str(item).strip()\n",
        "    if text:\n",
        "        corpus.append(text)\n",
        "\n",
        "# Embedding model\n",
        "print(\"Encoding corpus...\")\n",
        "embedder = SentenceTransformer(\"all-MiniLM-L6-v2\")\n",
        "corpus_embeddings = embedder.encode(corpus, convert_to_tensor=True, device='cpu')\n",
        "corpus_embeddings_np = corpus_embeddings.numpy()\n",
        "\n",
        "# FAISS index\n",
        "index = faiss.IndexFlatL2(corpus_embeddings_np.shape[1])\n",
        "index.add(corpus_embeddings_np)\n",
        "\n",
        "# Reranker model\n",
        "# reranker = CrossEncoder(\"cross-encoder/ms-marco-MiniLM-L-6-v2\")\n",
        "\n",
        "# Generator (choose one: local HF model or OpenAI)\n",
        "tokenizer = AutoTokenizer.from_pretrained(\"mistralai/Mistral-7B-Instruct-v0.3\")\n",
        "model = AutoModelForCausalLM.from_pretrained(\"mistralai/Mistral-7B-Instruct-v0.3\", torch_dtype=torch.float16)\n",
        "generator = pipeline(\"text-generation\", model=model, tokenizer=tokenizer, max_new_tokens=150)\n",
        "\n",
        "@spaces.GPU\n",
        "def rag_pipeline(query):\n",
        "    # Embed query\n",
        "    query_embedding = embedder.encode([query], convert_to_tensor=True, device='cpu').numpy()\n",
        "\n",
        "    # Retrieve top-k from FAISS\n",
        "    D, I = index.search(query_embedding, k=5)\n",
        "    retrieved_docs = [corpus[idx] for idx in I[0]]\n",
        "\n",
        "    print(\"Retrieved indices:\", I[0])\n",
        "    print(\"Retrieved docs:\")\n",
        "    for doc in retrieved_docs:\n",
        "        print(\"-\", repr(doc))\n",
        "\n",
        "    # # Rerank\n",
        "    # rerank_pairs = [[str(query), str(doc)] for doc in retrieved_docs]\n",
        "    # scores = reranker.predict(rerank_pairs)\n",
        "    # reranked_docs = [doc for _, doc in sorted(zip(scores, retrieved_docs), reverse=True)]\n",
        "\n",
        "    # Combine for context\n",
        "    context = \"\\n\\n\".join(retrieved_docs[:2])\n",
        "    prompt = f\"\"\"Answer the following question using the provided context.\\n\\nContext:\\n{context}\\n\\nQuestion: {query}\\nAnswer:\"\"\"\n",
        "\n",
        "    # Generate\n",
        "    response = generator(prompt)[0][\"generated_text\"]\n",
        "    return response.split(\"Answer:\")[-1].strip()"
      ],
      "metadata": {
        "id": "tksS1nmTl5Th"
      },
      "id": "tksS1nmTl5Th",
      "execution_count": null,
      "outputs": []
    }
  ],
  "metadata": {
    "language_info": {
      "name": "python"
    },
    "colab": {
      "provenance": [],
      "gpuType": "T4",
      "include_colab_link": true
    },
    "kernelspec": {
      "name": "python3",
      "display_name": "Python 3"
    },
    "accelerator": "GPU"
  },
  "nbformat": 4,
  "nbformat_minor": 5
}