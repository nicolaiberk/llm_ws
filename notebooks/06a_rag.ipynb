{
  "cells": [
    {
      "cell_type": "markdown",
      "metadata": {
        "id": "view-in-github",
        "colab_type": "text"
      },
      "source": [
        "<a href=\"https://colab.research.google.com/github/nicolaiberk/llm_ws/blob/main/notebooks/06a_rag.ipynb\" target=\"_parent\"><img src=\"https://colab.research.google.com/assets/colab-badge.svg\" alt=\"Open In Colab\"/></a>"
      ]
    },
    {
      "cell_type": "markdown",
      "id": "tpYlhhRUgXsU",
      "metadata": {
        "id": "tpYlhhRUgXsU"
      },
      "source": [
        "# Informed Prompting"
      ]
    },
    {
      "cell_type": "markdown",
      "source": [
        "In an earlier session, we have explored how to query generative models and how these queries can be enriched with examples (or 'context') to provide more information to the model in one- or few-shot queries. In these cases, we provided the *same* context disregarding the query entry. Today, we will see that model responses can be substantially improved by carefully selecting the context provided to the model."
      ],
      "metadata": {
        "id": "CpxCwvrY7kEF"
      },
      "id": "CpxCwvrY7kEF"
    },
    {
      "cell_type": "markdown",
      "id": "J0ohUe4ThmVZ",
      "metadata": {
        "id": "J0ohUe4ThmVZ"
      },
      "source": [
        "> ❗ ACTIVATE THE GPU BY SELECTING RUNTIME IN THE UPPER RIGHT > CONNECT TO RUNTIME > T4 GPU"
      ]
    },
    {
      "cell_type": "code",
      "execution_count": 36,
      "id": "HNtMppQlga_f",
      "metadata": {
        "id": "HNtMppQlga_f",
        "collapsed": true,
        "outputId": "b4552406-4498-4924-8f97-09c4feb485e6",
        "colab": {
          "base_uri": "https://localhost:8080/"
        }
      },
      "outputs": [
        {
          "output_type": "stream",
          "name": "stdout",
          "text": [
            "Requirement already satisfied: sentence_transformers in /usr/local/lib/python3.12/dist-packages (5.1.0)\n",
            "Requirement already satisfied: datasets in /usr/local/lib/python3.12/dist-packages (4.0.0)\n",
            "Requirement already satisfied: faiss-gpu-cu12 in /usr/local/lib/python3.12/dist-packages (1.12.0)\n",
            "Requirement already satisfied: transformers in /usr/local/lib/python3.12/dist-packages (4.56.1)\n",
            "Requirement already satisfied: torch in /usr/local/lib/python3.12/dist-packages (2.8.0+cu126)\n",
            "Requirement already satisfied: tqdm in /usr/local/lib/python3.12/dist-packages (from sentence_transformers) (4.67.1)\n",
            "Requirement already satisfied: scikit-learn in /usr/local/lib/python3.12/dist-packages (from sentence_transformers) (1.6.1)\n",
            "Requirement already satisfied: scipy in /usr/local/lib/python3.12/dist-packages (from sentence_transformers) (1.16.2)\n",
            "Requirement already satisfied: huggingface-hub>=0.20.0 in /usr/local/lib/python3.12/dist-packages (from sentence_transformers) (0.35.0)\n",
            "Requirement already satisfied: Pillow in /usr/local/lib/python3.12/dist-packages (from sentence_transformers) (11.3.0)\n",
            "Requirement already satisfied: typing_extensions>=4.5.0 in /usr/local/lib/python3.12/dist-packages (from sentence_transformers) (4.15.0)\n",
            "Requirement already satisfied: filelock in /usr/local/lib/python3.12/dist-packages (from datasets) (3.19.1)\n",
            "Requirement already satisfied: numpy>=1.17 in /usr/local/lib/python3.12/dist-packages (from datasets) (1.26.4)\n",
            "Requirement already satisfied: pyarrow>=15.0.0 in /usr/local/lib/python3.12/dist-packages (from datasets) (18.1.0)\n",
            "Requirement already satisfied: dill<0.3.9,>=0.3.0 in /usr/local/lib/python3.12/dist-packages (from datasets) (0.3.8)\n",
            "Requirement already satisfied: pandas in /usr/local/lib/python3.12/dist-packages (from datasets) (2.2.2)\n",
            "Requirement already satisfied: requests>=2.32.2 in /usr/local/lib/python3.12/dist-packages (from datasets) (2.32.4)\n",
            "Requirement already satisfied: xxhash in /usr/local/lib/python3.12/dist-packages (from datasets) (3.5.0)\n",
            "Requirement already satisfied: multiprocess<0.70.17 in /usr/local/lib/python3.12/dist-packages (from datasets) (0.70.16)\n",
            "Requirement already satisfied: fsspec<=2025.3.0,>=2023.1.0 in /usr/local/lib/python3.12/dist-packages (from fsspec[http]<=2025.3.0,>=2023.1.0->datasets) (2025.3.0)\n",
            "Requirement already satisfied: packaging in /usr/local/lib/python3.12/dist-packages (from datasets) (25.0)\n",
            "Requirement already satisfied: pyyaml>=5.1 in /usr/local/lib/python3.12/dist-packages (from datasets) (6.0.2)\n",
            "Requirement already satisfied: nvidia-cuda-runtime-cu12>=12.1.105 in /usr/local/lib/python3.12/dist-packages (from faiss-gpu-cu12) (12.6.77)\n",
            "Requirement already satisfied: nvidia-cublas-cu12>=12.1.3.1 in /usr/local/lib/python3.12/dist-packages (from faiss-gpu-cu12) (12.6.4.1)\n",
            "Requirement already satisfied: regex!=2019.12.17 in /usr/local/lib/python3.12/dist-packages (from transformers) (2024.11.6)\n",
            "Requirement already satisfied: tokenizers<=0.23.0,>=0.22.0 in /usr/local/lib/python3.12/dist-packages (from transformers) (0.22.0)\n",
            "Requirement already satisfied: safetensors>=0.4.3 in /usr/local/lib/python3.12/dist-packages (from transformers) (0.6.2)\n",
            "Requirement already satisfied: setuptools in /usr/local/lib/python3.12/dist-packages (from torch) (75.2.0)\n",
            "Requirement already satisfied: sympy>=1.13.3 in /usr/local/lib/python3.12/dist-packages (from torch) (1.13.3)\n",
            "Requirement already satisfied: networkx in /usr/local/lib/python3.12/dist-packages (from torch) (3.5)\n",
            "Requirement already satisfied: jinja2 in /usr/local/lib/python3.12/dist-packages (from torch) (3.1.6)\n",
            "Requirement already satisfied: nvidia-cuda-nvrtc-cu12==12.6.77 in /usr/local/lib/python3.12/dist-packages (from torch) (12.6.77)\n",
            "Requirement already satisfied: nvidia-cuda-cupti-cu12==12.6.80 in /usr/local/lib/python3.12/dist-packages (from torch) (12.6.80)\n",
            "Requirement already satisfied: nvidia-cudnn-cu12==9.10.2.21 in /usr/local/lib/python3.12/dist-packages (from torch) (9.10.2.21)\n",
            "Requirement already satisfied: nvidia-cufft-cu12==11.3.0.4 in /usr/local/lib/python3.12/dist-packages (from torch) (11.3.0.4)\n",
            "Requirement already satisfied: nvidia-curand-cu12==10.3.7.77 in /usr/local/lib/python3.12/dist-packages (from torch) (10.3.7.77)\n",
            "Requirement already satisfied: nvidia-cusolver-cu12==11.7.1.2 in /usr/local/lib/python3.12/dist-packages (from torch) (11.7.1.2)\n",
            "Requirement already satisfied: nvidia-cusparse-cu12==12.5.4.2 in /usr/local/lib/python3.12/dist-packages (from torch) (12.5.4.2)\n",
            "Requirement already satisfied: nvidia-cusparselt-cu12==0.7.1 in /usr/local/lib/python3.12/dist-packages (from torch) (0.7.1)\n",
            "Requirement already satisfied: nvidia-nccl-cu12==2.27.3 in /usr/local/lib/python3.12/dist-packages (from torch) (2.27.3)\n",
            "Requirement already satisfied: nvidia-nvtx-cu12==12.6.77 in /usr/local/lib/python3.12/dist-packages (from torch) (12.6.77)\n",
            "Requirement already satisfied: nvidia-nvjitlink-cu12==12.6.85 in /usr/local/lib/python3.12/dist-packages (from torch) (12.6.85)\n",
            "Requirement already satisfied: nvidia-cufile-cu12==1.11.1.6 in /usr/local/lib/python3.12/dist-packages (from torch) (1.11.1.6)\n",
            "Requirement already satisfied: triton==3.4.0 in /usr/local/lib/python3.12/dist-packages (from torch) (3.4.0)\n",
            "Requirement already satisfied: aiohttp!=4.0.0a0,!=4.0.0a1 in /usr/local/lib/python3.12/dist-packages (from fsspec[http]<=2025.3.0,>=2023.1.0->datasets) (3.12.15)\n",
            "Requirement already satisfied: hf-xet<2.0.0,>=1.1.3 in /usr/local/lib/python3.12/dist-packages (from huggingface-hub>=0.20.0->sentence_transformers) (1.1.10)\n",
            "Requirement already satisfied: charset_normalizer<4,>=2 in /usr/local/lib/python3.12/dist-packages (from requests>=2.32.2->datasets) (3.4.3)\n",
            "Requirement already satisfied: idna<4,>=2.5 in /usr/local/lib/python3.12/dist-packages (from requests>=2.32.2->datasets) (3.10)\n",
            "Requirement already satisfied: urllib3<3,>=1.21.1 in /usr/local/lib/python3.12/dist-packages (from requests>=2.32.2->datasets) (2.5.0)\n",
            "Requirement already satisfied: certifi>=2017.4.17 in /usr/local/lib/python3.12/dist-packages (from requests>=2.32.2->datasets) (2025.8.3)\n",
            "Requirement already satisfied: mpmath<1.4,>=1.1.0 in /usr/local/lib/python3.12/dist-packages (from sympy>=1.13.3->torch) (1.3.0)\n",
            "Requirement already satisfied: MarkupSafe>=2.0 in /usr/local/lib/python3.12/dist-packages (from jinja2->torch) (3.0.2)\n",
            "Requirement already satisfied: python-dateutil>=2.8.2 in /usr/local/lib/python3.12/dist-packages (from pandas->datasets) (2.9.0.post0)\n",
            "Requirement already satisfied: pytz>=2020.1 in /usr/local/lib/python3.12/dist-packages (from pandas->datasets) (2025.2)\n",
            "Requirement already satisfied: tzdata>=2022.7 in /usr/local/lib/python3.12/dist-packages (from pandas->datasets) (2025.2)\n",
            "Requirement already satisfied: joblib>=1.2.0 in /usr/local/lib/python3.12/dist-packages (from scikit-learn->sentence_transformers) (1.5.2)\n",
            "Requirement already satisfied: threadpoolctl>=3.1.0 in /usr/local/lib/python3.12/dist-packages (from scikit-learn->sentence_transformers) (3.6.0)\n",
            "Requirement already satisfied: aiohappyeyeballs>=2.5.0 in /usr/local/lib/python3.12/dist-packages (from aiohttp!=4.0.0a0,!=4.0.0a1->fsspec[http]<=2025.3.0,>=2023.1.0->datasets) (2.6.1)\n",
            "Requirement already satisfied: aiosignal>=1.4.0 in /usr/local/lib/python3.12/dist-packages (from aiohttp!=4.0.0a0,!=4.0.0a1->fsspec[http]<=2025.3.0,>=2023.1.0->datasets) (1.4.0)\n",
            "Requirement already satisfied: attrs>=17.3.0 in /usr/local/lib/python3.12/dist-packages (from aiohttp!=4.0.0a0,!=4.0.0a1->fsspec[http]<=2025.3.0,>=2023.1.0->datasets) (25.3.0)\n",
            "Requirement already satisfied: frozenlist>=1.1.1 in /usr/local/lib/python3.12/dist-packages (from aiohttp!=4.0.0a0,!=4.0.0a1->fsspec[http]<=2025.3.0,>=2023.1.0->datasets) (1.7.0)\n",
            "Requirement already satisfied: multidict<7.0,>=4.5 in /usr/local/lib/python3.12/dist-packages (from aiohttp!=4.0.0a0,!=4.0.0a1->fsspec[http]<=2025.3.0,>=2023.1.0->datasets) (6.6.4)\n",
            "Requirement already satisfied: propcache>=0.2.0 in /usr/local/lib/python3.12/dist-packages (from aiohttp!=4.0.0a0,!=4.0.0a1->fsspec[http]<=2025.3.0,>=2023.1.0->datasets) (0.3.2)\n",
            "Requirement already satisfied: yarl<2.0,>=1.17.0 in /usr/local/lib/python3.12/dist-packages (from aiohttp!=4.0.0a0,!=4.0.0a1->fsspec[http]<=2025.3.0,>=2023.1.0->datasets) (1.20.1)\n",
            "Requirement already satisfied: six>=1.5 in /usr/local/lib/python3.12/dist-packages (from python-dateutil>=2.8.2->pandas->datasets) (1.17.0)\n"
          ]
        }
      ],
      "source": [
        "!pip install sentence_transformers datasets faiss-gpu-cu12 transformers torch"
      ]
    },
    {
      "cell_type": "markdown",
      "id": "khx1F651gkyk",
      "metadata": {
        "id": "khx1F651gkyk"
      },
      "source": [
        "> ❗ RESTART THE NOTEBOOK (DROPDOWN NEXT TO RUN ALL > RESTART SESSION)"
      ]
    },
    {
      "cell_type": "markdown",
      "id": "9q9nSkTKgzRa",
      "metadata": {
        "id": "9q9nSkTKgzRa"
      },
      "source": [
        "The [sentence-transformers](https://sbert.net/) library provides an ecosystem of models designed specifically for efficient embedding generation. It works very similar to transformers:"
      ]
    },
    {
      "cell_type": "code",
      "execution_count": 37,
      "id": "SVn9mPt3f4ag",
      "metadata": {
        "id": "SVn9mPt3f4ag",
        "outputId": "61fde775-8b8d-4c91-df47-830fe04c019a",
        "colab": {
          "base_uri": "https://localhost:8080/"
        }
      },
      "outputs": [
        {
          "output_type": "stream",
          "name": "stdout",
          "text": [
            "Using device: cuda\n"
          ]
        }
      ],
      "source": [
        "from sentence_transformers import SentenceTransformer, CrossEncoder\n",
        "import torch\n",
        "\n",
        "# Check for GPU availability and set device\n",
        "device = torch.device(\"cuda\" if torch.cuda.is_available() else \"cpu\")\n",
        "print(f\"Using device: {device}\")"
      ]
    },
    {
      "cell_type": "markdown",
      "id": "iGeFnesYi9LG",
      "metadata": {
        "id": "iGeFnesYi9LG"
      },
      "source": [
        "We load a pretrained model:"
      ]
    },
    {
      "cell_type": "code",
      "execution_count": 38,
      "id": "4dffabef",
      "metadata": {
        "id": "4dffabef"
      },
      "outputs": [],
      "source": [
        "similarity_model = SentenceTransformer(\"sentence-transformers/all-MiniLM-L6-v2\").to(device)"
      ]
    },
    {
      "cell_type": "markdown",
      "id": "QD20gtKIjA9q",
      "metadata": {
        "id": "QD20gtKIjA9q"
      },
      "source": [
        "Then we encode some sentences of interest:"
      ]
    },
    {
      "cell_type": "code",
      "execution_count": 68,
      "id": "ljGutlG8i0GK",
      "metadata": {
        "id": "ljGutlG8i0GK"
      },
      "outputs": [],
      "source": [
        "sentences = [\n",
        "    \"The Great Wall of China was built over several dynasties, with most of the existing structure dating from the Ming Dynasty (1368-1644).\",\n",
        "    \"Polar bears and Kodiak bears are the world's largest land carnivores, with most adult males weighing 300-600 kg 660-1320 lb; adult females are about half the size of males.\",\n",
        "    \"Studies show that the Dunning-Kruger effect causes people with low ability in a domain to overestimate their competence in that area.\",\n",
        "]"
      ]
    },
    {
      "cell_type": "markdown",
      "id": "gbIPakrrjRVU",
      "metadata": {
        "id": "gbIPakrrjRVU"
      },
      "source": [
        "And encode them as embeddings:"
      ]
    },
    {
      "cell_type": "code",
      "execution_count": 69,
      "id": "9HfxnqeEi2Yl",
      "metadata": {
        "id": "9HfxnqeEi2Yl",
        "outputId": "3a0d2605-9f7b-42d6-ea7f-b02fb905da70",
        "colab": {
          "base_uri": "https://localhost:8080/"
        }
      },
      "outputs": [
        {
          "output_type": "stream",
          "name": "stdout",
          "text": [
            "(3, 384)\n"
          ]
        }
      ],
      "source": [
        "\n",
        "# 2. Calculate embeddings by calling model.encode()\n",
        "embeddings = similarity_model.encode(sentences)\n",
        "print(embeddings.shape)"
      ]
    },
    {
      "cell_type": "markdown",
      "id": "EjX-aQLXjgHC",
      "metadata": {
        "id": "EjX-aQLXjgHC"
      },
      "source": [
        "We can then calculate the cosine similarity of the sentences with each other:"
      ]
    },
    {
      "cell_type": "code",
      "execution_count": 70,
      "id": "yzRaQBGCi3rF",
      "metadata": {
        "id": "yzRaQBGCi3rF",
        "outputId": "b2a68126-6e27-4eaa-fbb8-a56309ac34cd",
        "colab": {
          "base_uri": "https://localhost:8080/"
        }
      },
      "outputs": [
        {
          "output_type": "stream",
          "name": "stdout",
          "text": [
            "tensor([[ 1.0000, -0.0065, -0.0810],\n",
            "        [-0.0065,  1.0000, -0.0898],\n",
            "        [-0.0810, -0.0898,  1.0000]])\n"
          ]
        }
      ],
      "source": [
        "# 3. Calculate the embedding similarities\n",
        "similarities = similarity_model.similarity(embeddings, embeddings)\n",
        "print(similarities)"
      ]
    },
    {
      "cell_type": "markdown",
      "id": "vX982RZzjxHd",
      "metadata": {
        "id": "vX982RZzjxHd"
      },
      "source": [
        "## Similarity Search"
      ]
    },
    {
      "cell_type": "markdown",
      "id": "bL2SFAA4jljR",
      "metadata": {
        "id": "bL2SFAA4jljR"
      },
      "source": [
        "This is particularly useful if we are searching something using a query:"
      ]
    },
    {
      "cell_type": "code",
      "execution_count": 92,
      "id": "678eed75",
      "metadata": {
        "id": "678eed75",
        "outputId": "aa777d45-bb8c-40a1-a6a6-b17c4440974a",
        "colab": {
          "base_uri": "https://localhost:8080/"
        }
      },
      "outputs": [
        {
          "output_type": "stream",
          "name": "stdout",
          "text": [
            "tensor([[ 0.0132,  0.6603, -0.0465]])\n"
          ]
        }
      ],
      "source": [
        "query = \"Are there other bears as large as polar bears??\"\n",
        "query_embedding = similarity_model.encode([query])\n",
        "similarities = similarity_model.similarity(query_embedding, embeddings)\n",
        "print(similarities)"
      ]
    },
    {
      "cell_type": "markdown",
      "id": "b5gCcfjQj_kC",
      "metadata": {
        "id": "b5gCcfjQj_kC"
      },
      "source": [
        "Looks good! Now we can then select the most similar context to add to the prompt:"
      ]
    },
    {
      "cell_type": "code",
      "execution_count": 93,
      "id": "jJ_QD1nplX0i",
      "metadata": {
        "id": "jJ_QD1nplX0i"
      },
      "outputs": [],
      "source": [
        "best_index = similarities.squeeze().argmax().item() # get the index of the highest similarity"
      ]
    },
    {
      "cell_type": "markdown",
      "id": "GapL12k0l7RC",
      "metadata": {
        "id": "GapL12k0l7RC"
      },
      "source": [
        "We can now add this context to our query, providing the relevant information to our model:\n",
        "\n"
      ]
    },
    {
      "cell_type": "code",
      "execution_count": 94,
      "id": "jqXe_FLaj-_4",
      "metadata": {
        "id": "jqXe_FLaj-_4",
        "outputId": "c2bed594-5293-40f9-8003-60c1c94d3393",
        "colab": {
          "base_uri": "https://localhost:8080/"
        }
      },
      "outputs": [
        {
          "output_type": "stream",
          "name": "stdout",
          "text": [
            "[{'role': 'system', 'content': 'Answer the Question.'}, {'role': 'user', 'content': 'Are there other bears as large as polar bears??'}, {'role': 'system', 'content': \"Context: Polar bears and Kodiak bears are the world's largest land carnivores, with most adult males weighing 300-600 kg 660-1320 lb; adult females are about half the size of males.\"}]\n"
          ]
        }
      ],
      "source": [
        "prompt = [\n",
        "    {\"role\": \"system\", \"content\": \"Answer the Question.\"},\n",
        "    {\"role\": \"user\", \"content\": query},\n",
        "    {\"role\": \"system\", \"content\": \"Context: \" + sentences[best_index]}\n",
        "]\n",
        "print(prompt)"
      ]
    },
    {
      "cell_type": "markdown",
      "source": [
        "Let's provide this prompt to the model and see how it responds (it will take a moment to load the model):"
      ],
      "metadata": {
        "id": "1MWa3ReKAC_S"
      },
      "id": "1MWa3ReKAC_S"
    },
    {
      "cell_type": "code",
      "source": [
        "from transformers import AutoTokenizer, AutoModelForCausalLM, pipeline\n",
        "import torch\n",
        "\n",
        "tokenizer = AutoTokenizer.from_pretrained(\"HuggingFaceTB/SmolLM2-1.7B-Instruct\")\n",
        "model = AutoModelForCausalLM.from_pretrained(\"HuggingFaceTB/SmolLM2-1.7B-Instruct\", dtype=torch.float16).to(device)"
      ],
      "metadata": {
        "id": "eIvLC3PI9ka_"
      },
      "id": "eIvLC3PI9ka_",
      "execution_count": 95,
      "outputs": []
    },
    {
      "cell_type": "code",
      "source": [
        "inputs = tokenizer.apply_chat_template(\n",
        "\tprompt,\n",
        "\tadd_generation_prompt=True,\n",
        "  padding=True,\n",
        "\treturn_dict=True, # retains attention mask\n",
        "\treturn_tensors=\"pt\", # returns tensors\n",
        ").to(model.device) # more efficient to put on device"
      ],
      "metadata": {
        "id": "UrYNIb4uABWy"
      },
      "id": "UrYNIb4uABWy",
      "execution_count": 96,
      "outputs": []
    },
    {
      "cell_type": "code",
      "source": [
        "output = model.generate(**inputs, max_new_tokens=100)"
      ],
      "metadata": {
        "id": "J809FFF5-qLc"
      },
      "id": "J809FFF5-qLc",
      "execution_count": 97,
      "outputs": []
    },
    {
      "cell_type": "code",
      "source": [
        "tokenizer.decode(output[0])"
      ],
      "metadata": {
        "id": "66kGsu9b_zry",
        "outputId": "3a0678ac-df8d-440f-94f6-351f1a17cc97",
        "colab": {
          "base_uri": "https://localhost:8080/",
          "height": 73
        }
      },
      "id": "66kGsu9b_zry",
      "execution_count": 98,
      "outputs": [
        {
          "output_type": "execute_result",
          "data": {
            "text/plain": [
              "\"<|im_start|>system\\nAnswer the Question.<|im_end|>\\n<|im_start|>user\\nAre there other bears as large as polar bears??<|im_end|>\\n<|im_start|>system\\nContext: Polar bears and Kodiak bears are the world's largest land carnivores, with most adult males weighing 300-600 kg 660-1320 lb; adult females are about half the size of males.<|im_end|>\\n<|im_start|>assistant\\nYes, there are other large land carnivores that are similar in size to polar bears and Kodiak bears. Some examples include:\\n\\n1. Brown bears (Ursus arctos): Also known as grizzly bears, brown bears are the second-largest land carnivores after polar bears. They can weigh between 130-550 kg (290-1210 lb) and reach lengths of up to 3.5 meters (11.5 feet).\""
            ],
            "application/vnd.google.colaboratory.intrinsic+json": {
              "type": "string"
            }
          },
          "metadata": {},
          "execution_count": 98
        }
      ]
    },
    {
      "cell_type": "markdown",
      "source": [
        "## Retrieval-Augmented Generation"
      ],
      "metadata": {
        "id": "DrosvFVOEYTI"
      },
      "id": "DrosvFVOEYTI"
    },
    {
      "cell_type": "markdown",
      "source": [
        "This, of course is more useful when you have a larger set of information to choose from to provide the context. Let's therefore get a mini-version of wikipedia content to choose the relevant context from. This data is conveniently available on the huggingface hub:"
      ],
      "metadata": {
        "id": "m_L-kLGsAqdP"
      },
      "id": "m_L-kLGsAqdP"
    },
    {
      "cell_type": "code",
      "execution_count": 99,
      "id": "e39dfac2",
      "metadata": {
        "id": "e39dfac2"
      },
      "outputs": [],
      "source": [
        "from datasets import load_dataset\n",
        "\n",
        "dataset = load_dataset(\"rag-datasets/rag-mini-wikipedia\", \"text-corpus\")"
      ]
    },
    {
      "cell_type": "markdown",
      "source": [
        "As you can see below, the data consists of different text passages from Wikipedia articles:"
      ],
      "metadata": {
        "id": "z7M1Q-N7BHVv"
      },
      "id": "z7M1Q-N7BHVv"
    },
    {
      "cell_type": "code",
      "source": [
        "dataset['passages'][1234]"
      ],
      "metadata": {
        "id": "NHQn6xMVBCI_",
        "outputId": "8e460d5d-9066-47ff-f3c9-929210e4a4ed",
        "colab": {
          "base_uri": "https://localhost:8080/"
        }
      },
      "id": "NHQn6xMVBCI_",
      "execution_count": 100,
      "outputs": [
        {
          "output_type": "execute_result",
          "data": {
            "text/plain": [
              "{'passage': 'The ears are also used in certain displays of aggression and during the males\\' mating period. If an elephant wants to intimidate a predator or rival, it will spread its ears out wide to make itself look more massive and imposing. During the breeding season, males give off an odour from a gland located behind their eyes. Joyce Poole, a well-known elephant researcher, has theorized that the males will fan their ears in an effort to help propel this \"elephant cologne\" great distances.',\n",
              " 'id': 1235}"
            ]
          },
          "metadata": {},
          "execution_count": 100
        }
      ]
    },
    {
      "cell_type": "markdown",
      "source": [
        "Let's clean this corpus up a little bit and encode all texts to embeddings. We start by writing the cleaning function removing empty texts and writing all texts to a list:"
      ],
      "metadata": {
        "id": "wMwgkWWABm9e"
      },
      "id": "wMwgkWWABm9e"
    },
    {
      "cell_type": "code",
      "source": [
        "import re\n",
        "\n",
        "## cleanup function\n",
        "def clean_text(example):\n",
        "    text = example[\"passage\"]\n",
        "    text = re.sub(r\"[^a-zA-Z0-9\\s.,!?;:'/\\\"-]\", \"\", text)  # remove weird chars\n",
        "    text = re.sub(r\"\\s+\", \" \", text).strip()  # normalize spaces\n",
        "    example[\"passage\"] = text\n",
        "    return example"
      ],
      "metadata": {
        "id": "LSk-O1YOBuLe"
      },
      "id": "LSk-O1YOBuLe",
      "execution_count": 114,
      "outputs": []
    },
    {
      "cell_type": "markdown",
      "source": [
        "And apply it to our texts:"
      ],
      "metadata": {
        "id": "f9icy1zoCP23"
      },
      "id": "f9icy1zoCP23"
    },
    {
      "cell_type": "code",
      "source": [
        "dataset = dataset.map(clean_text)"
      ],
      "metadata": {
        "id": "D53KCQraCB-u",
        "outputId": "287ae648-3fb7-4917-81cd-4f7e2cd9a042",
        "colab": {
          "base_uri": "https://localhost:8080/",
          "height": 49,
          "referenced_widgets": [
            "513a9d03fa8a437fa6180e1aedee9d0f",
            "97aada8424a24b04b2015648ace5f6fd",
            "9ef33319d3694f8a8da5cc32cf14b136",
            "a1d6c0e34f4040a28c460dfd16ed3379",
            "5703191dbcb94432815cfe30ee8d532b",
            "44d60dde3fc54815aa404c077f736f33",
            "9c2f425c287b4891b78b8bd91d93f80d",
            "7497d346effe4c18b0013dc6900e86a9",
            "efa420d65c9c4d2b905cd500e818d7ac",
            "53f9fa4a4311483d8fb37f89fa07bf3f",
            "64383bf98db14a48adb61610087f116e"
          ]
        }
      },
      "id": "D53KCQraCB-u",
      "execution_count": 115,
      "outputs": [
        {
          "output_type": "display_data",
          "data": {
            "text/plain": [
              "Map:   0%|          | 0/3197 [00:00<?, ? examples/s]"
            ],
            "application/vnd.jupyter.widget-view+json": {
              "version_major": 2,
              "version_minor": 0,
              "model_id": "513a9d03fa8a437fa6180e1aedee9d0f"
            }
          },
          "metadata": {}
        }
      ]
    },
    {
      "cell_type": "markdown",
      "source": [
        "Lastly, we remove empty texts and reset the index:"
      ],
      "metadata": {
        "id": "WpN-5rSOH6Y-"
      },
      "id": "WpN-5rSOH6Y-"
    },
    {
      "cell_type": "code",
      "source": [
        "dataset = dataset.filter(lambda example: example[\"passage\"].strip() != \"\")"
      ],
      "metadata": {
        "id": "8jYsnXmbH-CQ",
        "outputId": "3641b2f2-51ea-41ce-b3cd-d2223f3c90c9",
        "colab": {
          "base_uri": "https://localhost:8080/",
          "height": 49,
          "referenced_widgets": [
            "c5228b7a4d5a4d18908f97e75db7d8f8",
            "2cadd4aee96249bb9fe27b3b2a530361",
            "97d4076eb0934ecbb79ec9efcd217b16",
            "f76637b6740548d6a2d1277794b0af10",
            "18e8817e0b1042b2b590096410781009",
            "301579f7a688474e99e6e4b614478022",
            "49d9475104614330a1f545c0a1fe0479",
            "c0c73167062849baba026749122847cd",
            "9c929792d7b242cc93911f4415b752c3",
            "c7a72ea737c3468cab55e110714b25f2",
            "779b3cd67caa4ac5ab3b763288147928"
          ]
        }
      },
      "id": "8jYsnXmbH-CQ",
      "execution_count": 116,
      "outputs": [
        {
          "output_type": "display_data",
          "data": {
            "text/plain": [
              "Filter:   0%|          | 0/3197 [00:00<?, ? examples/s]"
            ],
            "application/vnd.jupyter.widget-view+json": {
              "version_major": 2,
              "version_minor": 0,
              "model_id": "c5228b7a4d5a4d18908f97e75db7d8f8"
            }
          },
          "metadata": {}
        }
      ]
    },
    {
      "cell_type": "markdown",
      "source": [
        "Now we can use the embedding model from above to generate the embeddings:"
      ],
      "metadata": {
        "id": "SfNLc9fDC_h6"
      },
      "id": "SfNLc9fDC_h6"
    },
    {
      "cell_type": "code",
      "source": [
        "corpus_embeddings = similarity_model.encode([text for text in dataset[\"passages\"]['passage']], convert_to_tensor=True).cpu().numpy()"
      ],
      "metadata": {
        "id": "cVoBSNuCCOCn"
      },
      "id": "cVoBSNuCCOCn",
      "execution_count": 117,
      "outputs": []
    },
    {
      "cell_type": "code",
      "source": [
        "corpus_embeddings.shape # we get our vectors"
      ],
      "metadata": {
        "id": "ybyKPStGEkZH",
        "outputId": "7621c500-849f-43ff-d517-9605e37f2758",
        "colab": {
          "base_uri": "https://localhost:8080/"
        }
      },
      "id": "ybyKPStGEkZH",
      "execution_count": 118,
      "outputs": [
        {
          "output_type": "execute_result",
          "data": {
            "text/plain": [
              "(3197, 384)"
            ]
          },
          "metadata": {},
          "execution_count": 118
        }
      ]
    },
    {
      "cell_type": "markdown",
      "source": [
        "We then use a library called [`faiss`](https://github.com/facebookresearch/faiss) to provide fast search through our vectors - this is especially important when we have large context datasets."
      ],
      "metadata": {
        "id": "M6rGwbl2HNWu"
      },
      "id": "M6rGwbl2HNWu"
    },
    {
      "cell_type": "code",
      "source": [
        "import faiss\n",
        "\n",
        "# FAISS index\n",
        "index = faiss.IndexFlatL2(corpus_embeddings.shape[1])\n",
        "index.add(corpus_embeddings)"
      ],
      "metadata": {
        "id": "CBOcpxy7F0s4"
      },
      "id": "CBOcpxy7F0s4",
      "execution_count": 119,
      "outputs": []
    },
    {
      "cell_type": "code",
      "source": [
        "query_embedding = similarity_model.encode([query], convert_to_tensor=True).to(device).cpu().numpy()"
      ],
      "metadata": {
        "id": "jKx123d5ItEq"
      },
      "id": "jKx123d5ItEq",
      "execution_count": 120,
      "outputs": []
    },
    {
      "cell_type": "code",
      "source": [
        "# Retrieve top-k from FAISS\n",
        "D, I = index.search(query_embedding, k=5)\n",
        "retrieved_docs = [dataset['passages'][int(idx)]['passage'] for idx in I[0]]"
      ],
      "metadata": {
        "id": "l7f1BxQqHX7e"
      },
      "id": "l7f1BxQqHX7e",
      "execution_count": 121,
      "outputs": []
    },
    {
      "cell_type": "code",
      "source": [
        "context = '\\n Context passage: '.join(retrieved_docs)\n",
        "print(context)"
      ],
      "metadata": {
        "id": "RbSRgA0VIfsH",
        "outputId": "2b4ac595-96b0-451f-a795-43c15e9c3fff",
        "colab": {
          "base_uri": "https://localhost:8080/"
        }
      },
      "id": "RbSRgA0VIfsH",
      "execution_count": 122,
      "outputs": [
        {
          "output_type": "stream",
          "name": "stdout",
          "text": [
            "Polar bears rank with the Kodiak bear as among the largest living land carnivores, and male polar bears may weigh twice as much as a Siberian tiger. Most adult males weigh 350 650 kg 770 1500 lb and measure 2.5 3.0 m 8.2 9.8 ft in length. Adult females are roughly half the size of males and normally weigh 150 250 kg 330 550 lb, measuring 2 2.5 m 6.6 8.2 ft, but double their weight during pregnancy. Stirling makes no mention of length, these are from SeaWorld The great difference in body size makes the polar bear among the most sexually dimorphic of mammals, surpassed only by the eared seals. At birth, cubs weigh only 600 700 g or about a pound and a half. The largest polar bear on record was a huge male, allegedly weighing 1002 kg 2200 lb shot at Kotzebue Sound in northwestern Alaska in 1960.\n",
            " Context passage: The polar bear Ursus maritimus is a bear native to the Arctic. Polar bears and Kodiak bears are the world's largest land carnivores, with most adult males weighing 300-600 kg 660-1320 lb; adult females are about half the size of males. Its fur is hollow and translucent, but usually appears as white or cream colored, thus providing the animal with effective camouflage. Its skin is actually black in color. Its thick blubber and fur insulate it against the cold. The bear has a short tail and small ears that help reduce heat loss, as well as a relatively small head and long, tapered body to streamline it for swimming.\n",
            " Context passage: The polar bears ears and tail are smaller than other bears, and its legs are stocky, as expected from Allen's rule for a northerly animal. Its feet are very large, however, presumably to distribute load like snowshoes when walking on snow or thin ice.\n",
            " Context passage: Polar bear\n",
            " Context passage: Polar bears are excellent swimmers and have been seen in open Arctic waters as far as from land. In some cases they spend half their time on ice floes. Their 12 cm 5 in layer of fat adds buoyancy in addition to insulating them from the cold. Recently, polar bears in the Arctic have undertaken longer than usual swims to find prey, resulting in four recorded drownings in the unusually large ice pack regression of 2005. .\n"
          ]
        }
      ]
    },
    {
      "cell_type": "code",
      "source": [
        "prompt = [\n",
        "    {\"role\": \"system\", \"content\": \"Answer the Question. If no relevant information is provided in the context, respond with 'I cannot answer this question based on the provided context'.\"},\n",
        "    {\"role\": \"user\", \"content\": query},\n",
        "    {\"role\": \"context\", \"content\": context}\n",
        "]"
      ],
      "metadata": {
        "id": "GgGC4JB5JJvr"
      },
      "id": "GgGC4JB5JJvr",
      "execution_count": 123,
      "outputs": []
    },
    {
      "cell_type": "markdown",
      "source": [
        "Tokenize the chat template and provide it to the model:"
      ],
      "metadata": {
        "id": "NI7OnLbQHUX-"
      },
      "id": "NI7OnLbQHUX-"
    },
    {
      "cell_type": "code",
      "source": [
        "inputs = tokenizer.apply_chat_template(\n",
        "\tprompt,\n",
        "\tadd_generation_prompt=True,\n",
        "  padding=True,\n",
        "\treturn_dict=True, # retains attention mask\n",
        "\treturn_tensors=\"pt\", # returns tensors\n",
        ").to(model.device) # more efficient to put on device"
      ],
      "metadata": {
        "id": "sF7gQIyoJss3"
      },
      "id": "sF7gQIyoJss3",
      "execution_count": 124,
      "outputs": []
    },
    {
      "cell_type": "code",
      "source": [
        "output = model.generate(**inputs, max_new_tokens=1000)"
      ],
      "metadata": {
        "id": "N2Sh4LK9J21y"
      },
      "id": "N2Sh4LK9J21y",
      "execution_count": 125,
      "outputs": []
    },
    {
      "cell_type": "code",
      "source": [
        "print(tokenizer.decode(output[0]))"
      ],
      "metadata": {
        "id": "yifjfboCJ-rg",
        "outputId": "ff9a2d5c-0f20-4e14-fde3-76afd827f64b",
        "colab": {
          "base_uri": "https://localhost:8080/"
        }
      },
      "id": "yifjfboCJ-rg",
      "execution_count": 126,
      "outputs": [
        {
          "output_type": "stream",
          "name": "stdout",
          "text": [
            "<|im_start|>system\n",
            "Answer the Question. If no relevant information is provided in the context, respond with 'I cannot answer this question based on the provided context'.<|im_end|>\n",
            "<|im_start|>user\n",
            "Are there other bears as large as polar bears??<|im_end|>\n",
            "<|im_start|>context\n",
            "Polar bears rank with the Kodiak bear as among the largest living land carnivores, and male polar bears may weigh twice as much as a Siberian tiger. Most adult males weigh 350 650 kg 770 1500 lb and measure 2.5 3.0 m 8.2 9.8 ft in length. Adult females are roughly half the size of males and normally weigh 150 250 kg 330 550 lb, measuring 2 2.5 m 6.6 8.2 ft, but double their weight during pregnancy. Stirling makes no mention of length, these are from SeaWorld The great difference in body size makes the polar bear among the most sexually dimorphic of mammals, surpassed only by the eared seals. At birth, cubs weigh only 600 700 g or about a pound and a half. The largest polar bear on record was a huge male, allegedly weighing 1002 kg 2200 lb shot at Kotzebue Sound in northwestern Alaska in 1960.\n",
            " Context passage: The polar bear Ursus maritimus is a bear native to the Arctic. Polar bears and Kodiak bears are the world's largest land carnivores, with most adult males weighing 300-600 kg 660-1320 lb; adult females are about half the size of males. Its fur is hollow and translucent, but usually appears as white or cream colored, thus providing the animal with effective camouflage. Its skin is actually black in color. Its thick blubber and fur insulate it against the cold. The bear has a short tail and small ears that help reduce heat loss, as well as a relatively small head and long, tapered body to streamline it for swimming.\n",
            " Context passage: The polar bears ears and tail are smaller than other bears, and its legs are stocky, as expected from Allen's rule for a northerly animal. Its feet are very large, however, presumably to distribute load like snowshoes when walking on snow or thin ice.\n",
            " Context passage: Polar bear\n",
            " Context passage: Polar bears are excellent swimmers and have been seen in open Arctic waters as far as from land. In some cases they spend half their time on ice floes. Their 12 cm 5 in layer of fat adds buoyancy in addition to insulating them from the cold. Recently, polar bears in the Arctic have undertaken longer than usual swims to find prey, resulting in four recorded drownings in the unusually large ice pack regression of 2005. .<|im_end|>\n",
            "<|im_start|>assistant\n",
            "Yes, there are other bears as large as polar bears. The Kodiak bear, also known as the brown bear, is the largest land carnivore in the world, with males weighing up to 1,500 pounds and females up to 800 pounds.<|im_end|>\n"
          ]
        }
      ]
    },
    {
      "cell_type": "markdown",
      "source": [
        "...and this is how a chatbot works!\n",
        "\n",
        "Note that simple similarity is often not sufficient to retain relevant documents: while sufficient for annotation tasks (where the context should provide the most relevant examples and their associated labels), in retrieval tasks a query might after all differ substantially from the answer/correct information. In such cases, [cross-encoders](https://sbert.net/examples/cross_encoder/applications/README.html) are used to decide which of the subset of texts retrieved based on similarity are most relevant."
      ],
      "metadata": {
        "id": "DXtLqGBTOX3m"
      },
      "id": "DXtLqGBTOX3m"
    }
  ],
  "metadata": {
    "accelerator": "GPU",
    "colab": {
      "gpuType": "T4",
      "provenance": [],
      "include_colab_link": true
    },
    "kernelspec": {
      "display_name": "Python 3",
      "name": "python3"
    },
    "language_info": {
      "name": "python"
    },
    "widgets": {
      "application/vnd.jupyter.widget-state+json": {
        "513a9d03fa8a437fa6180e1aedee9d0f": {
          "model_module": "@jupyter-widgets/controls",
          "model_name": "HBoxModel",
          "model_module_version": "1.5.0",
          "state": {
            "_dom_classes": [],
            "_model_module": "@jupyter-widgets/controls",
            "_model_module_version": "1.5.0",
            "_model_name": "HBoxModel",
            "_view_count": null,
            "_view_module": "@jupyter-widgets/controls",
            "_view_module_version": "1.5.0",
            "_view_name": "HBoxView",
            "box_style": "",
            "children": [
              "IPY_MODEL_97aada8424a24b04b2015648ace5f6fd",
              "IPY_MODEL_9ef33319d3694f8a8da5cc32cf14b136",
              "IPY_MODEL_a1d6c0e34f4040a28c460dfd16ed3379"
            ],
            "layout": "IPY_MODEL_5703191dbcb94432815cfe30ee8d532b"
          }
        },
        "97aada8424a24b04b2015648ace5f6fd": {
          "model_module": "@jupyter-widgets/controls",
          "model_name": "HTMLModel",
          "model_module_version": "1.5.0",
          "state": {
            "_dom_classes": [],
            "_model_module": "@jupyter-widgets/controls",
            "_model_module_version": "1.5.0",
            "_model_name": "HTMLModel",
            "_view_count": null,
            "_view_module": "@jupyter-widgets/controls",
            "_view_module_version": "1.5.0",
            "_view_name": "HTMLView",
            "description": "",
            "description_tooltip": null,
            "layout": "IPY_MODEL_44d60dde3fc54815aa404c077f736f33",
            "placeholder": "​",
            "style": "IPY_MODEL_9c2f425c287b4891b78b8bd91d93f80d",
            "value": "Map: 100%"
          }
        },
        "9ef33319d3694f8a8da5cc32cf14b136": {
          "model_module": "@jupyter-widgets/controls",
          "model_name": "FloatProgressModel",
          "model_module_version": "1.5.0",
          "state": {
            "_dom_classes": [],
            "_model_module": "@jupyter-widgets/controls",
            "_model_module_version": "1.5.0",
            "_model_name": "FloatProgressModel",
            "_view_count": null,
            "_view_module": "@jupyter-widgets/controls",
            "_view_module_version": "1.5.0",
            "_view_name": "ProgressView",
            "bar_style": "success",
            "description": "",
            "description_tooltip": null,
            "layout": "IPY_MODEL_7497d346effe4c18b0013dc6900e86a9",
            "max": 3197,
            "min": 0,
            "orientation": "horizontal",
            "style": "IPY_MODEL_efa420d65c9c4d2b905cd500e818d7ac",
            "value": 3197
          }
        },
        "a1d6c0e34f4040a28c460dfd16ed3379": {
          "model_module": "@jupyter-widgets/controls",
          "model_name": "HTMLModel",
          "model_module_version": "1.5.0",
          "state": {
            "_dom_classes": [],
            "_model_module": "@jupyter-widgets/controls",
            "_model_module_version": "1.5.0",
            "_model_name": "HTMLModel",
            "_view_count": null,
            "_view_module": "@jupyter-widgets/controls",
            "_view_module_version": "1.5.0",
            "_view_name": "HTMLView",
            "description": "",
            "description_tooltip": null,
            "layout": "IPY_MODEL_53f9fa4a4311483d8fb37f89fa07bf3f",
            "placeholder": "​",
            "style": "IPY_MODEL_64383bf98db14a48adb61610087f116e",
            "value": " 3197/3197 [00:00&lt;00:00, 5031.68 examples/s]"
          }
        },
        "5703191dbcb94432815cfe30ee8d532b": {
          "model_module": "@jupyter-widgets/base",
          "model_name": "LayoutModel",
          "model_module_version": "1.2.0",
          "state": {
            "_model_module": "@jupyter-widgets/base",
            "_model_module_version": "1.2.0",
            "_model_name": "LayoutModel",
            "_view_count": null,
            "_view_module": "@jupyter-widgets/base",
            "_view_module_version": "1.2.0",
            "_view_name": "LayoutView",
            "align_content": null,
            "align_items": null,
            "align_self": null,
            "border": null,
            "bottom": null,
            "display": null,
            "flex": null,
            "flex_flow": null,
            "grid_area": null,
            "grid_auto_columns": null,
            "grid_auto_flow": null,
            "grid_auto_rows": null,
            "grid_column": null,
            "grid_gap": null,
            "grid_row": null,
            "grid_template_areas": null,
            "grid_template_columns": null,
            "grid_template_rows": null,
            "height": null,
            "justify_content": null,
            "justify_items": null,
            "left": null,
            "margin": null,
            "max_height": null,
            "max_width": null,
            "min_height": null,
            "min_width": null,
            "object_fit": null,
            "object_position": null,
            "order": null,
            "overflow": null,
            "overflow_x": null,
            "overflow_y": null,
            "padding": null,
            "right": null,
            "top": null,
            "visibility": null,
            "width": null
          }
        },
        "44d60dde3fc54815aa404c077f736f33": {
          "model_module": "@jupyter-widgets/base",
          "model_name": "LayoutModel",
          "model_module_version": "1.2.0",
          "state": {
            "_model_module": "@jupyter-widgets/base",
            "_model_module_version": "1.2.0",
            "_model_name": "LayoutModel",
            "_view_count": null,
            "_view_module": "@jupyter-widgets/base",
            "_view_module_version": "1.2.0",
            "_view_name": "LayoutView",
            "align_content": null,
            "align_items": null,
            "align_self": null,
            "border": null,
            "bottom": null,
            "display": null,
            "flex": null,
            "flex_flow": null,
            "grid_area": null,
            "grid_auto_columns": null,
            "grid_auto_flow": null,
            "grid_auto_rows": null,
            "grid_column": null,
            "grid_gap": null,
            "grid_row": null,
            "grid_template_areas": null,
            "grid_template_columns": null,
            "grid_template_rows": null,
            "height": null,
            "justify_content": null,
            "justify_items": null,
            "left": null,
            "margin": null,
            "max_height": null,
            "max_width": null,
            "min_height": null,
            "min_width": null,
            "object_fit": null,
            "object_position": null,
            "order": null,
            "overflow": null,
            "overflow_x": null,
            "overflow_y": null,
            "padding": null,
            "right": null,
            "top": null,
            "visibility": null,
            "width": null
          }
        },
        "9c2f425c287b4891b78b8bd91d93f80d": {
          "model_module": "@jupyter-widgets/controls",
          "model_name": "DescriptionStyleModel",
          "model_module_version": "1.5.0",
          "state": {
            "_model_module": "@jupyter-widgets/controls",
            "_model_module_version": "1.5.0",
            "_model_name": "DescriptionStyleModel",
            "_view_count": null,
            "_view_module": "@jupyter-widgets/base",
            "_view_module_version": "1.2.0",
            "_view_name": "StyleView",
            "description_width": ""
          }
        },
        "7497d346effe4c18b0013dc6900e86a9": {
          "model_module": "@jupyter-widgets/base",
          "model_name": "LayoutModel",
          "model_module_version": "1.2.0",
          "state": {
            "_model_module": "@jupyter-widgets/base",
            "_model_module_version": "1.2.0",
            "_model_name": "LayoutModel",
            "_view_count": null,
            "_view_module": "@jupyter-widgets/base",
            "_view_module_version": "1.2.0",
            "_view_name": "LayoutView",
            "align_content": null,
            "align_items": null,
            "align_self": null,
            "border": null,
            "bottom": null,
            "display": null,
            "flex": null,
            "flex_flow": null,
            "grid_area": null,
            "grid_auto_columns": null,
            "grid_auto_flow": null,
            "grid_auto_rows": null,
            "grid_column": null,
            "grid_gap": null,
            "grid_row": null,
            "grid_template_areas": null,
            "grid_template_columns": null,
            "grid_template_rows": null,
            "height": null,
            "justify_content": null,
            "justify_items": null,
            "left": null,
            "margin": null,
            "max_height": null,
            "max_width": null,
            "min_height": null,
            "min_width": null,
            "object_fit": null,
            "object_position": null,
            "order": null,
            "overflow": null,
            "overflow_x": null,
            "overflow_y": null,
            "padding": null,
            "right": null,
            "top": null,
            "visibility": null,
            "width": null
          }
        },
        "efa420d65c9c4d2b905cd500e818d7ac": {
          "model_module": "@jupyter-widgets/controls",
          "model_name": "ProgressStyleModel",
          "model_module_version": "1.5.0",
          "state": {
            "_model_module": "@jupyter-widgets/controls",
            "_model_module_version": "1.5.0",
            "_model_name": "ProgressStyleModel",
            "_view_count": null,
            "_view_module": "@jupyter-widgets/base",
            "_view_module_version": "1.2.0",
            "_view_name": "StyleView",
            "bar_color": null,
            "description_width": ""
          }
        },
        "53f9fa4a4311483d8fb37f89fa07bf3f": {
          "model_module": "@jupyter-widgets/base",
          "model_name": "LayoutModel",
          "model_module_version": "1.2.0",
          "state": {
            "_model_module": "@jupyter-widgets/base",
            "_model_module_version": "1.2.0",
            "_model_name": "LayoutModel",
            "_view_count": null,
            "_view_module": "@jupyter-widgets/base",
            "_view_module_version": "1.2.0",
            "_view_name": "LayoutView",
            "align_content": null,
            "align_items": null,
            "align_self": null,
            "border": null,
            "bottom": null,
            "display": null,
            "flex": null,
            "flex_flow": null,
            "grid_area": null,
            "grid_auto_columns": null,
            "grid_auto_flow": null,
            "grid_auto_rows": null,
            "grid_column": null,
            "grid_gap": null,
            "grid_row": null,
            "grid_template_areas": null,
            "grid_template_columns": null,
            "grid_template_rows": null,
            "height": null,
            "justify_content": null,
            "justify_items": null,
            "left": null,
            "margin": null,
            "max_height": null,
            "max_width": null,
            "min_height": null,
            "min_width": null,
            "object_fit": null,
            "object_position": null,
            "order": null,
            "overflow": null,
            "overflow_x": null,
            "overflow_y": null,
            "padding": null,
            "right": null,
            "top": null,
            "visibility": null,
            "width": null
          }
        },
        "64383bf98db14a48adb61610087f116e": {
          "model_module": "@jupyter-widgets/controls",
          "model_name": "DescriptionStyleModel",
          "model_module_version": "1.5.0",
          "state": {
            "_model_module": "@jupyter-widgets/controls",
            "_model_module_version": "1.5.0",
            "_model_name": "DescriptionStyleModel",
            "_view_count": null,
            "_view_module": "@jupyter-widgets/base",
            "_view_module_version": "1.2.0",
            "_view_name": "StyleView",
            "description_width": ""
          }
        },
        "c5228b7a4d5a4d18908f97e75db7d8f8": {
          "model_module": "@jupyter-widgets/controls",
          "model_name": "HBoxModel",
          "model_module_version": "1.5.0",
          "state": {
            "_dom_classes": [],
            "_model_module": "@jupyter-widgets/controls",
            "_model_module_version": "1.5.0",
            "_model_name": "HBoxModel",
            "_view_count": null,
            "_view_module": "@jupyter-widgets/controls",
            "_view_module_version": "1.5.0",
            "_view_name": "HBoxView",
            "box_style": "",
            "children": [
              "IPY_MODEL_2cadd4aee96249bb9fe27b3b2a530361",
              "IPY_MODEL_97d4076eb0934ecbb79ec9efcd217b16",
              "IPY_MODEL_f76637b6740548d6a2d1277794b0af10"
            ],
            "layout": "IPY_MODEL_18e8817e0b1042b2b590096410781009"
          }
        },
        "2cadd4aee96249bb9fe27b3b2a530361": {
          "model_module": "@jupyter-widgets/controls",
          "model_name": "HTMLModel",
          "model_module_version": "1.5.0",
          "state": {
            "_dom_classes": [],
            "_model_module": "@jupyter-widgets/controls",
            "_model_module_version": "1.5.0",
            "_model_name": "HTMLModel",
            "_view_count": null,
            "_view_module": "@jupyter-widgets/controls",
            "_view_module_version": "1.5.0",
            "_view_name": "HTMLView",
            "description": "",
            "description_tooltip": null,
            "layout": "IPY_MODEL_301579f7a688474e99e6e4b614478022",
            "placeholder": "​",
            "style": "IPY_MODEL_49d9475104614330a1f545c0a1fe0479",
            "value": "Filter: 100%"
          }
        },
        "97d4076eb0934ecbb79ec9efcd217b16": {
          "model_module": "@jupyter-widgets/controls",
          "model_name": "FloatProgressModel",
          "model_module_version": "1.5.0",
          "state": {
            "_dom_classes": [],
            "_model_module": "@jupyter-widgets/controls",
            "_model_module_version": "1.5.0",
            "_model_name": "FloatProgressModel",
            "_view_count": null,
            "_view_module": "@jupyter-widgets/controls",
            "_view_module_version": "1.5.0",
            "_view_name": "ProgressView",
            "bar_style": "success",
            "description": "",
            "description_tooltip": null,
            "layout": "IPY_MODEL_c0c73167062849baba026749122847cd",
            "max": 3197,
            "min": 0,
            "orientation": "horizontal",
            "style": "IPY_MODEL_9c929792d7b242cc93911f4415b752c3",
            "value": 3197
          }
        },
        "f76637b6740548d6a2d1277794b0af10": {
          "model_module": "@jupyter-widgets/controls",
          "model_name": "HTMLModel",
          "model_module_version": "1.5.0",
          "state": {
            "_dom_classes": [],
            "_model_module": "@jupyter-widgets/controls",
            "_model_module_version": "1.5.0",
            "_model_name": "HTMLModel",
            "_view_count": null,
            "_view_module": "@jupyter-widgets/controls",
            "_view_module_version": "1.5.0",
            "_view_name": "HTMLView",
            "description": "",
            "description_tooltip": null,
            "layout": "IPY_MODEL_c7a72ea737c3468cab55e110714b25f2",
            "placeholder": "​",
            "style": "IPY_MODEL_779b3cd67caa4ac5ab3b763288147928",
            "value": " 3197/3197 [00:00&lt;00:00, 49463.98 examples/s]"
          }
        },
        "18e8817e0b1042b2b590096410781009": {
          "model_module": "@jupyter-widgets/base",
          "model_name": "LayoutModel",
          "model_module_version": "1.2.0",
          "state": {
            "_model_module": "@jupyter-widgets/base",
            "_model_module_version": "1.2.0",
            "_model_name": "LayoutModel",
            "_view_count": null,
            "_view_module": "@jupyter-widgets/base",
            "_view_module_version": "1.2.0",
            "_view_name": "LayoutView",
            "align_content": null,
            "align_items": null,
            "align_self": null,
            "border": null,
            "bottom": null,
            "display": null,
            "flex": null,
            "flex_flow": null,
            "grid_area": null,
            "grid_auto_columns": null,
            "grid_auto_flow": null,
            "grid_auto_rows": null,
            "grid_column": null,
            "grid_gap": null,
            "grid_row": null,
            "grid_template_areas": null,
            "grid_template_columns": null,
            "grid_template_rows": null,
            "height": null,
            "justify_content": null,
            "justify_items": null,
            "left": null,
            "margin": null,
            "max_height": null,
            "max_width": null,
            "min_height": null,
            "min_width": null,
            "object_fit": null,
            "object_position": null,
            "order": null,
            "overflow": null,
            "overflow_x": null,
            "overflow_y": null,
            "padding": null,
            "right": null,
            "top": null,
            "visibility": null,
            "width": null
          }
        },
        "301579f7a688474e99e6e4b614478022": {
          "model_module": "@jupyter-widgets/base",
          "model_name": "LayoutModel",
          "model_module_version": "1.2.0",
          "state": {
            "_model_module": "@jupyter-widgets/base",
            "_model_module_version": "1.2.0",
            "_model_name": "LayoutModel",
            "_view_count": null,
            "_view_module": "@jupyter-widgets/base",
            "_view_module_version": "1.2.0",
            "_view_name": "LayoutView",
            "align_content": null,
            "align_items": null,
            "align_self": null,
            "border": null,
            "bottom": null,
            "display": null,
            "flex": null,
            "flex_flow": null,
            "grid_area": null,
            "grid_auto_columns": null,
            "grid_auto_flow": null,
            "grid_auto_rows": null,
            "grid_column": null,
            "grid_gap": null,
            "grid_row": null,
            "grid_template_areas": null,
            "grid_template_columns": null,
            "grid_template_rows": null,
            "height": null,
            "justify_content": null,
            "justify_items": null,
            "left": null,
            "margin": null,
            "max_height": null,
            "max_width": null,
            "min_height": null,
            "min_width": null,
            "object_fit": null,
            "object_position": null,
            "order": null,
            "overflow": null,
            "overflow_x": null,
            "overflow_y": null,
            "padding": null,
            "right": null,
            "top": null,
            "visibility": null,
            "width": null
          }
        },
        "49d9475104614330a1f545c0a1fe0479": {
          "model_module": "@jupyter-widgets/controls",
          "model_name": "DescriptionStyleModel",
          "model_module_version": "1.5.0",
          "state": {
            "_model_module": "@jupyter-widgets/controls",
            "_model_module_version": "1.5.0",
            "_model_name": "DescriptionStyleModel",
            "_view_count": null,
            "_view_module": "@jupyter-widgets/base",
            "_view_module_version": "1.2.0",
            "_view_name": "StyleView",
            "description_width": ""
          }
        },
        "c0c73167062849baba026749122847cd": {
          "model_module": "@jupyter-widgets/base",
          "model_name": "LayoutModel",
          "model_module_version": "1.2.0",
          "state": {
            "_model_module": "@jupyter-widgets/base",
            "_model_module_version": "1.2.0",
            "_model_name": "LayoutModel",
            "_view_count": null,
            "_view_module": "@jupyter-widgets/base",
            "_view_module_version": "1.2.0",
            "_view_name": "LayoutView",
            "align_content": null,
            "align_items": null,
            "align_self": null,
            "border": null,
            "bottom": null,
            "display": null,
            "flex": null,
            "flex_flow": null,
            "grid_area": null,
            "grid_auto_columns": null,
            "grid_auto_flow": null,
            "grid_auto_rows": null,
            "grid_column": null,
            "grid_gap": null,
            "grid_row": null,
            "grid_template_areas": null,
            "grid_template_columns": null,
            "grid_template_rows": null,
            "height": null,
            "justify_content": null,
            "justify_items": null,
            "left": null,
            "margin": null,
            "max_height": null,
            "max_width": null,
            "min_height": null,
            "min_width": null,
            "object_fit": null,
            "object_position": null,
            "order": null,
            "overflow": null,
            "overflow_x": null,
            "overflow_y": null,
            "padding": null,
            "right": null,
            "top": null,
            "visibility": null,
            "width": null
          }
        },
        "9c929792d7b242cc93911f4415b752c3": {
          "model_module": "@jupyter-widgets/controls",
          "model_name": "ProgressStyleModel",
          "model_module_version": "1.5.0",
          "state": {
            "_model_module": "@jupyter-widgets/controls",
            "_model_module_version": "1.5.0",
            "_model_name": "ProgressStyleModel",
            "_view_count": null,
            "_view_module": "@jupyter-widgets/base",
            "_view_module_version": "1.2.0",
            "_view_name": "StyleView",
            "bar_color": null,
            "description_width": ""
          }
        },
        "c7a72ea737c3468cab55e110714b25f2": {
          "model_module": "@jupyter-widgets/base",
          "model_name": "LayoutModel",
          "model_module_version": "1.2.0",
          "state": {
            "_model_module": "@jupyter-widgets/base",
            "_model_module_version": "1.2.0",
            "_model_name": "LayoutModel",
            "_view_count": null,
            "_view_module": "@jupyter-widgets/base",
            "_view_module_version": "1.2.0",
            "_view_name": "LayoutView",
            "align_content": null,
            "align_items": null,
            "align_self": null,
            "border": null,
            "bottom": null,
            "display": null,
            "flex": null,
            "flex_flow": null,
            "grid_area": null,
            "grid_auto_columns": null,
            "grid_auto_flow": null,
            "grid_auto_rows": null,
            "grid_column": null,
            "grid_gap": null,
            "grid_row": null,
            "grid_template_areas": null,
            "grid_template_columns": null,
            "grid_template_rows": null,
            "height": null,
            "justify_content": null,
            "justify_items": null,
            "left": null,
            "margin": null,
            "max_height": null,
            "max_width": null,
            "min_height": null,
            "min_width": null,
            "object_fit": null,
            "object_position": null,
            "order": null,
            "overflow": null,
            "overflow_x": null,
            "overflow_y": null,
            "padding": null,
            "right": null,
            "top": null,
            "visibility": null,
            "width": null
          }
        },
        "779b3cd67caa4ac5ab3b763288147928": {
          "model_module": "@jupyter-widgets/controls",
          "model_name": "DescriptionStyleModel",
          "model_module_version": "1.5.0",
          "state": {
            "_model_module": "@jupyter-widgets/controls",
            "_model_module_version": "1.5.0",
            "_model_name": "DescriptionStyleModel",
            "_view_count": null,
            "_view_module": "@jupyter-widgets/base",
            "_view_module_version": "1.2.0",
            "_view_name": "StyleView",
            "description_width": ""
          }
        }
      }
    }
  },
  "nbformat": 4,
  "nbformat_minor": 5
}