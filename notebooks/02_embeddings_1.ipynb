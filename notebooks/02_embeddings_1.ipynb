{
  "cells": [
    {
      "cell_type": "markdown",
      "metadata": {
        "id": "view-in-github",
        "colab_type": "text"
      },
      "source": [
        "<a href=\"https://colab.research.google.com/github/nicolaiberk/llm_ws/blob/main/notebooks/02_embeddings_1.ipynb\" target=\"_parent\"><img src=\"https://colab.research.google.com/assets/colab-badge.svg\" alt=\"Open In Colab\"/></a>"
      ]
    },
    {
      "cell_type": "markdown",
      "metadata": {
        "id": "fAqJl9nG8Ifv"
      },
      "source": [
        "# Intro to embedding manipulation with `gensim`"
      ]
    },
    {
      "cell_type": "code",
      "execution_count": null,
      "metadata": {
        "id": "OeiVHlEdyaUK"
      },
      "outputs": [],
      "source": [
        "!pip install gensim # restart after installation"
      ]
    },
    {
      "cell_type": "markdown",
      "metadata": {
        "id": "FVrj4r5L9F-F"
      },
      "source": [
        "## Word Embeddings from Pre-Trained Models"
      ]
    },
    {
      "cell_type": "code",
      "execution_count": null,
      "metadata": {
        "id": "-x2STAO9yFKr"
      },
      "outputs": [],
      "source": [
        "## we load a 100-dimensional GloVe model trained on Wikipedia data\n",
        "import gensim.downloader as api\n",
        "wv = api.load('glove-wiki-gigaword-100') # small model so we don't have to wait too long..."
      ]
    },
    {
      "cell_type": "code",
      "execution_count": null,
      "metadata": {
        "colab": {
          "base_uri": "https://localhost:8080/"
        },
        "id": "eQD-D8501bxe",
        "outputId": "d361b396-0fca-417d-f2fb-fb643adcdf86"
      },
      "outputs": [
        {
          "data": {
            "text/plain": [
              "array([ 0.049439 ,  0.33049  , -0.62916  ,  0.05941  , -0.070866 ,\n",
              "       -0.31198  ,  1.0051   , -0.36994  ,  0.51071  ,  0.88759  ,\n",
              "        0.30675  ,  0.41871  , -0.20705  ,  0.54854  ,  0.2315   ,\n",
              "       -0.10115  , -0.44656  ,  0.022504 ,  0.31798  ,  0.44769  ,\n",
              "       -0.50513  ,  0.34741  , -0.069257 ,  0.22331  ,  0.41969  ,\n",
              "        0.27958  ,  0.0037731, -0.22206  , -0.60191  , -0.67105  ,\n",
              "        0.1164   ,  0.099292 ,  0.16863  , -0.69876  ,  0.13203  ,\n",
              "        0.14845  ,  0.020125 , -0.40887  ,  0.15019  , -0.25258  ,\n",
              "        0.69223  , -0.24897  ,  0.047037 , -0.33101  , -0.16142  ,\n",
              "        0.10763  , -0.06854  , -0.29817  ,  0.15847  ,  0.92439  ,\n",
              "        0.52995  ,  0.89365  ,  0.56876  , -0.2421   , -0.78985  ,\n",
              "        0.75897  ,  0.53027  ,  0.53722  , -0.94077  ,  0.0013162,\n",
              "       -0.12927  , -0.10485  , -0.059788 , -0.56039  , -0.38289  ,\n",
              "       -0.43905  ,  0.02313  , -0.27358  , -0.086559 , -0.54393  ,\n",
              "       -0.49323  ,  0.14044  ,  0.50186  ,  0.11039  , -0.40333  ,\n",
              "        0.54352  , -0.14918  ,  0.069858 ,  1.028    ,  0.65854  ,\n",
              "       -0.14484  ,  0.06066  , -0.37153  ,  0.15011  , -0.12377  ,\n",
              "       -0.26727  ,  0.46632  ,  1.2429   , -0.077435 , -0.27101  ,\n",
              "        0.27347  , -0.078839 , -0.11403  ,  0.11122  , -0.015935 ,\n",
              "       -0.48769  ,  0.57196  ,  0.10234  , -0.10039  ,  0.043284 ],\n",
              "      dtype=float32)"
            ]
          },
          "execution_count": 3,
          "metadata": {},
          "output_type": "execute_result"
        }
      ],
      "source": [
        "wv['ziti'] # what do our embeddings look like?"
      ]
    },
    {
      "cell_type": "markdown",
      "metadata": {
        "id": "SLSwVPvi9Mke"
      },
      "source": [
        "### Get most similar words"
      ]
    },
    {
      "cell_type": "code",
      "execution_count": null,
      "metadata": {
        "colab": {
          "base_uri": "https://localhost:8080/"
        },
        "id": "yEGA8j2vzGfd",
        "outputId": "649e7dd2-15b6-40c0-ea28-66f5b8455889"
      },
      "outputs": [
        {
          "name": "stdout",
          "output_type": "stream",
          "text": [
            "[('rigatoni', 0.7073922753334045), ('penne', 0.6969300508499146), ('focaccia', 0.6311710476875305), ('rotini', 0.626558780670166), ('scrod', 0.6251025199890137)]\n"
          ]
        }
      ],
      "source": [
        "## so what are 'ziti' according to our model? Let's check the most similar embeddings:\n",
        "print(wv.most_similar(positive=['ziti'], topn=5))"
      ]
    },
    {
      "cell_type": "code",
      "execution_count": null,
      "metadata": {
        "colab": {
          "base_uri": "https://localhost:8080/"
        },
        "id": "5ht8QNXj7hkx",
        "outputId": "391395b5-ab62-4d64-b577-6df087de0ff7"
      },
      "outputs": [
        {
          "data": {
            "text/plain": [
              "0.69693005"
            ]
          },
          "execution_count": 5,
          "metadata": {},
          "output_type": "execute_result"
        }
      ],
      "source": [
        "## you can assess the similarity to other words with the `similarity` function (we'll cover what this score is later today)\n",
        "wv.similarity('ziti', 'penne')"
      ]
    },
    {
      "cell_type": "code",
      "execution_count": null,
      "metadata": {
        "colab": {
          "base_uri": "https://localhost:8080/"
        },
        "id": "21n1HoYg7-gr",
        "outputId": "83a225a1-369f-4383-a66f-d73f51dcb253"
      },
      "outputs": [
        {
          "data": {
            "text/plain": [
              "0.15077046"
            ]
          },
          "execution_count": 6,
          "metadata": {},
          "output_type": "execute_result"
        }
      ],
      "source": [
        "# Whereas\n",
        "wv.similarity('ziti', 'banana')"
      ]
    },
    {
      "cell_type": "code",
      "execution_count": null,
      "metadata": {
        "colab": {
          "base_uri": "https://localhost:8080/"
        },
        "id": "Xt5MwYbF75xj",
        "outputId": "e26e6fbf-2669-429e-dce6-a30688fa6f14"
      },
      "outputs": [
        {
          "data": {
            "text/plain": [
              "-0.2821738"
            ]
          },
          "execution_count": 7,
          "metadata": {},
          "output_type": "execute_result"
        }
      ],
      "source": [
        "# and\n",
        "wv.similarity('ziti', 'car')"
      ]
    },
    {
      "cell_type": "code",
      "execution_count": null,
      "metadata": {
        "colab": {
          "base_uri": "https://localhost:8080/"
        },
        "id": "UA2WUHbUz9E9",
        "outputId": "1aa89db0-9f52-4d7a-c87f-040a213db8cb"
      },
      "outputs": [
        {
          "name": "stdout",
          "output_type": "stream",
          "text": [
            "[('london', 0.7929531931877136), ('england', 0.7346791625022888), ('melbourne', 0.7304184436798096), ('sydney', 0.7011193037033081), ('perth', 0.6856114268302917)]\n"
          ]
        }
      ],
      "source": [
        "## You can calculate with these embeddings:\n",
        "wv_london = wv['paris'] - wv['france'] + wv['england']\n",
        "print(wv.most_similar(positive=[wv_london], topn=5))"
      ]
    },
    {
      "cell_type": "code",
      "execution_count": null,
      "metadata": {
        "colab": {
          "base_uri": "https://localhost:8080/"
        },
        "id": "sAibSQeEzcLl",
        "outputId": "fdfe238e-c06d-4209-c429-7c9ebdd5f08b"
      },
      "outputs": [
        {
          "name": "stdout",
          "output_type": "stream",
          "text": [
            "[('king', 0.8551837205886841), ('queen', 0.783441424369812), ('monarch', 0.6933802366256714), ('throne', 0.6833109259605408), ('daughter', 0.680908203125)]\n"
          ]
        }
      ],
      "source": [
        "## Though it does not always work perfectly\n",
        "wv_queen = wv['king'] + wv['woman'] - wv['man']\n",
        "print(wv.most_similar(positive=[wv_queen], topn=5))"
      ]
    },
    {
      "cell_type": "code",
      "execution_count": null,
      "metadata": {
        "colab": {
          "base_uri": "https://localhost:8080/"
        },
        "id": "4kFKdiTj3egc",
        "outputId": "5a04823f-6f69-4c9c-daf9-ba0ad626850e"
      },
      "outputs": [
        {
          "name": "stdout",
          "output_type": "stream",
          "text": [
            "[('queen', 0.7698541283607483), ('monarch', 0.6843380331993103), ('throne', 0.6755736470222473), ('daughter', 0.6594556570053101), ('princess', 0.6520534157752991)]\n"
          ]
        }
      ],
      "source": [
        "## you can also use the inbuilt function to get weighted averages\n",
        "print(wv.most_similar(positive=['woman', 'king'], negative=['man'], topn=5))"
      ]
    },
    {
      "cell_type": "code",
      "execution_count": null,
      "metadata": {
        "colab": {
          "base_uri": "https://localhost:8080/"
        },
        "id": "NIjhV2ZT_zM1",
        "outputId": "ada238f0-d3d2-48e7-9a4b-18ae247ccf02"
      },
      "outputs": [
        {
          "name": "stdout",
          "output_type": "stream",
          "text": [
            "car\n"
          ]
        }
      ],
      "source": [
        "## other cute functions\n",
        "print(wv.doesnt_match(['fire', 'water', 'land', 'sea', 'air', 'car']))"
      ]
    },
    {
      "cell_type": "markdown",
      "metadata": {
        "id": "b9xucGXr8TgJ"
      },
      "source": [
        "### Training your own Model"
      ]
    },
    {
      "cell_type": "markdown",
      "metadata": {
        "id": "hhfzwAqaBjKJ"
      },
      "source": [
        "We'll use an adapted dataset of dialogue in the Simpsons from [Kaggle](https://www.kaggle.com/datasets/prashant111/the-simpsons-dataset?resource=download&select=simpsons_script_lines.csv)."
      ]
    },
    {
      "cell_type": "markdown",
      "metadata": {
        "id": "PP4MONsoRGIi"
      },
      "source": [
        "![](https://media.giphy.com/media/v1.Y2lkPWVjZjA1ZTQ3cHA1dDZ5MWUwOWIyMmd3dHk3MGNyNGdvamEzc2w2dzVjdzdvMW5wOCZlcD12MV9naWZzX3NlYXJjaCZjdD1n/tkYpAbKdWj4TS/giphy.gif)"
      ]
    },
    {
      "cell_type": "code",
      "execution_count": null,
      "metadata": {
        "colab": {
          "base_uri": "https://localhost:8080/",
          "height": 206
        },
        "id": "h_Ti4neS80A3",
        "outputId": "a2d0c9b0-da90-4d35-8ac3-9c5daadbad6d"
      },
      "outputs": [
        {
          "data": {
            "text/html": [
              "<div>\n",
              "<style scoped>\n",
              "    .dataframe tbody tr th:only-of-type {\n",
              "        vertical-align: middle;\n",
              "    }\n",
              "\n",
              "    .dataframe tbody tr th {\n",
              "        vertical-align: top;\n",
              "    }\n",
              "\n",
              "    .dataframe thead th {\n",
              "        text-align: right;\n",
              "    }\n",
              "</style>\n",
              "<table border=\"1\" class=\"dataframe\">\n",
              "  <thead>\n",
              "    <tr style=\"text-align: right;\">\n",
              "      <th></th>\n",
              "      <th>id</th>\n",
              "      <th>raw_character_text</th>\n",
              "      <th>spoken_words</th>\n",
              "    </tr>\n",
              "  </thead>\n",
              "  <tbody>\n",
              "    <tr>\n",
              "      <th>0</th>\n",
              "      <td>9549</td>\n",
              "      <td>Miss Hoover</td>\n",
              "      <td>No, actually, it was a little of both. Sometim...</td>\n",
              "    </tr>\n",
              "    <tr>\n",
              "      <th>1</th>\n",
              "      <td>9550</td>\n",
              "      <td>Lisa Simpson</td>\n",
              "      <td>Where's Mr. Bergstrom?</td>\n",
              "    </tr>\n",
              "    <tr>\n",
              "      <th>2</th>\n",
              "      <td>9551</td>\n",
              "      <td>Miss Hoover</td>\n",
              "      <td>I don't know. Although I'd sure like to talk t...</td>\n",
              "    </tr>\n",
              "    <tr>\n",
              "      <th>3</th>\n",
              "      <td>9552</td>\n",
              "      <td>Lisa Simpson</td>\n",
              "      <td>That life is worth living.</td>\n",
              "    </tr>\n",
              "    <tr>\n",
              "      <th>4</th>\n",
              "      <td>9553</td>\n",
              "      <td>Edna Krabappel-Flanders</td>\n",
              "      <td>The polls will be open from now until the end ...</td>\n",
              "    </tr>\n",
              "  </tbody>\n",
              "</table>\n",
              "</div>"
            ],
            "text/plain": [
              "     id       raw_character_text  \\\n",
              "0  9549              Miss Hoover   \n",
              "1  9550             Lisa Simpson   \n",
              "2  9551              Miss Hoover   \n",
              "3  9552             Lisa Simpson   \n",
              "4  9553  Edna Krabappel-Flanders   \n",
              "\n",
              "                                        spoken_words  \n",
              "0  No, actually, it was a little of both. Sometim...  \n",
              "1                             Where's Mr. Bergstrom?  \n",
              "2  I don't know. Although I'd sure like to talk t...  \n",
              "3                         That life is worth living.  \n",
              "4  The polls will be open from now until the end ...  "
            ]
          },
          "execution_count": 12,
          "metadata": {},
          "output_type": "execute_result"
        }
      ],
      "source": [
        "## load data\n",
        "import pandas as pd\n",
        "dataset = pd.read_csv('https://www.dropbox.com/scl/fi/n5ffxvm4qyjkp8ws7qgoq/simpsons_script_lines_clean.csv?rlkey=gfliitwgi8cqsjxlcdmmdwtym&dl=1')\n",
        "dataset.head()"
      ]
    },
    {
      "cell_type": "code",
      "execution_count": null,
      "metadata": {
        "id": "_Pf3Fg-zDakP"
      },
      "outputs": [],
      "source": [
        "## clean the texts (very rough here)\n",
        "dataset['cleaned_text'] = dataset['spoken_words'].str.replace('[^a-zA-Z ]','', regex=True) # remove anything that is not a letter or whitespace\n",
        "dataset['cleaned_text'] = dataset['cleaned_text'].str.lower() # lowercase\n",
        "dataset['cleaned_text'] = dataset['cleaned_text'].str.replace(' +', ' ', regex=True) # remove multiple whitespaces"
      ]
    },
    {
      "cell_type": "code",
      "execution_count": null,
      "metadata": {
        "colab": {
          "base_uri": "https://localhost:8080/",
          "height": 241
        },
        "id": "7xtfOvpZDss5",
        "outputId": "1e24f165-48a6-4fd1-b93f-f9bd580ab9cd"
      },
      "outputs": [
        {
          "data": {
            "text/plain": [
              "0    no actually it was a little of both sometimes ...\n",
              "1                                  wheres mr bergstrom\n",
              "2    i dont know although id sure like to talk to h...\n",
              "3                            that life is worth living\n",
              "4    the polls will be open from now until the end ...\n",
              "Name: cleaned_text, dtype: object"
            ]
          },
          "execution_count": 14,
          "metadata": {},
          "output_type": "execute_result"
        }
      ],
      "source": [
        "dataset.cleaned_text.head()"
      ]
    },
    {
      "cell_type": "code",
      "execution_count": null,
      "metadata": {
        "id": "djQKA9dhElNZ"
      },
      "outputs": [],
      "source": [
        "## filter empty rows and enforce string\n",
        "dataset = dataset[dataset['cleaned_text'] != '']\n",
        "dataset.loc[:,'cleaned_text'] = dataset['cleaned_text'].astype(str)"
      ]
    },
    {
      "cell_type": "code",
      "execution_count": null,
      "metadata": {
        "colab": {
          "base_uri": "https://localhost:8080/"
        },
        "id": "3FJq37IwF8AY",
        "outputId": "514ad52d-9574-46ed-f5a8-66074fd2a646"
      },
      "outputs": [
        {
          "data": {
            "text/plain": [
              "(158239, 4)"
            ]
          },
          "execution_count": 16,
          "metadata": {},
          "output_type": "execute_result"
        }
      ],
      "source": [
        "## how many texts are left?\n",
        "dataset.shape"
      ]
    },
    {
      "cell_type": "code",
      "execution_count": null,
      "metadata": {
        "id": "Fg1eR-e0DLaL"
      },
      "outputs": [],
      "source": [
        "## create a list of lists of words by splitting along whitespaces\n",
        "sentences = [s.split(\" \") for s in dataset['cleaned_text']]"
      ]
    },
    {
      "cell_type": "code",
      "execution_count": null,
      "metadata": {
        "colab": {
          "base_uri": "https://localhost:8080/"
        },
        "id": "PSb0KZ4iE-K0",
        "outputId": "c4d37b8f-e449-4a9e-f47b-8189a50a9654"
      },
      "outputs": [
        {
          "data": {
            "text/plain": [
              "['wheres', 'mr', 'bergstrom']"
            ]
          },
          "execution_count": 18,
          "metadata": {},
          "output_type": "execute_result"
        }
      ],
      "source": [
        "sentences[1]"
      ]
    },
    {
      "cell_type": "code",
      "execution_count": null,
      "metadata": {
        "id": "HzZ0NPTdAaYm"
      },
      "outputs": [],
      "source": [
        "## load dataset (use an iterator for larger datasets: https://radimrehurek.com/gensim/auto_examples/tutorials/run_word2vec.html#training-your-own-model)\n",
        "from gensim.models import Word2Vec\n",
        "\n",
        "## estimate a model and save\n",
        "model = Word2Vec(\n",
        "    sentences=sentences,\n",
        "    vector_size=100,  # number of dimensions of word embeddings\n",
        "    window=5,         # number of context words in either direction to include\n",
        "    min_count=5,      # how often must a word appear to enter the corpus?\n",
        "    workers=4         # how many CPUs should be used to fit the model?\n",
        "    )\n",
        "model.save(\"simpsons.w2v.model\")"
      ]
    },
    {
      "cell_type": "code",
      "execution_count": null,
      "metadata": {
        "id": "h6i_YPrATIC7",
        "outputId": "0d42a439-f487-480b-9b54-cfd033d0d050"
      },
      "outputs": [
        {
          "data": {
            "text/plain": [
              "(11697, 100)"
            ]
          },
          "execution_count": 20,
          "metadata": {},
          "output_type": "execute_result"
        }
      ],
      "source": [
        "## what is the main output?\n",
        "model.wv.vectors.shape"
      ]
    },
    {
      "cell_type": "code",
      "execution_count": null,
      "metadata": {
        "colab": {
          "base_uri": "https://localhost:8080/"
        },
        "id": "BGoMMlvOFOCd",
        "outputId": "14bda9c3-4670-44e2-83af-5ec7e577639b"
      },
      "outputs": [
        {
          "data": {
            "text/plain": [
              "[('bart', 0.8320638537406921),\n",
              " ('marge', 0.8216521739959717),\n",
              " ('lisa', 0.7847773432731628),\n",
              " ('abe', 0.7300679683685303),\n",
              " ('grampa', 0.7199990153312683)]"
            ]
          },
          "execution_count": 21,
          "metadata": {},
          "output_type": "execute_result"
        }
      ],
      "source": [
        "## assess model\n",
        "model.wv.most_similar('homer', topn=5)"
      ]
    },
    {
      "cell_type": "code",
      "execution_count": null,
      "metadata": {
        "id": "ZPaEChylUqHw"
      },
      "outputs": [],
      "source": [
        "## subset words of interest\n",
        "interesting_words = [\n",
        "    'banana', 'pineapple', 'mango',\n",
        "    'car', 'bike', 'motorcycle',\n",
        "    'bart', 'lisa', 'homer']\n",
        "interesting_vecs = wv[interesting_words]"
      ]
    },
    {
      "cell_type": "code",
      "execution_count": null,
      "metadata": {
        "id": "O8HBhdJhRpNw"
      },
      "outputs": [],
      "source": [
        "## dimensionality reduction using PCA\n",
        "from sklearn.decomposition import PCA\n",
        "\n",
        "pca = PCA(n_components=2)\n",
        "pca.fit(interesting_vecs)\n",
        "wv_2d = pca.transform(interesting_vecs)\n",
        "wv_2d = pd.DataFrame(wv_2d, index = interesting_words)"
      ]
    },
    {
      "cell_type": "code",
      "execution_count": null,
      "metadata": {
        "colab": {
          "base_uri": "https://localhost:8080/",
          "height": 332
        },
        "id": "-kEY6OgdTl6W",
        "outputId": "c0a7acfc-caf4-4dc4-85a5-2b648ee29d4b"
      },
      "outputs": [
        {
          "data": {
            "text/html": [
              "<div>\n",
              "<style scoped>\n",
              "    .dataframe tbody tr th:only-of-type {\n",
              "        vertical-align: middle;\n",
              "    }\n",
              "\n",
              "    .dataframe tbody tr th {\n",
              "        vertical-align: top;\n",
              "    }\n",
              "\n",
              "    .dataframe thead th {\n",
              "        text-align: right;\n",
              "    }\n",
              "</style>\n",
              "<table border=\"1\" class=\"dataframe\">\n",
              "  <thead>\n",
              "    <tr style=\"text-align: right;\">\n",
              "      <th></th>\n",
              "      <th>0</th>\n",
              "      <th>1</th>\n",
              "    </tr>\n",
              "  </thead>\n",
              "  <tbody>\n",
              "    <tr>\n",
              "      <th>banana</th>\n",
              "      <td>3.541009</td>\n",
              "      <td>1.041963</td>\n",
              "    </tr>\n",
              "    <tr>\n",
              "      <th>pineapple</th>\n",
              "      <td>4.103635</td>\n",
              "      <td>1.062510</td>\n",
              "    </tr>\n",
              "    <tr>\n",
              "      <th>mango</th>\n",
              "      <td>3.847255</td>\n",
              "      <td>0.803716</td>\n",
              "    </tr>\n",
              "    <tr>\n",
              "      <th>car</th>\n",
              "      <td>-3.141654</td>\n",
              "      <td>2.390038</td>\n",
              "    </tr>\n",
              "    <tr>\n",
              "      <th>bike</th>\n",
              "      <td>-2.633529</td>\n",
              "      <td>1.914495</td>\n",
              "    </tr>\n",
              "    <tr>\n",
              "      <th>motorcycle</th>\n",
              "      <td>-2.883575</td>\n",
              "      <td>2.724190</td>\n",
              "    </tr>\n",
              "    <tr>\n",
              "      <th>bart</th>\n",
              "      <td>-1.347623</td>\n",
              "      <td>-3.186925</td>\n",
              "    </tr>\n",
              "    <tr>\n",
              "      <th>lisa</th>\n",
              "      <td>0.255806</td>\n",
              "      <td>-3.397163</td>\n",
              "    </tr>\n",
              "    <tr>\n",
              "      <th>homer</th>\n",
              "      <td>-1.741323</td>\n",
              "      <td>-3.352823</td>\n",
              "    </tr>\n",
              "  </tbody>\n",
              "</table>\n",
              "</div>"
            ],
            "text/plain": [
              "                   0         1\n",
              "banana      3.541009  1.041963\n",
              "pineapple   4.103635  1.062510\n",
              "mango       3.847255  0.803716\n",
              "car        -3.141654  2.390038\n",
              "bike       -2.633529  1.914495\n",
              "motorcycle -2.883575  2.724190\n",
              "bart       -1.347623 -3.186925\n",
              "lisa        0.255806 -3.397163\n",
              "homer      -1.741323 -3.352823"
            ]
          },
          "execution_count": 24,
          "metadata": {},
          "output_type": "execute_result"
        }
      ],
      "source": [
        "wv_2d"
      ]
    },
    {
      "cell_type": "code",
      "execution_count": null,
      "metadata": {
        "colab": {
          "base_uri": "https://localhost:8080/",
          "height": 434
        },
        "id": "N2BM66H6SNaQ",
        "outputId": "09476a21-7d26-4fce-8262-ec797b5a1ffc"
      },
      "outputs": [
        {
          "data": {
            "image/png": "[encoded data removed]",
            "text/plain": [
              "<Figure size 640x480 with 1 Axes>"
            ]
          },
          "metadata": {},
          "output_type": "display_data"
        }
      ],
      "source": [
        "import matplotlib.pyplot as plt\n",
        "\n",
        "plt.scatter(wv_2d[0], wv_2d[1])\n",
        "\n",
        "for i in wv_2d.index:\n",
        "    plt.annotate(i, (wv_2d[0][i], wv_2d[1][i]))\n",
        "\n",
        "plt.show()"
      ]
    },
    {
      "cell_type": "code",
      "execution_count": null,
      "metadata": {
        "id": "jW4MjQgkd3RG"
      },
      "outputs": [],
      "source": [
        "## subset words of interest\n",
        "interesting_words = [\n",
        "    'paris', 'berlin', 'france', 'germany']\n",
        "interesting_vecs = wv[interesting_words]"
      ]
    },
    {
      "cell_type": "code",
      "execution_count": null,
      "metadata": {
        "id": "spbNdLA3d5cp"
      },
      "outputs": [],
      "source": [
        "## dimensionality reduction\n",
        "from sklearn.decomposition import PCA\n",
        "\n",
        "pca = PCA(n_components=2)\n",
        "pca.fit(interesting_vecs)\n",
        "wv_2d = pca.transform(interesting_vecs)\n",
        "wv_2d = pd.DataFrame(wv_2d, index = interesting_words)"
      ]
    },
    {
      "cell_type": "code",
      "execution_count": null,
      "metadata": {
        "colab": {
          "base_uri": "https://localhost:8080/",
          "height": 430
        },
        "id": "sKKVnGR5d7Ej",
        "outputId": "8c7378a4-c94d-4475-bc8a-b19591a99dd8"
      },
      "outputs": [
        {
          "data": {
            "image/png": "[encoded data removed]",
            "text/plain": [
              "<Figure size 640x480 with 1 Axes>"
            ]
          },
          "metadata": {},
          "output_type": "display_data"
        }
      ],
      "source": [
        "import matplotlib.pyplot as plt\n",
        "import random\n",
        "\n",
        "random.seed(0)\n",
        "\n",
        "plt.scatter(wv_2d[0], wv_2d[1])\n",
        "\n",
        "for i in wv_2d.index:\n",
        "    plt.annotate(i, (wv_2d[0][i], wv_2d[1][i]))\n",
        "\n",
        "plt.show()"
      ]
    },
    {
      "cell_type": "markdown",
      "metadata": {
        "id": "OM-5L4pnHCo4"
      },
      "source": [
        "## Exercise\n",
        "\n",
        "1) Calculate the word vector for Berlin from the vectors for 'paris', 'france', and 'germany'. Explain your reasoning. What does the"
      ]
    },
    {
      "cell_type": "code",
      "execution_count": null,
      "metadata": {
        "id": "WcSEEROqHCo5"
      },
      "outputs": [],
      "source": [
        "## your answer"
      ]
    },
    {
      "cell_type": "markdown",
      "metadata": {
        "id": "du5M5op9HCo5"
      },
      "source": [
        "2) Assess the most similar words to this vector."
      ]
    },
    {
      "cell_type": "code",
      "execution_count": null,
      "metadata": {
        "id": "qQweMGuPHCo5"
      },
      "outputs": [],
      "source": [
        "## your answer"
      ]
    },
    {
      "cell_type": "markdown",
      "metadata": {
        "id": "isFhbcD9HCo5"
      },
      "source": [
        "3) Plot the calculated vector into the same vector space alongside paris, france, germany, and berlin using PCA."
      ]
    },
    {
      "cell_type": "code",
      "execution_count": null,
      "metadata": {
        "id": "VUWPTC7gHCo6"
      },
      "outputs": [],
      "source": [
        "## your answer"
      ]
    },
    {
      "cell_type": "markdown",
      "metadata": {
        "id": "-FDs1tXKHCo6"
      },
      "source": [
        "4) We have trained these embeddings on a dataset from the simpsons, a popular cartoon series. What consequences might this choice of data have for the word embeddings? How might this compare to a corpus trained on Wikipedia data?"
      ]
    },
    {
      "cell_type": "markdown",
      "metadata": {
        "id": "BfNUE0CxHCo6"
      },
      "source": [
        "**Your answer**"
      ]
    },
    {
      "cell_type": "markdown",
      "metadata": {
        "id": "0FInZXwrHCo7"
      },
      "source": [
        "5) Try to find an interesting bias in the data by looking at word similarities"
      ]
    },
    {
      "cell_type": "code",
      "execution_count": null,
      "metadata": {
        "id": "KfWN38xoHCo7"
      },
      "outputs": [],
      "source": [
        "## your answer"
      ]
    }
  ],
  "metadata": {
    "colab": {
      "provenance": [],
      "include_colab_link": true
    },
    "kernelspec": {
      "display_name": ".venv (3.12.0)",
      "language": "python",
      "name": "python3"
    },
    "language_info": {
      "codemirror_mode": {
        "name": "ipython",
        "version": 3
      },
      "file_extension": ".py",
      "mimetype": "text/x-python",
      "name": "python",
      "nbconvert_exporter": "python",
      "pygments_lexer": "ipython3",
      "version": "3.12.0"
    }
  },
  "nbformat": 4,
  "nbformat_minor": 0
}