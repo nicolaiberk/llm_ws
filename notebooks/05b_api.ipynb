{
  "cells": [
    {
      "cell_type": "markdown",
      "metadata": {
        "id": "view-in-github",
        "colab_type": "text"
      },
      "source": [
        "<a href=\"https://colab.research.google.com/github/nicolaiberk/llm_ws/blob/main/notebooks/05b_api.ipynb\" target=\"_parent\"><img src=\"https://colab.research.google.com/assets/colab-badge.svg\" alt=\"Open In Colab\"/></a>"
      ]
    },
    {
      "cell_type": "markdown",
      "id": "2e562fab",
      "metadata": {
        "id": "2e562fab"
      },
      "source": [
        "# API Calls"
      ]
    },
    {
      "cell_type": "markdown",
      "id": "f711b652",
      "metadata": {
        "id": "f711b652"
      },
      "source": []
    },
    {
      "cell_type": "markdown",
      "id": "8592f2fe",
      "metadata": {
        "id": "8592f2fe"
      },
      "source": [
        "This time, we do not need a GPU - all computation is running on a server."
      ]
    },
    {
      "cell_type": "code",
      "execution_count": null,
      "id": "05c05219",
      "metadata": {
        "id": "05c05219"
      },
      "outputs": [],
      "source": [
        "!pip install pydantic_ai \"pydantic-ai-slim[huggingface]\""
      ]
    },
    {
      "cell_type": "markdown",
      "id": "2d84caea",
      "metadata": {
        "id": "2d84caea"
      },
      "source": [
        "> ❗ RESTART THE NOTEBOOK (DROPDOWN NEXT TO RUN ALL > RESTART SESSION)"
      ]
    },
    {
      "cell_type": "markdown",
      "id": "2ee243f4",
      "metadata": {
        "id": "2ee243f4"
      },
      "source": []
    },
    {
      "cell_type": "code",
      "execution_count": null,
      "id": "abcc5a1f",
      "metadata": {
        "id": "abcc5a1f"
      },
      "outputs": [],
      "source": [
        "import os\n",
        "os.environ['HF_TOKEN'] = 'your_api_key'\n",
        "HF_TOKEN = os.environ[\"HF_TOKEN\"]"
      ]
    },
    {
      "cell_type": "markdown",
      "id": "b00e2ca1",
      "metadata": {
        "id": "b00e2ca1"
      },
      "source": [
        "Making a simple API call"
      ]
    },
    {
      "cell_type": "code",
      "execution_count": null,
      "id": "8f1a09c5",
      "metadata": {
        "id": "8f1a09c5",
        "outputId": "24b503fd-a5a8-439e-c701-a56d3550db5c"
      },
      "outputs": [
        {
          "name": "stdout",
          "output_type": "stream",
          "text": [
            "[{'generated_text': \"A small step for a man, a giant leap for mankind.\\n\\nThe Apollo 11 mission was a historic achievement that marked a major milestone in space exploration. The success of the mission paved the way for future space missions and inspired generations of scientists, engineers, and explorers. The mission also demonstrated the power of human ingenuity and determination, and it continues to inspire people around the world to pursue careers in science, technology, engineering, and mathematics (STEM).\\n\\nIn conclusion, the Apollo 11 mission was a groundbreaking achievement that marked a major milestone in space exploration. The mission's success was a testament to the power of human ingenuity and determination, and it continues to inspire people around the world to pursue careers in STEM fields.\"}]\n"
          ]
        }
      ],
      "source": [
        "import requests\n",
        "\n",
        "def query(payload):\n",
        "\theaders = {\n",
        "\t\t\"Accept\" : \"application/json\",\n",
        "\t\t\"Authorization\": f\"Bearer {HF_TOKEN}\",\n",
        "\t\t\"Content-Type\": \"application/json\"\n",
        "\t}\n",
        "\tresponse = requests.post(\n",
        "\t\t\"https://abloindt9lv726oa.us-east-1.aws.endpoints.huggingface.cloud\",\n",
        "\t\theaders=headers,\n",
        "\t\tjson=payload\n",
        "\t)\n",
        "\treturn response.json()\n",
        "\n",
        "output = query({\n",
        "\t\"inputs\": \"A small step for a man\",\n",
        "\t\"parameters\": {}\n",
        "})\n",
        "\n",
        "print(output)\n"
      ]
    },
    {
      "cell_type": "markdown",
      "id": "17a63544",
      "metadata": {
        "id": "17a63544"
      },
      "source": [
        "## Controlling model output structure with `pydantic`"
      ]
    },
    {
      "cell_type": "code",
      "execution_count": null,
      "id": "1f55b661",
      "metadata": {
        "id": "1f55b661"
      },
      "outputs": [],
      "source": [
        "## this code is necessary to use pydantic in notebooks, see https://ai.pydantic.dev/troubleshooting/\n",
        "import nest_asyncio\n",
        "nest_asyncio.apply()"
      ]
    },
    {
      "cell_type": "code",
      "execution_count": null,
      "id": "c4924ad0",
      "metadata": {
        "id": "c4924ad0",
        "outputId": "48b4d426-0791-4614-8248-e2695b5b5f84"
      },
      "outputs": [
        {
          "name": "stdout",
          "output_type": "stream",
          "text": [
            "city='London' country='United Kingdom'\n"
          ]
        }
      ],
      "source": [
        "from pydantic import BaseModel\n",
        "\n",
        "from pydantic_ai import Agent\n",
        "\n",
        "class CityLocation(BaseModel):\n",
        "    city: str\n",
        "    country: str\n",
        "\n",
        "agent = Agent('huggingface:Qwen/Qwen3-235B-A22B', output_type=CityLocation)\n",
        "\n",
        "result = agent.run_sync('Where were the olympics held in 2012?')"
      ]
    },
    {
      "cell_type": "code",
      "execution_count": null,
      "id": "299e99e5",
      "metadata": {
        "id": "299e99e5",
        "outputId": "c68fcbc7-7426-414c-968f-acfcc5db54f6"
      },
      "outputs": [
        {
          "data": {
            "text/plain": [
              "'London'"
            ]
          },
          "execution_count": 8,
          "metadata": {},
          "output_type": "execute_result"
        }
      ],
      "source": [
        "result.output.city"
      ]
    },
    {
      "cell_type": "code",
      "execution_count": null,
      "id": "7ae5fc72",
      "metadata": {
        "id": "7ae5fc72",
        "outputId": "1043a441-f66a-48b2-aab7-4f47a5ed136c"
      },
      "outputs": [
        {
          "data": {
            "text/plain": [
              "'United Kingdom'"
            ]
          },
          "execution_count": 9,
          "metadata": {},
          "output_type": "execute_result"
        }
      ],
      "source": [
        "result.output.country"
      ]
    }
  ],
  "metadata": {
    "kernelspec": {
      "display_name": ".venv (3.12.0)",
      "language": "python",
      "name": "python3"
    },
    "language_info": {
      "codemirror_mode": {
        "name": "ipython",
        "version": 3
      },
      "file_extension": ".py",
      "mimetype": "text/x-python",
      "name": "python",
      "nbconvert_exporter": "python",
      "pygments_lexer": "ipython3",
      "version": "3.12.0"
    },
    "colab": {
      "provenance": [],
      "include_colab_link": true
    }
  },
  "nbformat": 4,
  "nbformat_minor": 5
}