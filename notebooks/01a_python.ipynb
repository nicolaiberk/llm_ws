{
 "cells": [
  {
   "cell_type": "markdown",
   "id": "63e4354c",
   "metadata": {},
   "source": [
    "# Introduction to Python & Colab"
   ]
  },
  {
   "cell_type": "markdown",
   "id": "db9f8992",
   "metadata": {},
   "source": [
    "Welcome! You are looking at a powerful document type: a *juyter notebook*. These notebooks can interactively execute code. Test it out by pressing the ▶️ symbol of the cell below:"
   ]
  },
  {
   "cell_type": "code",
   "execution_count": 1,
   "id": "65e62b51",
   "metadata": {},
   "outputs": [
    {
     "name": "stdout",
     "output_type": "stream",
     "text": [
      "Hello World!\n"
     ]
    }
   ],
   "source": [
    "print(\"Hello World!\")"
   ]
  },
  {
   "cell_type": "markdown",
   "id": "f73d4ae1",
   "metadata": {},
   "source": [
    "You just executed your first python code! Python is an old programming language with a massive community and many, many applications. In this tutorial, we will focus on the necessary basics to work with text."
   ]
  },
  {
   "cell_type": "markdown",
   "id": "8bf2f97a",
   "metadata": {},
   "source": [
    "## Values and Objects"
   ]
  },
  {
   "cell_type": "markdown",
   "id": "9b3ee3f0",
   "metadata": {},
   "source": [
    "Maybe most importantly, you can assign *values* to *objects*. A value can be a text (string) or natural number (integer) or decimal (float). These data types are our most fundamental building blocks, also called data types. You can assign them to an object with a name of your choosing using the `=` operator:"
   ]
  },
  {
   "cell_type": "code",
   "execution_count": 2,
   "id": "d9ef5437",
   "metadata": {},
   "outputs": [],
   "source": [
    "my_first_object = 10"
   ]
  },
  {
   "cell_type": "markdown",
   "id": "35a27308",
   "metadata": {},
   "source": [
    "Now, when you call the object, it will return its value:"
   ]
  },
  {
   "cell_type": "code",
   "execution_count": 3,
   "id": "bffb9c0d",
   "metadata": {},
   "outputs": [
    {
     "data": {
      "text/plain": [
       "10"
      ]
     },
     "execution_count": 3,
     "metadata": {},
     "output_type": "execute_result"
    }
   ],
   "source": [
    "my_first_object"
   ]
  },
  {
   "cell_type": "markdown",
   "id": "a057f1be",
   "metadata": {},
   "source": [
    "One powerful thing of working with objects is that you can calculate with them as placeholders for values:"
   ]
  },
  {
   "cell_type": "code",
   "execution_count": 4,
   "id": "d339f83e",
   "metadata": {},
   "outputs": [
    {
     "data": {
      "text/plain": [
       "100"
      ]
     },
     "execution_count": 4,
     "metadata": {},
     "output_type": "execute_result"
    }
   ],
   "source": [
    "my_first_object * 10"
   ]
  },
  {
   "cell_type": "markdown",
   "id": "c322edd3",
   "metadata": {},
   "source": [
    "In python, you can even calculate with texts:"
   ]
  },
  {
   "cell_type": "code",
   "execution_count": 8,
   "id": "e75b9e04",
   "metadata": {},
   "outputs": [
    {
     "name": "stdout",
     "output_type": "stream",
     "text": [
      "NLPNLPNLPNLPNLPNLPNLPNLPNLPNLP\n",
      "NLP <3 LLMs\n"
     ]
    }
   ],
   "source": [
    "my_first_string = \"NLP\"\n",
    "print(my_first_string * 10)\n",
    "print(my_first_string + \" <3 LLMs\")"
   ]
  },
  {
   "cell_type": "markdown",
   "id": "a15ffb0f",
   "metadata": {},
   "source": [
    "You can transform numerical values to texts by using `str()`, and texts to numerical values by using `int()` or `float()`."
   ]
  },
  {
   "cell_type": "code",
   "execution_count": 89,
   "id": "fd2c9d5b",
   "metadata": {},
   "outputs": [
    {
     "data": {
      "text/plain": [
       "'1'"
      ]
     },
     "execution_count": 89,
     "metadata": {},
     "output_type": "execute_result"
    }
   ],
   "source": [
    "str(1)"
   ]
  },
  {
   "cell_type": "markdown",
   "id": "9fbd2820",
   "metadata": {},
   "source": [
    "A very important data type is the logical or boolean value:"
   ]
  },
  {
   "cell_type": "code",
   "execution_count": 9,
   "id": "6e6737e4",
   "metadata": {},
   "outputs": [
    {
     "data": {
      "text/plain": [
       "True"
      ]
     },
     "execution_count": 9,
     "metadata": {},
     "output_type": "execute_result"
    }
   ],
   "source": [
    "llms_are_powerful = True\n",
    "llms_are_powerful"
   ]
  },
  {
   "cell_type": "markdown",
   "id": "d2145c76",
   "metadata": {},
   "source": [
    "## Conditional Statements"
   ]
  },
  {
   "cell_type": "markdown",
   "id": "83f03351",
   "metadata": {},
   "source": [
    "We can use them to make *conditional statements*:"
   ]
  },
  {
   "cell_type": "code",
   "execution_count": 10,
   "id": "d138b40c",
   "metadata": {},
   "outputs": [
    {
     "name": "stdout",
     "output_type": "stream",
     "text": [
      "LLMs are powerful!\n"
     ]
    }
   ],
   "source": [
    "if llms_are_powerful:\n",
    "    print(\"LLMs are powerful!\")"
   ]
  },
  {
   "cell_type": "markdown",
   "id": "ffd3b516",
   "metadata": {},
   "source": [
    "*Exercise: change the value of the object `llms_are_powerful` and run the same code again. What happens?*"
   ]
  },
  {
   "cell_type": "code",
   "execution_count": null,
   "id": "1413d086",
   "metadata": {},
   "outputs": [],
   "source": [
    "## Your code here\n"
   ]
  },
  {
   "cell_type": "code",
   "execution_count": null,
   "id": "b4b6bc90",
   "metadata": {},
   "outputs": [
    {
     "name": "stdout",
     "output_type": "stream",
     "text": [
      "LLMs are powerful!\n"
     ]
    }
   ],
   "source": [
    "if llms_are_powerful:\n",
    "    print(\"LLMs are powerful!\")"
   ]
  },
  {
   "cell_type": "markdown",
   "id": "04a89f04",
   "metadata": {},
   "source": [
    "These conditional statements can be combined to control the flow of your code:"
   ]
  },
  {
   "cell_type": "code",
   "execution_count": 11,
   "id": "1fac5f4f",
   "metadata": {},
   "outputs": [
    {
     "name": "stdout",
     "output_type": "stream",
     "text": [
      "a is greater than b\n"
     ]
    }
   ],
   "source": [
    "a = 5\n",
    "b = 4\n",
    "\n",
    "if a > b:\n",
    "    print(\"a is greater than b\")\n",
    "elif a < b:\n",
    "    print(\"a is less than b\")\n",
    "else:\n",
    "    print(\"a is equal to b\")"
   ]
  },
  {
   "cell_type": "markdown",
   "id": "018e445e",
   "metadata": {},
   "source": [
    "...and this also works with text:"
   ]
  },
  {
   "cell_type": "code",
   "execution_count": 62,
   "id": "dcec1f57",
   "metadata": {},
   "outputs": [
    {
     "name": "stdout",
     "output_type": "stream",
     "text": [
      "This text might be about social science!\n",
      "\n"
     ]
    }
   ],
   "source": [
    "text = \"social media research\"\n",
    "if \"social\" in text:\n",
    "    print(\"This text might be about social science!\")\n",
    "else:\n",
    "    print(\"This text is about something else.\")\n",
    "print()"
   ]
  },
  {
   "cell_type": "markdown",
   "id": "c207b76f",
   "metadata": {},
   "source": [
    "*Exercise: Change the values of `a` and `b` to see how the output changes.*"
   ]
  },
  {
   "cell_type": "markdown",
   "id": "0405d69e",
   "metadata": {},
   "source": [
    "## Lists and Dictionaries"
   ]
  },
  {
   "cell_type": "markdown",
   "id": "edea3547",
   "metadata": {},
   "source": [
    "An object does not have to consist of a single value. We can use *lists* to combine values. They are defined using brackets to combine several values (or objects):"
   ]
  },
  {
   "cell_type": "code",
   "execution_count": 43,
   "id": "2d323192",
   "metadata": {},
   "outputs": [
    {
     "data": {
      "text/plain": [
       "[1, 2, 3, 4, 5]"
      ]
     },
     "execution_count": 43,
     "metadata": {},
     "output_type": "execute_result"
    }
   ],
   "source": [
    "my_first_list = [1, 2, 3, 4, 5]\n",
    "my_first_list"
   ]
  },
  {
   "cell_type": "markdown",
   "id": "e79ec2c8",
   "metadata": {},
   "source": [
    "We can then also use brackets to access specific values in these lists.\n",
    "\n",
    "⚠️ **CAREFUL: Counting in python starts with `0`!**"
   ]
  },
  {
   "cell_type": "code",
   "execution_count": 44,
   "id": "a072e6cf",
   "metadata": {},
   "outputs": [
    {
     "data": {
      "text/plain": [
       "1"
      ]
     },
     "execution_count": 44,
     "metadata": {},
     "output_type": "execute_result"
    }
   ],
   "source": [
    "my_first_list[0]"
   ]
  },
  {
   "cell_type": "code",
   "execution_count": 45,
   "id": "f62b8ee5",
   "metadata": {},
   "outputs": [
    {
     "ename": "IndexError",
     "evalue": "list index out of range",
     "output_type": "error",
     "traceback": [
      "\u001b[31m---------------------------------------------------------------------------\u001b[39m",
      "\u001b[31mIndexError\u001b[39m                                Traceback (most recent call last)",
      "\u001b[36mCell\u001b[39m\u001b[36m \u001b[39m\u001b[32mIn[45]\u001b[39m\u001b[32m, line 1\u001b[39m\n\u001b[32m----> \u001b[39m\u001b[32m1\u001b[39m \u001b[43mmy_first_list\u001b[49m\u001b[43m[\u001b[49m\u001b[32;43m5\u001b[39;49m\u001b[43m]\u001b[49m \u001b[38;5;66;03m# to access the tenth element, you need to index my_first_list[9]\u001b[39;00m\n",
      "\u001b[31mIndexError\u001b[39m: list index out of range"
     ]
    }
   ],
   "source": [
    "my_first_list[5] # to access the tenth element, you need to index my_first_list[9]"
   ]
  },
  {
   "cell_type": "markdown",
   "id": "5751cb14",
   "metadata": {},
   "source": [
    "Two important *functions* (technically *methods*) when working with lists are `extend()` and `append()`. `extend` extends the list with objects or values in another list:"
   ]
  },
  {
   "cell_type": "code",
   "execution_count": 46,
   "id": "4b13e7a8",
   "metadata": {},
   "outputs": [
    {
     "data": {
      "text/plain": [
       "[1, 2, 3, 4, 5, 6, 7, 8, 9, 10]"
      ]
     },
     "execution_count": 46,
     "metadata": {},
     "output_type": "execute_result"
    }
   ],
   "source": [
    "my_first_list.extend([6, 7, 8, 9, 10])\n",
    "my_first_list"
   ]
  },
  {
   "cell_type": "markdown",
   "id": "18bcbb6e",
   "metadata": {},
   "source": [
    "... while `append` adds the new item as a single item in your list:"
   ]
  },
  {
   "cell_type": "code",
   "execution_count": 47,
   "id": "9905ece0",
   "metadata": {},
   "outputs": [
    {
     "data": {
      "text/plain": [
       "[1, 2, 3, 4, 5, 6, 7, 8, 9, 10, [11, 12, 13, 14, 15]]"
      ]
     },
     "execution_count": 47,
     "metadata": {},
     "output_type": "execute_result"
    }
   ],
   "source": [
    "my_first_list.append([11, 12, 13, 14, 15])\n",
    "my_first_list"
   ]
  },
  {
   "cell_type": "markdown",
   "id": "62a60050",
   "metadata": {},
   "source": [
    "## Loops"
   ]
  },
  {
   "cell_type": "markdown",
   "id": "73103fc7",
   "metadata": {},
   "source": [
    "One particularly powerful way to work with lists are *loops*. *for-loops* repeat a specific snippet of code for each item in a list: "
   ]
  },
  {
   "cell_type": "code",
   "execution_count": 55,
   "id": "7cb6dc44",
   "metadata": {},
   "outputs": [
    {
     "name": "stdout",
     "output_type": "stream",
     "text": [
      "2\n",
      "4\n",
      "6\n",
      "8\n",
      "10\n"
     ]
    }
   ],
   "source": [
    "my_first_list = [1, 2, 3, 4, 5]\n",
    "\n",
    "for item in my_first_list:\n",
    "    print(item * 2)"
   ]
  },
  {
   "cell_type": "markdown",
   "id": "f3121c9d",
   "metadata": {},
   "source": [
    "*Exercise: Change the code snippet within the for loop to apply different operations to each item.*"
   ]
  },
  {
   "cell_type": "markdown",
   "id": "9bcff14a",
   "metadata": {},
   "source": [
    "A particularly useful function for loops is `enumerate()`, which creates an index for the loop:"
   ]
  },
  {
   "cell_type": "code",
   "execution_count": 88,
   "id": "ed0f59ce",
   "metadata": {},
   "outputs": [
    {
     "name": "stdout",
     "output_type": "stream",
     "text": [
      "Item 0 is 1\n",
      "Item 1 is 2\n",
      "Item 2 is 3\n",
      "Item 3 is 4\n",
      "Item 4 is 5\n"
     ]
    }
   ],
   "source": [
    "for i, item in enumerate(my_first_list):\n",
    "    print(\"Item \" + str(i) + \" is \" + str(item))"
   ]
  },
  {
   "cell_type": "markdown",
   "id": "3fede7bd",
   "metadata": {},
   "source": [
    "*while-loops* run as long as their condition is true:"
   ]
  },
  {
   "cell_type": "code",
   "execution_count": 58,
   "id": "6f1ef40a",
   "metadata": {},
   "outputs": [
    {
     "name": "stdout",
     "output_type": "stream",
     "text": [
      "1\n",
      "2\n",
      "3\n",
      "4\n"
     ]
    }
   ],
   "source": [
    "a = 1\n",
    "\n",
    "while a < 5:\n",
    "    print(a)\n",
    "    a += 1"
   ]
  },
  {
   "cell_type": "markdown",
   "id": "200b5998",
   "metadata": {},
   "source": [
    "We can also use `break` to stop a loop's execution:"
   ]
  },
  {
   "cell_type": "code",
   "execution_count": 77,
   "id": "255e8721",
   "metadata": {},
   "outputs": [
    {
     "name": "stdout",
     "output_type": "stream",
     "text": [
      "1\n",
      "2\n",
      "3\n",
      "4\n",
      "5\n"
     ]
    }
   ],
   "source": [
    "a = 1\n",
    "while True:\n",
    "    print(a)\n",
    "    a += 1\n",
    "    if a > 5:\n",
    "        break"
   ]
  },
  {
   "cell_type": "markdown",
   "id": "34bb7340",
   "metadata": {},
   "source": [
    "*Exercise: change the condition of the while loop to see how the behaviour changes.*"
   ]
  },
  {
   "cell_type": "markdown",
   "id": "f5787067",
   "metadata": {},
   "source": [
    "A particular way to iterate over lists in python is a so-called *list-comprehension*. In order to create a list comprehension, we basically combine square brackets and a loop:"
   ]
  },
  {
   "cell_type": "code",
   "execution_count": 61,
   "id": "9f002bce",
   "metadata": {},
   "outputs": [
    {
     "data": {
      "text/plain": [
       "['m', 'y', '_', 'f', 'i', 'r', 's', 't', '_', 'l', 'i', 's', 't']"
      ]
     },
     "execution_count": 61,
     "metadata": {},
     "output_type": "execute_result"
    }
   ],
   "source": [
    "[i ** 2 for i in my_first_list]"
   ]
  },
  {
   "cell_type": "markdown",
   "id": "24663e0c",
   "metadata": {},
   "source": [
    "*Exercise: create your own list and use it in a list comprehension.*"
   ]
  },
  {
   "cell_type": "markdown",
   "id": "53c0b1de",
   "metadata": {},
   "source": [
    "> 💡List comprehensions work on many kinds of objects, not only lists."
   ]
  },
  {
   "cell_type": "markdown",
   "id": "ec3ddb6b",
   "metadata": {},
   "source": [
    "## Working with text"
   ]
  },
  {
   "cell_type": "markdown",
   "id": "38e92212",
   "metadata": {},
   "source": [
    "Python has a few basic functions which make working with text a lot easier. Their names are rather self-descriptive:"
   ]
  },
  {
   "cell_type": "code",
   "execution_count": 63,
   "id": "48dd077d",
   "metadata": {},
   "outputs": [
    {
     "data": {
      "text/plain": [
       "['Natural', 'Language', 'Processing']"
      ]
     },
     "execution_count": 63,
     "metadata": {},
     "output_type": "execute_result"
    }
   ],
   "source": [
    "text = \"Natural Language Processing\"\n",
    "text.split()"
   ]
  },
  {
   "cell_type": "code",
   "execution_count": 64,
   "id": "e88cf430",
   "metadata": {},
   "outputs": [
    {
     "data": {
      "text/plain": [
       "['N', 'tur', 'l L', 'ngu', 'ge Processing']"
      ]
     },
     "execution_count": 64,
     "metadata": {},
     "output_type": "execute_result"
    }
   ],
   "source": [
    "text.split('a')"
   ]
  },
  {
   "cell_type": "code",
   "execution_count": 65,
   "id": "e4625182",
   "metadata": {},
   "outputs": [
    {
     "data": {
      "text/plain": [
       "'Noturol Longuoge Processing'"
      ]
     },
     "execution_count": 65,
     "metadata": {},
     "output_type": "execute_result"
    }
   ],
   "source": [
    "text.replace('a', 'o')"
   ]
  },
  {
   "cell_type": "code",
   "execution_count": 66,
   "id": "068bab00",
   "metadata": {},
   "outputs": [
    {
     "data": {
      "text/plain": [
       "'natural language processing'"
      ]
     },
     "execution_count": 66,
     "metadata": {},
     "output_type": "execute_result"
    }
   ],
   "source": [
    "text.lower()"
   ]
  },
  {
   "cell_type": "code",
   "execution_count": 68,
   "id": "1279c904",
   "metadata": {},
   "outputs": [
    {
     "data": {
      "text/plain": [
       "'NATURAL LANGUAGE PROCESSING'"
      ]
     },
     "execution_count": 68,
     "metadata": {},
     "output_type": "execute_result"
    }
   ],
   "source": [
    "text.upper()"
   ]
  },
  {
   "cell_type": "markdown",
   "id": "8f950679",
   "metadata": {},
   "source": [
    "*In colab, you can see the set of applicable functions when typing the object name followed by a dot. Try it out by applying another function to the string:*"
   ]
  },
  {
   "cell_type": "code",
   "execution_count": 73,
   "id": "11757cca",
   "metadata": {},
   "outputs": [
    {
     "data": {
      "text/plain": [
       "4"
      ]
     },
     "execution_count": 73,
     "metadata": {},
     "output_type": "execute_result"
    }
   ],
   "source": [
    "text ## add dot here"
   ]
  },
  {
   "cell_type": "markdown",
   "id": "f2db2143",
   "metadata": {},
   "source": [
    "## Dictionaries"
   ]
  },
  {
   "cell_type": "markdown",
   "id": "986e582a",
   "metadata": {},
   "source": [
    "Sometimes, we need to ensure that certain values are accessible by name. For this purpose, python contains dictionaries, where each value is associated with a given *key*. To access the value, we need to provide the key."
   ]
  },
  {
   "cell_type": "code",
   "execution_count": 74,
   "id": "4aadf980",
   "metadata": {},
   "outputs": [
    {
     "data": {
      "text/plain": [
       "'John'"
      ]
     },
     "execution_count": 74,
     "metadata": {},
     "output_type": "execute_result"
    }
   ],
   "source": [
    "my_first_dict = {\n",
    "    \"name\": \"John\",\n",
    "    \"age\": 30,\n",
    "    \"city\": \"New York\"\n",
    "}\n",
    "\n",
    "my_first_dict[\"name\"]"
   ]
  },
  {
   "cell_type": "markdown",
   "id": "e488588c",
   "metadata": {},
   "source": [
    "You can change the values in the list the same way:"
   ]
  },
  {
   "cell_type": "code",
   "execution_count": 76,
   "id": "63b27d85",
   "metadata": {},
   "outputs": [
    {
     "data": {
      "text/plain": [
       "{'name': 'John', 'age': 31, 'city': 'New York'}"
      ]
     },
     "execution_count": 76,
     "metadata": {},
     "output_type": "execute_result"
    }
   ],
   "source": [
    "my_first_dict[\"age\"] = 31\n",
    "my_first_dict"
   ]
  },
  {
   "cell_type": "markdown",
   "id": "cf580b72",
   "metadata": {},
   "source": [
    "## Functions"
   ]
  },
  {
   "cell_type": "markdown",
   "id": "9632bcb0",
   "metadata": {},
   "source": [
    "Functions are one of the most powerful properties of any programming language. They allow us to apply the same operation to any object, without necessitating a re-write of our code. We define. a function like this:"
   ]
  },
  {
   "cell_type": "code",
   "execution_count": 83,
   "id": "df87ad35",
   "metadata": {},
   "outputs": [],
   "source": [
    "def greet(name):\n",
    "    return \"Hello, \" + name + \"! Welcome to Python!\""
   ]
  },
  {
   "cell_type": "markdown",
   "id": "72b29f48",
   "metadata": {},
   "source": [
    "Let's go through each part:\n",
    "\n",
    "- `def` tells python to define a function\n",
    "- `greet` defines the name of the function for later use\n",
    "- `(name)` specifies the *arguments* passed to the function. We can specify several arguments, as you will see soon.\n",
    "- `:` signifies the following code is part of the function. IMPORTANT: the code needs to be indented. Otherwise, it will not be recognized"
   ]
  },
  {
   "cell_type": "markdown",
   "id": "03fe21ee",
   "metadata": {},
   "source": [
    "def greet(name):\n",
    "    return \"Hello, \" + name + \"! Welcome to Python!\""
   ]
  },
  {
   "cell_type": "code",
   "execution_count": 84,
   "id": "40a913a9",
   "metadata": {},
   "outputs": [
    {
     "data": {
      "text/plain": [
       "'Hello, Nico! Welcome to Python!'"
      ]
     },
     "execution_count": 84,
     "metadata": {},
     "output_type": "execute_result"
    }
   ],
   "source": [
    "def greet(name, excited = False):\n",
    "    tmp_str = \"Hello, \" + name + \"! Welcome to Python!\"\n",
    "    if excited: ## this works\n",
    "        tmp_str = tmp_str + \" It is so great to meet you!\"\n",
    "    return tmp_str\n",
    "\n",
    "greet(\"Nico\")"
   ]
  },
  {
   "cell_type": "code",
   "execution_count": 85,
   "id": "2968d599",
   "metadata": {},
   "outputs": [
    {
     "ename": "NameError",
     "evalue": "name 'excited' is not defined",
     "output_type": "error",
     "traceback": [
      "\u001b[31m---------------------------------------------------------------------------\u001b[39m",
      "\u001b[31mNameError\u001b[39m                                 Traceback (most recent call last)",
      "\u001b[36mCell\u001b[39m\u001b[36m \u001b[39m\u001b[32mIn[85]\u001b[39m\u001b[32m, line 3\u001b[39m\n\u001b[32m      1\u001b[39m \u001b[38;5;28;01mdef\u001b[39;00m\u001b[38;5;250m \u001b[39m\u001b[34mgreet\u001b[39m(name, excited = \u001b[38;5;28;01mFalse\u001b[39;00m):\n\u001b[32m      2\u001b[39m     tmp_str = \u001b[33m\"\u001b[39m\u001b[33mHello, \u001b[39m\u001b[33m\"\u001b[39m + name + \u001b[33m\"\u001b[39m\u001b[33m! Welcome to Python!\u001b[39m\u001b[33m\"\u001b[39m\n\u001b[32m----> \u001b[39m\u001b[32m3\u001b[39m \u001b[38;5;28;01mif\u001b[39;00m \u001b[43mexcited\u001b[49m: \u001b[38;5;66;03m## this does not work\u001b[39;00m\n\u001b[32m      4\u001b[39m     tmp_str = tmp_str + \u001b[33m\"\u001b[39m\u001b[33m It is so great to meet you!\u001b[39m\u001b[33m\"\u001b[39m\n\u001b[32m      5\u001b[39m \u001b[38;5;28;01mreturn\u001b[39;00m tmp_str\n",
      "\u001b[31mNameError\u001b[39m: name 'excited' is not defined"
     ]
    }
   ],
   "source": [
    "def greet(name, excited = False):\n",
    "    tmp_str = \"Hello, \" + name + \"! Welcome to Python!\"\n",
    "if excited: ## this does not work\n",
    "    tmp_str = tmp_str + \" It is so great to meet you!\"\n",
    "return tmp_str"
   ]
  },
  {
   "cell_type": "markdown",
   "id": "3e8feaf5",
   "metadata": {},
   "source": [
    "*Can you explain the error message?*"
   ]
  },
  {
   "cell_type": "markdown",
   "id": "f2bc0424",
   "metadata": {},
   "source": [
    "# Exercise"
   ]
  },
  {
   "cell_type": "markdown",
   "id": "2738a91d",
   "metadata": {},
   "source": [
    "0. Define an object containing a string and use list comprehension on this object."
   ]
  },
  {
   "cell_type": "code",
   "execution_count": null,
   "id": "cf2bc16d",
   "metadata": {},
   "outputs": [],
   "source": [
    "## your code here"
   ]
  },
  {
   "cell_type": "markdown",
   "id": "1e12b752",
   "metadata": {},
   "source": [
    "1. Create a list and iterate over each item using a for loop. Ensure that the output differs, depending on the value in the list by using a conditional statement."
   ]
  },
  {
   "cell_type": "code",
   "execution_count": null,
   "id": "6cf54db5",
   "metadata": {},
   "outputs": [],
   "source": []
  },
  {
   "cell_type": "markdown",
   "id": "a291bc52",
   "metadata": {},
   "source": [
    "2. Split the following text into words. Count the number of words containing an 'o' and the number of words who do not."
   ]
  },
  {
   "cell_type": "markdown",
   "id": "8d4cb925",
   "metadata": {},
   "source": [
    "text_to_analyze = \"As Gregor Samsa awoke one morning from uneasy dreams he found himself transformed in his bed into a gigantic insect. He was lying on his hard, as it were armor-plated, back and when he lifted his head a little he could see his dome-like brown belly divided into stiff arched segments on top of which the bed quilt could hardly keep in position and was about to slide off completely. His numerous legs, which were pitifully thin compared to the rest of his bulk, waved helplessly before his eyes.\""
   ]
  },
  {
   "cell_type": "markdown",
   "id": "2e7099b7",
   "metadata": {},
   "source": [
    "3. Write a function that takes a text and counts the number of 'a's and 'e's in it. Do not use `count()` Apply it to the text above."
   ]
  },
  {
   "cell_type": "code",
   "execution_count": null,
   "id": "3058375a",
   "metadata": {},
   "outputs": [],
   "source": []
  }
 ],
 "metadata": {
  "kernelspec": {
   "display_name": ".venv (3.12.0)",
   "language": "python",
   "name": "python3"
  },
  "language_info": {
   "codemirror_mode": {
    "name": "ipython",
    "version": 3
   },
   "file_extension": ".py",
   "mimetype": "text/x-python",
   "name": "python",
   "nbconvert_exporter": "python",
   "pygments_lexer": "ipython3",
   "version": "3.12.0"
  }
 },
 "nbformat": 4,
 "nbformat_minor": 5
}
