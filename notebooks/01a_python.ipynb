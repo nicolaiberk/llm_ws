{
  "cells": [
    {
      "cell_type": "markdown",
      "metadata": {
        "id": "view-in-github",
        "colab_type": "text"
      },
      "source": [
        "<a href=\"https://colab.research.google.com/github/nicolaiberk/llm_ws/blob/main/notebooks/01a_python.ipynb\" target=\"_parent\"><img src=\"https://colab.research.google.com/assets/colab-badge.svg\" alt=\"Open In Colab\"/></a>"
      ]
    },
    {
      "cell_type": "markdown",
      "id": "63e4354c",
      "metadata": {
        "id": "63e4354c"
      },
      "source": [
        "# Introduction to Python & Colab"
      ]
    },
    {
      "cell_type": "markdown",
      "id": "db9f8992",
      "metadata": {
        "id": "db9f8992"
      },
      "source": [
        "Welcome! You are looking at a powerful document type: a *jupyter notebook*. These notebooks can interactively execute code. Test it out by pressing the ▶️ symbol of the cell below:"
      ]
    },
    {
      "cell_type": "code",
      "execution_count": null,
      "id": "65e62b51",
      "metadata": {
        "id": "65e62b51"
      },
      "outputs": [],
      "source": [
        "print(\"Hello World!\")"
      ]
    },
    {
      "cell_type": "markdown",
      "id": "f73d4ae1",
      "metadata": {
        "id": "f73d4ae1"
      },
      "source": [
        "You just executed your first python code! Python is an old programming language with a massive community and many, many applications. In this tutorial, we will focus on the necessary basics to work with text."
      ]
    },
    {
      "cell_type": "markdown",
      "id": "8bf2f97a",
      "metadata": {
        "id": "8bf2f97a"
      },
      "source": [
        "## Values and Objects"
      ]
    },
    {
      "cell_type": "markdown",
      "id": "9b3ee3f0",
      "metadata": {
        "id": "9b3ee3f0"
      },
      "source": [
        "Maybe most importantly, you can assign *values* to *objects*. A value can be a text (string) or natural number (integer) or decimal (float). These data types are our most fundamental building blocks, also called data types. You can assign them to an object with a name of your choosing using the `=` operator:"
      ]
    },
    {
      "cell_type": "code",
      "execution_count": null,
      "id": "d9ef5437",
      "metadata": {
        "id": "d9ef5437"
      },
      "outputs": [],
      "source": [
        "my_first_object = 10"
      ]
    },
    {
      "cell_type": "markdown",
      "id": "35a27308",
      "metadata": {
        "id": "35a27308"
      },
      "source": [
        "Now, when you call the object, it will return its value:"
      ]
    },
    {
      "cell_type": "code",
      "execution_count": null,
      "id": "bffb9c0d",
      "metadata": {
        "id": "bffb9c0d"
      },
      "outputs": [],
      "source": [
        "my_first_object"
      ]
    },
    {
      "cell_type": "markdown",
      "id": "a057f1be",
      "metadata": {
        "id": "a057f1be"
      },
      "source": [
        "One powerful thing of working with objects is that you can calculate with them as placeholders for values:"
      ]
    },
    {
      "cell_type": "code",
      "execution_count": null,
      "id": "d339f83e",
      "metadata": {
        "id": "d339f83e"
      },
      "outputs": [],
      "source": [
        "my_first_object * 10"
      ]
    },
    {
      "cell_type": "markdown",
      "id": "c322edd3",
      "metadata": {
        "id": "c322edd3"
      },
      "source": [
        "In python, you can even calculate with texts:"
      ]
    },
    {
      "cell_type": "code",
      "execution_count": null,
      "id": "e75b9e04",
      "metadata": {
        "id": "e75b9e04"
      },
      "outputs": [],
      "source": [
        "my_first_string = \"NLP\"\n",
        "print(my_first_string * 10)\n",
        "print(my_first_string + \" <3 LLMs\")"
      ]
    },
    {
      "cell_type": "markdown",
      "id": "a15ffb0f",
      "metadata": {
        "id": "a15ffb0f"
      },
      "source": [
        "You can transform numerical values to texts by using `str()`, and texts to numerical values by using `int()` or `float()`."
      ]
    },
    {
      "cell_type": "code",
      "execution_count": null,
      "id": "fd2c9d5b",
      "metadata": {
        "id": "fd2c9d5b"
      },
      "outputs": [],
      "source": [
        "str(1)"
      ]
    },
    {
      "cell_type": "markdown",
      "id": "9fbd2820",
      "metadata": {
        "id": "9fbd2820"
      },
      "source": [
        "A very important data type is the logical or boolean value:"
      ]
    },
    {
      "cell_type": "code",
      "execution_count": null,
      "id": "6e6737e4",
      "metadata": {
        "id": "6e6737e4"
      },
      "outputs": [],
      "source": [
        "llms_are_powerful = True\n",
        "llms_are_powerful"
      ]
    },
    {
      "cell_type": "markdown",
      "source": [
        "*Exercise: try it out, assign your own first object!*"
      ],
      "metadata": {
        "id": "Wmwu5i-b0faq"
      },
      "id": "Wmwu5i-b0faq"
    },
    {
      "cell_type": "code",
      "source": [
        "## your code here"
      ],
      "metadata": {
        "id": "8bFQnORA0ft6"
      },
      "id": "8bFQnORA0ft6",
      "execution_count": null,
      "outputs": []
    },
    {
      "cell_type": "markdown",
      "id": "d2145c76",
      "metadata": {
        "id": "d2145c76"
      },
      "source": [
        "## Conditional Statements"
      ]
    },
    {
      "cell_type": "markdown",
      "id": "83f03351",
      "metadata": {
        "id": "83f03351"
      },
      "source": [
        "We can use them to make *conditional statements*:"
      ]
    },
    {
      "cell_type": "code",
      "execution_count": null,
      "id": "d138b40c",
      "metadata": {
        "id": "d138b40c"
      },
      "outputs": [],
      "source": [
        "if llms_are_powerful:\n",
        "    print(\"LLMs are powerful!\")"
      ]
    },
    {
      "cell_type": "markdown",
      "id": "ffd3b516",
      "metadata": {
        "id": "ffd3b516"
      },
      "source": [
        "*Exercise: change the value of the object `llms_are_powerful` and run the same code again. What happens?*"
      ]
    },
    {
      "cell_type": "code",
      "execution_count": null,
      "id": "1413d086",
      "metadata": {
        "id": "1413d086"
      },
      "outputs": [],
      "source": [
        "## Your code here\n"
      ]
    },
    {
      "cell_type": "code",
      "execution_count": null,
      "id": "b4b6bc90",
      "metadata": {
        "id": "b4b6bc90"
      },
      "outputs": [],
      "source": [
        "if llms_are_powerful:\n",
        "    print(\"LLMs are powerful!\")"
      ]
    },
    {
      "cell_type": "markdown",
      "id": "04a89f04",
      "metadata": {
        "id": "04a89f04"
      },
      "source": [
        "These conditional statements can be combined to control the flow of your code:"
      ]
    },
    {
      "cell_type": "code",
      "execution_count": null,
      "id": "1fac5f4f",
      "metadata": {
        "id": "1fac5f4f"
      },
      "outputs": [],
      "source": [
        "a = 5\n",
        "b = 4\n",
        "\n",
        "if a > b:\n",
        "    print(\"a is greater than b\")\n",
        "elif a < b:\n",
        "    print(\"a is less than b\")\n",
        "else:\n",
        "    print(\"a is equal to b\")"
      ]
    },
    {
      "cell_type": "markdown",
      "id": "018e445e",
      "metadata": {
        "id": "018e445e"
      },
      "source": [
        "...and this also works with text:"
      ]
    },
    {
      "cell_type": "code",
      "execution_count": null,
      "id": "dcec1f57",
      "metadata": {
        "id": "dcec1f57"
      },
      "outputs": [],
      "source": [
        "text = \"social media research\"\n",
        "if \"social\" in text:\n",
        "    print(\"This text might be about social science!\")\n",
        "else:\n",
        "    print(\"This text is about something else.\")\n",
        "print()"
      ]
    },
    {
      "cell_type": "markdown",
      "id": "c207b76f",
      "metadata": {
        "id": "c207b76f"
      },
      "source": [
        "*Exercise: Change the values of `a` and `b` to see how the output changes.*"
      ]
    },
    {
      "cell_type": "markdown",
      "id": "0405d69e",
      "metadata": {
        "id": "0405d69e"
      },
      "source": [
        "## Lists and Dictionaries"
      ]
    },
    {
      "cell_type": "markdown",
      "id": "edea3547",
      "metadata": {
        "id": "edea3547"
      },
      "source": [
        "An object does not have to consist of a single value. We can use *lists* to combine values. They are defined using brackets to combine several values (or objects):"
      ]
    },
    {
      "cell_type": "code",
      "execution_count": null,
      "id": "2d323192",
      "metadata": {
        "id": "2d323192"
      },
      "outputs": [],
      "source": [
        "my_first_list = [1, 2, 3, 4, 5]\n",
        "my_first_list"
      ]
    },
    {
      "cell_type": "markdown",
      "id": "e79ec2c8",
      "metadata": {
        "id": "e79ec2c8"
      },
      "source": [
        "We can then also use brackets to access specific values in these lists.\n",
        "\n",
        "⚠️ **CAREFUL: Counting in python starts with `0`!**"
      ]
    },
    {
      "cell_type": "code",
      "execution_count": null,
      "id": "a072e6cf",
      "metadata": {
        "id": "a072e6cf"
      },
      "outputs": [],
      "source": [
        "my_first_list[0]"
      ]
    },
    {
      "cell_type": "code",
      "execution_count": null,
      "id": "f62b8ee5",
      "metadata": {
        "id": "f62b8ee5"
      },
      "outputs": [],
      "source": [
        "my_first_list[5] # to access the fifth element, you need to index my_first_list[4]"
      ]
    },
    {
      "cell_type": "markdown",
      "id": "5751cb14",
      "metadata": {
        "id": "5751cb14"
      },
      "source": [
        "Two important *functions* (technically *methods*) when working with lists are `extend()` and `append()`. `extend` extends the list with objects or values in another list:"
      ]
    },
    {
      "cell_type": "code",
      "execution_count": null,
      "id": "4b13e7a8",
      "metadata": {
        "id": "4b13e7a8"
      },
      "outputs": [],
      "source": [
        "my_first_list.extend([6, 7, 8, 9, 10])\n",
        "my_first_list"
      ]
    },
    {
      "cell_type": "markdown",
      "id": "18bcbb6e",
      "metadata": {
        "id": "18bcbb6e"
      },
      "source": [
        "... while `append` adds the new list as a single item in your list:"
      ]
    },
    {
      "cell_type": "code",
      "execution_count": null,
      "id": "9905ece0",
      "metadata": {
        "id": "9905ece0"
      },
      "outputs": [],
      "source": [
        "my_first_list.append([11, 12, 13, 14, 15])\n",
        "my_first_list"
      ]
    },
    {
      "cell_type": "markdown",
      "id": "62a60050",
      "metadata": {
        "id": "62a60050"
      },
      "source": [
        "## Loops"
      ]
    },
    {
      "cell_type": "markdown",
      "id": "73103fc7",
      "metadata": {
        "id": "73103fc7"
      },
      "source": [
        "One particularly powerful way to work with lists are *loops*. *for-loops* repeat a specific snippet of code for each item in a list:"
      ]
    },
    {
      "cell_type": "code",
      "execution_count": null,
      "id": "7cb6dc44",
      "metadata": {
        "id": "7cb6dc44"
      },
      "outputs": [],
      "source": [
        "my_first_list = [1, 2, 3, 4, 5]\n",
        "\n",
        "for item in my_first_list:\n",
        "    print(item * 2)"
      ]
    },
    {
      "cell_type": "markdown",
      "id": "f3121c9d",
      "metadata": {
        "id": "f3121c9d"
      },
      "source": [
        "*Exercise: Change the code snippet within the for loop to apply different operations to each item.*"
      ]
    },
    {
      "cell_type": "markdown",
      "id": "9bcff14a",
      "metadata": {
        "id": "9bcff14a"
      },
      "source": [
        "A particularly useful function for loops is `enumerate()`, which creates an index for the loop:"
      ]
    },
    {
      "cell_type": "code",
      "execution_count": null,
      "id": "ed0f59ce",
      "metadata": {
        "id": "ed0f59ce"
      },
      "outputs": [],
      "source": [
        "for i, item in enumerate(my_first_list):\n",
        "    print(\"Item \" + str(i) + \" is \" + str(item))"
      ]
    },
    {
      "cell_type": "markdown",
      "id": "3fede7bd",
      "metadata": {
        "id": "3fede7bd"
      },
      "source": [
        "*while-loops* run as long as their condition is true:"
      ]
    },
    {
      "cell_type": "code",
      "execution_count": null,
      "id": "6f1ef40a",
      "metadata": {
        "id": "6f1ef40a"
      },
      "outputs": [],
      "source": [
        "a = 1\n",
        "\n",
        "while a < 5:\n",
        "    print(a)\n",
        "    a += 1"
      ]
    },
    {
      "cell_type": "markdown",
      "id": "200b5998",
      "metadata": {
        "id": "200b5998"
      },
      "source": [
        "We can also use `break` to stop a loop's execution:"
      ]
    },
    {
      "cell_type": "code",
      "execution_count": null,
      "id": "255e8721",
      "metadata": {
        "id": "255e8721"
      },
      "outputs": [],
      "source": [
        "a = 1\n",
        "while True:\n",
        "    print(a)\n",
        "    a += 1\n",
        "    if a > 5:\n",
        "        break"
      ]
    },
    {
      "cell_type": "markdown",
      "id": "34bb7340",
      "metadata": {
        "id": "34bb7340"
      },
      "source": [
        "*Exercise: change the condition of the while loop to see how the behaviour changes.*"
      ]
    },
    {
      "cell_type": "markdown",
      "id": "f5787067",
      "metadata": {
        "id": "f5787067"
      },
      "source": [
        "A particular way to iterate over lists in python is a so-called *list-comprehension*. In order to create a list comprehension, we basically combine square brackets and a loop:"
      ]
    },
    {
      "cell_type": "code",
      "execution_count": null,
      "id": "9f002bce",
      "metadata": {
        "id": "9f002bce"
      },
      "outputs": [],
      "source": [
        "[i ** 2 for i in my_first_list]"
      ]
    },
    {
      "cell_type": "markdown",
      "id": "24663e0c",
      "metadata": {
        "id": "24663e0c"
      },
      "source": [
        "*Exercise: create your own list and use it in a list comprehension.*"
      ]
    },
    {
      "cell_type": "markdown",
      "id": "53c0b1de",
      "metadata": {
        "id": "53c0b1de"
      },
      "source": [
        "> 💡List comprehensions work on many kinds of objects, not only lists."
      ]
    },
    {
      "cell_type": "markdown",
      "id": "ec3ddb6b",
      "metadata": {
        "id": "ec3ddb6b"
      },
      "source": [
        "## Working with text"
      ]
    },
    {
      "cell_type": "markdown",
      "id": "38e92212",
      "metadata": {
        "id": "38e92212"
      },
      "source": [
        "Python has a few basic functions which make working with text a lot easier. Their names are rather self-descriptive:"
      ]
    },
    {
      "cell_type": "code",
      "execution_count": null,
      "id": "48dd077d",
      "metadata": {
        "id": "48dd077d"
      },
      "outputs": [],
      "source": [
        "text = \"Natural Language Processing\"\n",
        "text.split()"
      ]
    },
    {
      "cell_type": "code",
      "execution_count": null,
      "id": "e88cf430",
      "metadata": {
        "id": "e88cf430"
      },
      "outputs": [],
      "source": [
        "text.split('a')"
      ]
    },
    {
      "cell_type": "code",
      "execution_count": null,
      "id": "e4625182",
      "metadata": {
        "id": "e4625182"
      },
      "outputs": [],
      "source": [
        "text.replace('a', 'o')"
      ]
    },
    {
      "cell_type": "code",
      "execution_count": null,
      "id": "068bab00",
      "metadata": {
        "id": "068bab00"
      },
      "outputs": [],
      "source": [
        "text.lower()"
      ]
    },
    {
      "cell_type": "code",
      "execution_count": null,
      "id": "1279c904",
      "metadata": {
        "id": "1279c904"
      },
      "outputs": [],
      "source": [
        "text.upper()"
      ]
    },
    {
      "cell_type": "markdown",
      "id": "8f950679",
      "metadata": {
        "id": "8f950679"
      },
      "source": [
        "*In colab, you can see the set of applicable functions when typing the object name followed by a dot. Try it out by applying another function to the string:*"
      ]
    },
    {
      "cell_type": "code",
      "execution_count": null,
      "id": "11757cca",
      "metadata": {
        "id": "11757cca"
      },
      "outputs": [],
      "source": [
        "text ## add dot here"
      ]
    },
    {
      "cell_type": "markdown",
      "id": "f2db2143",
      "metadata": {
        "id": "f2db2143"
      },
      "source": [
        "## Dictionaries"
      ]
    },
    {
      "cell_type": "markdown",
      "id": "986e582a",
      "metadata": {
        "id": "986e582a"
      },
      "source": [
        "Sometimes, we need to ensure that certain values are accessible by name. For this purpose, python contains dictionaries, where each value is associated with a given *key*. To access the value, we need to provide the key."
      ]
    },
    {
      "cell_type": "code",
      "execution_count": null,
      "id": "4aadf980",
      "metadata": {
        "id": "4aadf980"
      },
      "outputs": [],
      "source": [
        "my_first_dict = {\n",
        "    \"name\": \"John\",\n",
        "    \"age\": 30,\n",
        "    \"city\": \"New York\"\n",
        "}\n",
        "\n",
        "my_first_dict[\"name\"]"
      ]
    },
    {
      "cell_type": "markdown",
      "id": "e488588c",
      "metadata": {
        "id": "e488588c"
      },
      "source": [
        "You can change the values in the list the same way:"
      ]
    },
    {
      "cell_type": "code",
      "execution_count": null,
      "id": "63b27d85",
      "metadata": {
        "id": "63b27d85"
      },
      "outputs": [],
      "source": [
        "my_first_dict[\"age\"] = 31\n",
        "my_first_dict"
      ]
    },
    {
      "cell_type": "markdown",
      "id": "cf580b72",
      "metadata": {
        "id": "cf580b72"
      },
      "source": [
        "## Functions"
      ]
    },
    {
      "cell_type": "markdown",
      "id": "9632bcb0",
      "metadata": {
        "id": "9632bcb0"
      },
      "source": [
        "Functions are one of the most powerful properties of any programming language. They allow us to apply the same operation to any object, without necessitating a re-write of our code. We define. a function like this:"
      ]
    },
    {
      "cell_type": "code",
      "execution_count": null,
      "id": "df87ad35",
      "metadata": {
        "id": "df87ad35"
      },
      "outputs": [],
      "source": [
        "def greet(name):\n",
        "    return \"Hello, \" + name + \"! Welcome to Python!\""
      ]
    },
    {
      "cell_type": "markdown",
      "id": "72b29f48",
      "metadata": {
        "id": "72b29f48"
      },
      "source": [
        "Let's go through each part:\n",
        "\n",
        "- `def` tells python to define a function\n",
        "- `greet` defines the name of the function for later use\n",
        "- `(name)` specifies the *arguments* passed to the function. We can specify several arguments, as you will see soon.\n",
        "- `:` signifies the following code is part of the function. IMPORTANT: the code needs to be indented. Otherwise, it will not be recognized"
      ]
    },
    {
      "cell_type": "markdown",
      "id": "03fe21ee",
      "metadata": {
        "id": "03fe21ee"
      },
      "source": [
        "def greet(name):\n",
        "    return \"Hello, \" + name + \"! Welcome to Python!\""
      ]
    },
    {
      "cell_type": "code",
      "execution_count": null,
      "id": "40a913a9",
      "metadata": {
        "id": "40a913a9"
      },
      "outputs": [],
      "source": [
        "def greet(name, excited = False):\n",
        "    tmp_str = \"Hello, \" + name + \"! Welcome to Python!\"\n",
        "    if excited: ## this works\n",
        "        tmp_str = tmp_str + \" It is so great to meet you!\"\n",
        "    return tmp_str\n",
        "\n",
        "greet(\"Nico\")"
      ]
    },
    {
      "cell_type": "code",
      "execution_count": null,
      "id": "2968d599",
      "metadata": {
        "id": "2968d599"
      },
      "outputs": [],
      "source": [
        "def greet(name, excited = False):\n",
        "    tmp_str = \"Hello, \" + name + \"! Welcome to Python!\"\n",
        "if excited: ## this does not work\n",
        "    tmp_str = tmp_str + \" It is so great to meet you!\"\n",
        "return tmp_str"
      ]
    },
    {
      "cell_type": "markdown",
      "id": "3e8feaf5",
      "metadata": {
        "id": "3e8feaf5"
      },
      "source": [
        "*Can you explain the error message?*"
      ]
    },
    {
      "cell_type": "markdown",
      "id": "f2bc0424",
      "metadata": {
        "id": "f2bc0424"
      },
      "source": [
        "# Exercise"
      ]
    },
    {
      "cell_type": "markdown",
      "id": "2738a91d",
      "metadata": {
        "id": "2738a91d"
      },
      "source": [
        "0. Define an object containing a string and use list comprehension on this object."
      ]
    },
    {
      "cell_type": "code",
      "execution_count": null,
      "id": "cf2bc16d",
      "metadata": {
        "id": "cf2bc16d"
      },
      "outputs": [],
      "source": [
        "## your code here"
      ]
    },
    {
      "cell_type": "markdown",
      "id": "1e12b752",
      "metadata": {
        "id": "1e12b752"
      },
      "source": [
        "1. Create a list and iterate over each item using a for loop. Ensure that the output differs, depending on the value in the list by using a conditional statement."
      ]
    },
    {
      "cell_type": "code",
      "execution_count": null,
      "id": "6cf54db5",
      "metadata": {
        "id": "6cf54db5"
      },
      "outputs": [],
      "source": []
    },
    {
      "cell_type": "markdown",
      "id": "a291bc52",
      "metadata": {
        "id": "a291bc52"
      },
      "source": [
        "2. Split the following text into words. Count the number of words containing an 'o' and the number of words who do not."
      ]
    },
    {
      "cell_type": "markdown",
      "id": "8d4cb925",
      "metadata": {
        "id": "8d4cb925"
      },
      "source": [
        "text_to_analyze = \"As Gregor Samsa awoke one morning from uneasy dreams he found himself transformed in his bed into a gigantic insect. He was lying on his hard, as it were armor-plated, back and when he lifted his head a little he could see his dome-like brown belly divided into stiff arched segments on top of which the bed quilt could hardly keep in position and was about to slide off completely. His numerous legs, which were pitifully thin compared to the rest of his bulk, waved helplessly before his eyes.\""
      ]
    },
    {
      "cell_type": "markdown",
      "id": "2e7099b7",
      "metadata": {
        "id": "2e7099b7"
      },
      "source": [
        "3. Write a function that takes a text and counts the number of 'a's and 'e's in it. Do not use `count()` Apply it to the text above."
      ]
    },
    {
      "cell_type": "code",
      "execution_count": null,
      "id": "3058375a",
      "metadata": {
        "id": "3058375a"
      },
      "outputs": [],
      "source": []
    }
  ],
  "metadata": {
    "kernelspec": {
      "display_name": ".venv (3.12.0)",
      "language": "python",
      "name": "python3"
    },
    "language_info": {
      "codemirror_mode": {
        "name": "ipython",
        "version": 3
      },
      "file_extension": ".py",
      "mimetype": "text/x-python",
      "name": "python",
      "nbconvert_exporter": "python",
      "pygments_lexer": "ipython3",
      "version": "3.12.0"
    },
    "colab": {
      "provenance": [],
      "include_colab_link": true
    }
  },
  "nbformat": 4,
  "nbformat_minor": 5
}