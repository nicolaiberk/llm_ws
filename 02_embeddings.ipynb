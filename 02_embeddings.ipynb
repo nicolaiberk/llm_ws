{
  "nbformat": 4,
  "nbformat_minor": 0,
  "metadata": {
    "colab": {
      "provenance": [],
      "collapsed_sections": [
        "SLSwVPvi9Mke",
        "LCSzG1XB8WmV"
      ],
      "authorship_tag": "ABX9TyMnuXLylH4zsW6zgslrHAcO",
      "include_colab_link": true
    },
    "kernelspec": {
      "name": "python3",
      "display_name": "Python 3"
    },
    "language_info": {
      "name": "python"
    }
  },
  "cells": [
    {
      "cell_type": "markdown",
      "metadata": {
        "id": "view-in-github",
        "colab_type": "text"
      },
      "source": [
        "<a href=\"https://colab.research.google.com/github/nicolaiberk/llm_ws/blob/main/02_embeddings.ipynb\" target=\"_parent\"><img src=\"https://colab.research.google.com/assets/colab-badge.svg\" alt=\"Open In Colab\"/></a>"
      ]
    },
    {
      "cell_type": "markdown",
      "source": [
        "# Intro to embedding manipulation with `gensim`"
      ],
      "metadata": {
        "id": "fAqJl9nG8Ifv"
      }
    },
    {
      "cell_type": "code",
      "source": [
        "!pip install gensim # restart after installation"
      ],
      "metadata": {
        "colab": {
          "base_uri": "https://localhost:8080/"
        },
        "id": "OeiVHlEdyaUK",
        "outputId": "87103bbd-70ab-4c88-d879-b3859edc45d6"
      },
      "execution_count": null,
      "outputs": [
        {
          "output_type": "stream",
          "name": "stdout",
          "text": [
            "Requirement already satisfied: gensim in /usr/local/lib/python3.11/dist-packages (4.3.3)\n",
            "Requirement already satisfied: numpy<2.0,>=1.18.5 in /usr/local/lib/python3.11/dist-packages (from gensim) (1.26.4)\n",
            "Requirement already satisfied: scipy<1.14.0,>=1.7.0 in /usr/local/lib/python3.11/dist-packages (from gensim) (1.13.1)\n",
            "Requirement already satisfied: smart-open>=1.8.1 in /usr/local/lib/python3.11/dist-packages (from gensim) (7.3.0.post1)\n",
            "Requirement already satisfied: wrapt in /usr/local/lib/python3.11/dist-packages (from smart-open>=1.8.1->gensim) (1.17.2)\n"
          ]
        }
      ]
    },
    {
      "cell_type": "markdown",
      "source": [
        "## Word Embeddings"
      ],
      "metadata": {
        "id": "FVrj4r5L9F-F"
      }
    },
    {
      "cell_type": "code",
      "execution_count": null,
      "metadata": {
        "colab": {
          "base_uri": "https://localhost:8080/"
        },
        "id": "-x2STAO9yFKr",
        "outputId": "bba89036-2bb7-43f8-8b35-c5fc259a4346"
      },
      "outputs": [
        {
          "output_type": "stream",
          "name": "stdout",
          "text": [
            "[==================================================] 100.0% 128.1/128.1MB downloaded\n"
          ]
        }
      ],
      "source": [
        "## we load a 100-dimensional GloVe model trained on Wikipedia data\n",
        "import gensim.downloader as api\n",
        "wv = api.load('glove-wiki-gigaword-100') # small model so we don't have to wait too long..."
      ]
    },
    {
      "cell_type": "code",
      "source": [
        "wv['ziti'] # what do our embeddings look like?"
      ],
      "metadata": {
        "colab": {
          "base_uri": "https://localhost:8080/"
        },
        "id": "eQD-D8501bxe",
        "outputId": "5fbec1d1-7c72-4ea7-9cbb-c31694fba9b4"
      },
      "execution_count": null,
      "outputs": [
        {
          "output_type": "execute_result",
          "data": {
            "text/plain": [
              "array([ 0.049439 ,  0.33049  , -0.62916  ,  0.05941  , -0.070866 ,\n",
              "       -0.31198  ,  1.0051   , -0.36994  ,  0.51071  ,  0.88759  ,\n",
              "        0.30675  ,  0.41871  , -0.20705  ,  0.54854  ,  0.2315   ,\n",
              "       -0.10115  , -0.44656  ,  0.022504 ,  0.31798  ,  0.44769  ,\n",
              "       -0.50513  ,  0.34741  , -0.069257 ,  0.22331  ,  0.41969  ,\n",
              "        0.27958  ,  0.0037731, -0.22206  , -0.60191  , -0.67105  ,\n",
              "        0.1164   ,  0.099292 ,  0.16863  , -0.69876  ,  0.13203  ,\n",
              "        0.14845  ,  0.020125 , -0.40887  ,  0.15019  , -0.25258  ,\n",
              "        0.69223  , -0.24897  ,  0.047037 , -0.33101  , -0.16142  ,\n",
              "        0.10763  , -0.06854  , -0.29817  ,  0.15847  ,  0.92439  ,\n",
              "        0.52995  ,  0.89365  ,  0.56876  , -0.2421   , -0.78985  ,\n",
              "        0.75897  ,  0.53027  ,  0.53722  , -0.94077  ,  0.0013162,\n",
              "       -0.12927  , -0.10485  , -0.059788 , -0.56039  , -0.38289  ,\n",
              "       -0.43905  ,  0.02313  , -0.27358  , -0.086559 , -0.54393  ,\n",
              "       -0.49323  ,  0.14044  ,  0.50186  ,  0.11039  , -0.40333  ,\n",
              "        0.54352  , -0.14918  ,  0.069858 ,  1.028    ,  0.65854  ,\n",
              "       -0.14484  ,  0.06066  , -0.37153  ,  0.15011  , -0.12377  ,\n",
              "       -0.26727  ,  0.46632  ,  1.2429   , -0.077435 , -0.27101  ,\n",
              "        0.27347  , -0.078839 , -0.11403  ,  0.11122  , -0.015935 ,\n",
              "       -0.48769  ,  0.57196  ,  0.10234  , -0.10039  ,  0.043284 ],\n",
              "      dtype=float32)"
            ]
          },
          "metadata": {},
          "execution_count": 20
        }
      ]
    },
    {
      "cell_type": "markdown",
      "source": [
        "### Get most similar words"
      ],
      "metadata": {
        "id": "SLSwVPvi9Mke"
      }
    },
    {
      "cell_type": "code",
      "source": [
        "## so what are 'ziti' according to our model? Let's check the most similar embeddings:\n",
        "print(wv.most_similar(positive=['ziti'], topn=5))"
      ],
      "metadata": {
        "colab": {
          "base_uri": "https://localhost:8080/"
        },
        "id": "yEGA8j2vzGfd",
        "outputId": "649e7dd2-15b6-40c0-ea28-66f5b8455889"
      },
      "execution_count": null,
      "outputs": [
        {
          "output_type": "stream",
          "name": "stdout",
          "text": [
            "[('rigatoni', 0.7073923349380493), ('penne', 0.6969299912452698), ('focaccia', 0.6311710476875305), ('rotini', 0.6265588402748108), ('scrod', 0.6251025199890137)]\n"
          ]
        }
      ]
    },
    {
      "cell_type": "code",
      "source": [
        "## you can assess the cosine similarity with\n",
        "wv.similarity('ziti', 'penne')"
      ],
      "metadata": {
        "colab": {
          "base_uri": "https://localhost:8080/"
        },
        "id": "5ht8QNXj7hkx",
        "outputId": "391395b5-ab62-4d64-b577-6df087de0ff7"
      },
      "execution_count": null,
      "outputs": [
        {
          "output_type": "execute_result",
          "data": {
            "text/plain": [
              "0.69693005"
            ]
          },
          "metadata": {},
          "execution_count": 62
        }
      ]
    },
    {
      "cell_type": "code",
      "source": [
        "# Whereas\n",
        "wv.similarity('ziti', 'banana')"
      ],
      "metadata": {
        "colab": {
          "base_uri": "https://localhost:8080/"
        },
        "id": "21n1HoYg7-gr",
        "outputId": "83a225a1-369f-4383-a66f-d73f51dcb253"
      },
      "execution_count": null,
      "outputs": [
        {
          "output_type": "execute_result",
          "data": {
            "text/plain": [
              "0.15077041"
            ]
          },
          "metadata": {},
          "execution_count": 65
        }
      ]
    },
    {
      "cell_type": "code",
      "source": [
        "# and\n",
        "wv.similarity('ziti', 'car')"
      ],
      "metadata": {
        "colab": {
          "base_uri": "https://localhost:8080/"
        },
        "id": "Xt5MwYbF75xj",
        "outputId": "e26e6fbf-2669-429e-dce6-a30688fa6f14"
      },
      "execution_count": null,
      "outputs": [
        {
          "output_type": "execute_result",
          "data": {
            "text/plain": [
              "-0.2821738"
            ]
          },
          "metadata": {},
          "execution_count": 64
        }
      ]
    },
    {
      "cell_type": "code",
      "source": [
        "## You can calculate with these embeddings:\n",
        "wv_london = wv['paris'] - wv['france'] + wv['england']\n",
        "print(wv.most_similar(positive=[wv_london], topn=5))"
      ],
      "metadata": {
        "colab": {
          "base_uri": "https://localhost:8080/"
        },
        "id": "UA2WUHbUz9E9",
        "outputId": "1aa89db0-9f52-4d7a-c87f-040a213db8cb"
      },
      "execution_count": null,
      "outputs": [
        {
          "output_type": "stream",
          "name": "stdout",
          "text": [
            "[('london', 0.7929531931877136), ('england', 0.7346792221069336), ('melbourne', 0.7304184436798096), ('sydney', 0.7011193037033081), ('perth', 0.6856114864349365)]\n"
          ]
        }
      ]
    },
    {
      "cell_type": "code",
      "source": [
        "## Though it does not always work perfectly\n",
        "wv_queen = wv['king'] + wv['women'] - wv['men']\n",
        "print(wv.most_similar(positive=[wv_queen], topn=5))"
      ],
      "metadata": {
        "colab": {
          "base_uri": "https://localhost:8080/"
        },
        "id": "sAibSQeEzcLl",
        "outputId": "fdfe238e-c06d-4209-c429-7c9ebdd5f08b"
      },
      "execution_count": null,
      "outputs": [
        {
          "output_type": "stream",
          "name": "stdout",
          "text": [
            "[('king', 0.8731269836425781), ('queen', 0.756426215171814), ('monarch', 0.7043204307556152), ('prince', 0.6424739360809326), ('kingdom', 0.6367932558059692)]\n"
          ]
        }
      ]
    },
    {
      "cell_type": "code",
      "source": [
        "## you can also use the inbuilt function to get weighted averages\n",
        "print(wv.most_similar(positive=['women', 'king'], negative=['men'], topn=5))"
      ],
      "metadata": {
        "colab": {
          "base_uri": "https://localhost:8080/"
        },
        "id": "4kFKdiTj3egc",
        "outputId": "5a04823f-6f69-4c9c-daf9-ba0ad626850e"
      },
      "execution_count": null,
      "outputs": [
        {
          "output_type": "stream",
          "name": "stdout",
          "text": [
            "[('queen', 0.7415665984153748), ('monarch', 0.7021745443344116), ('prince', 0.6327081322669983), ('kingdom', 0.6294623017311096), ('elizabeth', 0.611503005027771)]\n"
          ]
        }
      ]
    },
    {
      "cell_type": "code",
      "source": [
        "## other cute functions\n",
        "print(wv.doesnt_match(['fire', 'water', 'land', 'sea', 'air', 'car']))"
      ],
      "metadata": {
        "colab": {
          "base_uri": "https://localhost:8080/"
        },
        "id": "NIjhV2ZT_zM1",
        "outputId": "ada238f0-d3d2-48e7-9a4b-18ae247ccf02"
      },
      "execution_count": null,
      "outputs": [
        {
          "output_type": "stream",
          "name": "stdout",
          "text": [
            "car\n"
          ]
        }
      ]
    },
    {
      "cell_type": "markdown",
      "source": [
        "### Reduce dimensions & visualize"
      ],
      "metadata": {
        "id": "TpjotisX9iDN"
      }
    },
    {
      "cell_type": "markdown",
      "source": [
        "### Use embeddings to scale words"
      ],
      "metadata": {
        "id": "LCSzG1XB8WmV"
      }
    },
    {
      "cell_type": "code",
      "source": [
        "## cosine similarity difference\n",
        "nurse_mf_cos = wv.similarity('nurse', 'men') - wv.similarity('nurse', 'women')\n",
        "teacher_mf_cos = wv.similarity('teacher', 'men') - wv.similarity('teacher', 'women')\n",
        "\n",
        "banker_mf_cos = wv.similarity('banker', 'men') - wv.similarity('banker', 'women')\n",
        "miner_mf_cos = wv.similarity('miner', 'men') - wv.similarity('miner', 'women')"
      ],
      "metadata": {
        "id": "8cmtnR4J8t3p"
      },
      "execution_count": null,
      "outputs": []
    },
    {
      "cell_type": "code",
      "source": [
        "nurse_mf_cos # more female"
      ],
      "metadata": {
        "colab": {
          "base_uri": "https://localhost:8080/"
        },
        "id": "YWdnyiJt-I3S",
        "outputId": "6c852e20-6621-4ea7-823a-cc6b28563e91"
      },
      "execution_count": null,
      "outputs": [
        {
          "output_type": "execute_result",
          "data": {
            "text/plain": [
              "-0.06668028"
            ]
          },
          "metadata": {},
          "execution_count": 82
        }
      ]
    },
    {
      "cell_type": "code",
      "source": [
        "teacher_mf_cos"
      ],
      "metadata": {
        "colab": {
          "base_uri": "https://localhost:8080/"
        },
        "id": "f7I_dp7S_SD5",
        "outputId": "667d593b-18f2-4fa8-8c6e-50d6be679a8e"
      },
      "execution_count": null,
      "outputs": [
        {
          "output_type": "execute_result",
          "data": {
            "text/plain": [
              "-0.06313369"
            ]
          },
          "metadata": {},
          "execution_count": 83
        }
      ]
    },
    {
      "cell_type": "code",
      "source": [
        "banker_mf_cos"
      ],
      "metadata": {
        "colab": {
          "base_uri": "https://localhost:8080/"
        },
        "id": "vSI4nWw598BJ",
        "outputId": "4ae6772a-3108-4b51-dd71-d3d56b4a9769"
      },
      "execution_count": null,
      "outputs": [
        {
          "output_type": "execute_result",
          "data": {
            "text/plain": [
              "0.054811075"
            ]
          },
          "metadata": {},
          "execution_count": 84
        }
      ]
    },
    {
      "cell_type": "code",
      "source": [
        "miner_mf_cos # more male"
      ],
      "metadata": {
        "colab": {
          "base_uri": "https://localhost:8080/"
        },
        "id": "B0fb0GE__T66",
        "outputId": "dff6fef4-f26b-44ce-9a46-30370b0ef97e"
      },
      "execution_count": null,
      "outputs": [
        {
          "output_type": "execute_result",
          "data": {
            "text/plain": [
              "0.05693823"
            ]
          },
          "metadata": {},
          "execution_count": 85
        }
      ]
    },
    {
      "cell_type": "markdown",
      "source": [
        "### Train a new model"
      ],
      "metadata": {
        "id": "b9xucGXr8TgJ"
      }
    },
    {
      "cell_type": "markdown",
      "source": [
        "We'll use an adapted dataset of dialogue in the Simpsons from [Kaggle](https://www.kaggle.com/datasets/prashant111/the-simpsons-dataset?resource=download&select=simpsons_script_lines.csv)."
      ],
      "metadata": {
        "id": "hhfzwAqaBjKJ"
      }
    },
    {
      "cell_type": "code",
      "source": [
        "## load data\n",
        "import pandas as pd\n",
        "dataset = pd.read_csv('https://www.dropbox.com/scl/fi/n5ffxvm4qyjkp8ws7qgoq/simpsons_script_lines_clean.csv?rlkey=gfliitwgi8cqsjxlcdmmdwtym&dl=1')\n",
        "dataset.head()"
      ],
      "metadata": {
        "colab": {
          "base_uri": "https://localhost:8080/",
          "height": 206
        },
        "id": "h_Ti4neS80A3",
        "outputId": "dc615604-19a7-446a-9c3c-c6d1649a5860"
      },
      "execution_count": null,
      "outputs": [
        {
          "output_type": "execute_result",
          "data": {
            "text/plain": [
              "     id       raw_character_text  \\\n",
              "0  9549              Miss Hoover   \n",
              "1  9550             Lisa Simpson   \n",
              "2  9551              Miss Hoover   \n",
              "3  9552             Lisa Simpson   \n",
              "4  9553  Edna Krabappel-Flanders   \n",
              "\n",
              "                                        spoken_words  \n",
              "0  No, actually, it was a little of both. Sometim...  \n",
              "1                             Where's Mr. Bergstrom?  \n",
              "2  I don't know. Although I'd sure like to talk t...  \n",
              "3                         That life is worth living.  \n",
              "4  The polls will be open from now until the end ...  "
            ],
            "text/html": [
              "\n",
              "  <div id=\"df-10a98986-0ed0-4fc1-89d7-e3f4ffee6d0f\" class=\"colab-df-container\">\n",
              "    <div>\n",
              "<style scoped>\n",
              "    .dataframe tbody tr th:only-of-type {\n",
              "        vertical-align: middle;\n",
              "    }\n",
              "\n",
              "    .dataframe tbody tr th {\n",
              "        vertical-align: top;\n",
              "    }\n",
              "\n",
              "    .dataframe thead th {\n",
              "        text-align: right;\n",
              "    }\n",
              "</style>\n",
              "<table border=\"1\" class=\"dataframe\">\n",
              "  <thead>\n",
              "    <tr style=\"text-align: right;\">\n",
              "      <th></th>\n",
              "      <th>id</th>\n",
              "      <th>raw_character_text</th>\n",
              "      <th>spoken_words</th>\n",
              "    </tr>\n",
              "  </thead>\n",
              "  <tbody>\n",
              "    <tr>\n",
              "      <th>0</th>\n",
              "      <td>9549</td>\n",
              "      <td>Miss Hoover</td>\n",
              "      <td>No, actually, it was a little of both. Sometim...</td>\n",
              "    </tr>\n",
              "    <tr>\n",
              "      <th>1</th>\n",
              "      <td>9550</td>\n",
              "      <td>Lisa Simpson</td>\n",
              "      <td>Where's Mr. Bergstrom?</td>\n",
              "    </tr>\n",
              "    <tr>\n",
              "      <th>2</th>\n",
              "      <td>9551</td>\n",
              "      <td>Miss Hoover</td>\n",
              "      <td>I don't know. Although I'd sure like to talk t...</td>\n",
              "    </tr>\n",
              "    <tr>\n",
              "      <th>3</th>\n",
              "      <td>9552</td>\n",
              "      <td>Lisa Simpson</td>\n",
              "      <td>That life is worth living.</td>\n",
              "    </tr>\n",
              "    <tr>\n",
              "      <th>4</th>\n",
              "      <td>9553</td>\n",
              "      <td>Edna Krabappel-Flanders</td>\n",
              "      <td>The polls will be open from now until the end ...</td>\n",
              "    </tr>\n",
              "  </tbody>\n",
              "</table>\n",
              "</div>\n",
              "    <div class=\"colab-df-buttons\">\n",
              "\n",
              "  <div class=\"colab-df-container\">\n",
              "    <button class=\"colab-df-convert\" onclick=\"convertToInteractive('df-10a98986-0ed0-4fc1-89d7-e3f4ffee6d0f')\"\n",
              "            title=\"Convert this dataframe to an interactive table.\"\n",
              "            style=\"display:none;\">\n",
              "\n",
              "  <svg xmlns=\"http://www.w3.org/2000/svg\" height=\"24px\" viewBox=\"0 -960 960 960\">\n",
              "    <path d=\"M120-120v-720h720v720H120Zm60-500h600v-160H180v160Zm220 220h160v-160H400v160Zm0 220h160v-160H400v160ZM180-400h160v-160H180v160Zm440 0h160v-160H620v160ZM180-180h160v-160H180v160Zm440 0h160v-160H620v160Z\"/>\n",
              "  </svg>\n",
              "    </button>\n",
              "\n",
              "  <style>\n",
              "    .colab-df-container {\n",
              "      display:flex;\n",
              "      gap: 12px;\n",
              "    }\n",
              "\n",
              "    .colab-df-convert {\n",
              "      background-color: #E8F0FE;\n",
              "      border: none;\n",
              "      border-radius: 50%;\n",
              "      cursor: pointer;\n",
              "      display: none;\n",
              "      fill: #1967D2;\n",
              "      height: 32px;\n",
              "      padding: 0 0 0 0;\n",
              "      width: 32px;\n",
              "    }\n",
              "\n",
              "    .colab-df-convert:hover {\n",
              "      background-color: #E2EBFA;\n",
              "      box-shadow: 0px 1px 2px rgba(60, 64, 67, 0.3), 0px 1px 3px 1px rgba(60, 64, 67, 0.15);\n",
              "      fill: #174EA6;\n",
              "    }\n",
              "\n",
              "    .colab-df-buttons div {\n",
              "      margin-bottom: 4px;\n",
              "    }\n",
              "\n",
              "    [theme=dark] .colab-df-convert {\n",
              "      background-color: #3B4455;\n",
              "      fill: #D2E3FC;\n",
              "    }\n",
              "\n",
              "    [theme=dark] .colab-df-convert:hover {\n",
              "      background-color: #434B5C;\n",
              "      box-shadow: 0px 1px 3px 1px rgba(0, 0, 0, 0.15);\n",
              "      filter: drop-shadow(0px 1px 2px rgba(0, 0, 0, 0.3));\n",
              "      fill: #FFFFFF;\n",
              "    }\n",
              "  </style>\n",
              "\n",
              "    <script>\n",
              "      const buttonEl =\n",
              "        document.querySelector('#df-10a98986-0ed0-4fc1-89d7-e3f4ffee6d0f button.colab-df-convert');\n",
              "      buttonEl.style.display =\n",
              "        google.colab.kernel.accessAllowed ? 'block' : 'none';\n",
              "\n",
              "      async function convertToInteractive(key) {\n",
              "        const element = document.querySelector('#df-10a98986-0ed0-4fc1-89d7-e3f4ffee6d0f');\n",
              "        const dataTable =\n",
              "          await google.colab.kernel.invokeFunction('convertToInteractive',\n",
              "                                                    [key], {});\n",
              "        if (!dataTable) return;\n",
              "\n",
              "        const docLinkHtml = 'Like what you see? Visit the ' +\n",
              "          '<a target=\"_blank\" href=https://colab.research.google.com/notebooks/data_table.ipynb>data table notebook</a>'\n",
              "          + ' to learn more about interactive tables.';\n",
              "        element.innerHTML = '';\n",
              "        dataTable['output_type'] = 'display_data';\n",
              "        await google.colab.output.renderOutput(dataTable, element);\n",
              "        const docLink = document.createElement('div');\n",
              "        docLink.innerHTML = docLinkHtml;\n",
              "        element.appendChild(docLink);\n",
              "      }\n",
              "    </script>\n",
              "  </div>\n",
              "\n",
              "\n",
              "    <div id=\"df-264718ea-6528-4508-9b95-c7484a272541\">\n",
              "      <button class=\"colab-df-quickchart\" onclick=\"quickchart('df-264718ea-6528-4508-9b95-c7484a272541')\"\n",
              "                title=\"Suggest charts\"\n",
              "                style=\"display:none;\">\n",
              "\n",
              "<svg xmlns=\"http://www.w3.org/2000/svg\" height=\"24px\"viewBox=\"0 0 24 24\"\n",
              "     width=\"24px\">\n",
              "    <g>\n",
              "        <path d=\"M19 3H5c-1.1 0-2 .9-2 2v14c0 1.1.9 2 2 2h14c1.1 0 2-.9 2-2V5c0-1.1-.9-2-2-2zM9 17H7v-7h2v7zm4 0h-2V7h2v10zm4 0h-2v-4h2v4z\"/>\n",
              "    </g>\n",
              "</svg>\n",
              "      </button>\n",
              "\n",
              "<style>\n",
              "  .colab-df-quickchart {\n",
              "      --bg-color: #E8F0FE;\n",
              "      --fill-color: #1967D2;\n",
              "      --hover-bg-color: #E2EBFA;\n",
              "      --hover-fill-color: #174EA6;\n",
              "      --disabled-fill-color: #AAA;\n",
              "      --disabled-bg-color: #DDD;\n",
              "  }\n",
              "\n",
              "  [theme=dark] .colab-df-quickchart {\n",
              "      --bg-color: #3B4455;\n",
              "      --fill-color: #D2E3FC;\n",
              "      --hover-bg-color: #434B5C;\n",
              "      --hover-fill-color: #FFFFFF;\n",
              "      --disabled-bg-color: #3B4455;\n",
              "      --disabled-fill-color: #666;\n",
              "  }\n",
              "\n",
              "  .colab-df-quickchart {\n",
              "    background-color: var(--bg-color);\n",
              "    border: none;\n",
              "    border-radius: 50%;\n",
              "    cursor: pointer;\n",
              "    display: none;\n",
              "    fill: var(--fill-color);\n",
              "    height: 32px;\n",
              "    padding: 0;\n",
              "    width: 32px;\n",
              "  }\n",
              "\n",
              "  .colab-df-quickchart:hover {\n",
              "    background-color: var(--hover-bg-color);\n",
              "    box-shadow: 0 1px 2px rgba(60, 64, 67, 0.3), 0 1px 3px 1px rgba(60, 64, 67, 0.15);\n",
              "    fill: var(--button-hover-fill-color);\n",
              "  }\n",
              "\n",
              "  .colab-df-quickchart-complete:disabled,\n",
              "  .colab-df-quickchart-complete:disabled:hover {\n",
              "    background-color: var(--disabled-bg-color);\n",
              "    fill: var(--disabled-fill-color);\n",
              "    box-shadow: none;\n",
              "  }\n",
              "\n",
              "  .colab-df-spinner {\n",
              "    border: 2px solid var(--fill-color);\n",
              "    border-color: transparent;\n",
              "    border-bottom-color: var(--fill-color);\n",
              "    animation:\n",
              "      spin 1s steps(1) infinite;\n",
              "  }\n",
              "\n",
              "  @keyframes spin {\n",
              "    0% {\n",
              "      border-color: transparent;\n",
              "      border-bottom-color: var(--fill-color);\n",
              "      border-left-color: var(--fill-color);\n",
              "    }\n",
              "    20% {\n",
              "      border-color: transparent;\n",
              "      border-left-color: var(--fill-color);\n",
              "      border-top-color: var(--fill-color);\n",
              "    }\n",
              "    30% {\n",
              "      border-color: transparent;\n",
              "      border-left-color: var(--fill-color);\n",
              "      border-top-color: var(--fill-color);\n",
              "      border-right-color: var(--fill-color);\n",
              "    }\n",
              "    40% {\n",
              "      border-color: transparent;\n",
              "      border-right-color: var(--fill-color);\n",
              "      border-top-color: var(--fill-color);\n",
              "    }\n",
              "    60% {\n",
              "      border-color: transparent;\n",
              "      border-right-color: var(--fill-color);\n",
              "    }\n",
              "    80% {\n",
              "      border-color: transparent;\n",
              "      border-right-color: var(--fill-color);\n",
              "      border-bottom-color: var(--fill-color);\n",
              "    }\n",
              "    90% {\n",
              "      border-color: transparent;\n",
              "      border-bottom-color: var(--fill-color);\n",
              "    }\n",
              "  }\n",
              "</style>\n",
              "\n",
              "      <script>\n",
              "        async function quickchart(key) {\n",
              "          const quickchartButtonEl =\n",
              "            document.querySelector('#' + key + ' button');\n",
              "          quickchartButtonEl.disabled = true;  // To prevent multiple clicks.\n",
              "          quickchartButtonEl.classList.add('colab-df-spinner');\n",
              "          try {\n",
              "            const charts = await google.colab.kernel.invokeFunction(\n",
              "                'suggestCharts', [key], {});\n",
              "          } catch (error) {\n",
              "            console.error('Error during call to suggestCharts:', error);\n",
              "          }\n",
              "          quickchartButtonEl.classList.remove('colab-df-spinner');\n",
              "          quickchartButtonEl.classList.add('colab-df-quickchart-complete');\n",
              "        }\n",
              "        (() => {\n",
              "          let quickchartButtonEl =\n",
              "            document.querySelector('#df-264718ea-6528-4508-9b95-c7484a272541 button');\n",
              "          quickchartButtonEl.style.display =\n",
              "            google.colab.kernel.accessAllowed ? 'block' : 'none';\n",
              "        })();\n",
              "      </script>\n",
              "    </div>\n",
              "\n",
              "    </div>\n",
              "  </div>\n"
            ],
            "application/vnd.google.colaboratory.intrinsic+json": {
              "type": "dataframe",
              "variable_name": "dataset"
            }
          },
          "metadata": {},
          "execution_count": 88
        }
      ]
    },
    {
      "cell_type": "code",
      "source": [
        "## clean the texts (very rough here)\n",
        "dataset['cleaned_text'] = dataset['spoken_words'].str.replace('[^a-zA-Z \\d]','', regex=True) # remove anything that is not a letter or whitespace\n",
        "dataset['cleaned_text'] = dataset['cleaned_text'].str.lower() # lowercase\n",
        "dataset['cleaned_text'] = dataset['cleaned_text'].str.replace('\\d+', '') # remove multiple whitespaces"
      ],
      "metadata": {
        "id": "_Pf3Fg-zDakP"
      },
      "execution_count": null,
      "outputs": []
    },
    {
      "cell_type": "code",
      "source": [
        "dataset.cleaned_text.head()"
      ],
      "metadata": {
        "colab": {
          "base_uri": "https://localhost:8080/",
          "height": 241
        },
        "id": "7xtfOvpZDss5",
        "outputId": "3159f9fb-966b-4368-b0ff-1ce5f0cb10cf"
      },
      "execution_count": null,
      "outputs": [
        {
          "output_type": "execute_result",
          "data": {
            "text/plain": [
              "0    no actually it was a little of both sometimes ...\n",
              "1                                  wheres mr bergstrom\n",
              "2    i dont know although id sure like to talk to h...\n",
              "3                            that life is worth living\n",
              "4    the polls will be open from now until the end ...\n",
              "Name: cleaned_text, dtype: object"
            ],
            "text/html": [
              "<div>\n",
              "<style scoped>\n",
              "    .dataframe tbody tr th:only-of-type {\n",
              "        vertical-align: middle;\n",
              "    }\n",
              "\n",
              "    .dataframe tbody tr th {\n",
              "        vertical-align: top;\n",
              "    }\n",
              "\n",
              "    .dataframe thead th {\n",
              "        text-align: right;\n",
              "    }\n",
              "</style>\n",
              "<table border=\"1\" class=\"dataframe\">\n",
              "  <thead>\n",
              "    <tr style=\"text-align: right;\">\n",
              "      <th></th>\n",
              "      <th>cleaned_text</th>\n",
              "    </tr>\n",
              "  </thead>\n",
              "  <tbody>\n",
              "    <tr>\n",
              "      <th>0</th>\n",
              "      <td>no actually it was a little of both sometimes ...</td>\n",
              "    </tr>\n",
              "    <tr>\n",
              "      <th>1</th>\n",
              "      <td>wheres mr bergstrom</td>\n",
              "    </tr>\n",
              "    <tr>\n",
              "      <th>2</th>\n",
              "      <td>i dont know although id sure like to talk to h...</td>\n",
              "    </tr>\n",
              "    <tr>\n",
              "      <th>3</th>\n",
              "      <td>that life is worth living</td>\n",
              "    </tr>\n",
              "    <tr>\n",
              "      <th>4</th>\n",
              "      <td>the polls will be open from now until the end ...</td>\n",
              "    </tr>\n",
              "  </tbody>\n",
              "</table>\n",
              "</div><br><label><b>dtype:</b> object</label>"
            ]
          },
          "metadata": {},
          "execution_count": 107
        }
      ]
    },
    {
      "cell_type": "code",
      "source": [
        "## filter empty rows and enforce string\n",
        "dataset = dataset[dataset['cleaned_text'] != '']\n",
        "dataset['cleaned_text'] = dataset['cleaned_text'].astype(str)"
      ],
      "metadata": {
        "id": "djQKA9dhElNZ"
      },
      "execution_count": null,
      "outputs": []
    },
    {
      "cell_type": "code",
      "source": [
        "## how many texts are left?\n",
        "dataset.shape"
      ],
      "metadata": {
        "colab": {
          "base_uri": "https://localhost:8080/"
        },
        "id": "3FJq37IwF8AY",
        "outputId": "1fcde55c-b68b-4064-b91c-3f1a11292adf"
      },
      "execution_count": null,
      "outputs": [
        {
          "output_type": "execute_result",
          "data": {
            "text/plain": [
              "(158250, 4)"
            ]
          },
          "metadata": {},
          "execution_count": 128
        }
      ]
    },
    {
      "cell_type": "code",
      "source": [
        "## create a list of lists of words by splitting along whitespaces\n",
        "sentences = [s.split(\" \") for s in dataset['cleaned_text']]"
      ],
      "metadata": {
        "id": "Fg1eR-e0DLaL"
      },
      "execution_count": null,
      "outputs": []
    },
    {
      "cell_type": "code",
      "source": [
        "sentences[1]"
      ],
      "metadata": {
        "colab": {
          "base_uri": "https://localhost:8080/"
        },
        "id": "PSb0KZ4iE-K0",
        "outputId": "058a732f-cf8f-4b4c-ac68-68295a5522e8"
      },
      "execution_count": null,
      "outputs": [
        {
          "output_type": "execute_result",
          "data": {
            "text/plain": [
              "['wheres', 'mr', 'bergstrom']"
            ]
          },
          "metadata": {},
          "execution_count": 118
        }
      ]
    },
    {
      "cell_type": "code",
      "source": [
        "## load dataset (use an iterator for larger datasets: https://radimrehurek.com/gensim/auto_examples/tutorials/run_word2vec.html#training-your-own-model)\n",
        "from gensim.models import Word2Vec\n",
        "\n",
        "## estimate a model and save\n",
        "model = Word2Vec(\n",
        "    sentences=sentences,\n",
        "    vector_size=100,  # number of dimensions of word embeddings\n",
        "    window=5,         # number of context words in either direction to include\n",
        "    min_count=5,      # how often must a word appear to enter the corpus?\n",
        "    workers=4         # how many CPUs should be used to fit the model?\n",
        "    )\n",
        "model.save(\"simpsons.w2v.model\")"
      ],
      "metadata": {
        "id": "HzZ0NPTdAaYm"
      },
      "execution_count": null,
      "outputs": []
    },
    {
      "cell_type": "code",
      "source": [
        "## assess model\n",
        "model.wv.most_similar('homer', topn=5)"
      ],
      "metadata": {
        "colab": {
          "base_uri": "https://localhost:8080/"
        },
        "id": "BGoMMlvOFOCd",
        "outputId": "d5358850-c1b9-4d85-f09d-946add165cc3"
      },
      "execution_count": null,
      "outputs": [
        {
          "output_type": "execute_result",
          "data": {
            "text/plain": [
              "[('bart', 0.8287650942802429),\n",
              " ('marge', 0.8060054779052734),\n",
              " ('lisa', 0.7775300145149231),\n",
              " ('abe', 0.7122818231582642),\n",
              " ('grampa', 0.7074202299118042)]"
            ]
          },
          "metadata": {},
          "execution_count": 124
        }
      ]
    },
    {
      "cell_type": "code",
      "source": [
        "model.wv.most_similar('tavern', topn=5)"
      ],
      "metadata": {
        "colab": {
          "base_uri": "https://localhost:8080/"
        },
        "id": "qrcHdPq6FRRt",
        "outputId": "013463e0-0bff-4116-f9d8-593a070ae67a"
      },
      "execution_count": null,
      "outputs": [
        {
          "output_type": "execute_result",
          "data": {
            "text/plain": [
              "[('retirement', 0.8721364736557007),\n",
              " ('waterfront', 0.8637022972106934),\n",
              " ('mount', 0.863527238368988),\n",
              " ('spiritual', 0.8470531702041626),\n",
              " ('churches', 0.8451192378997803)]"
            ]
          },
          "metadata": {},
          "execution_count": 125
        }
      ]
    },
    {
      "cell_type": "code",
      "source": [
        "model.wv.most_similar('skateboard', topn=5)"
      ],
      "metadata": {
        "colab": {
          "base_uri": "https://localhost:8080/"
        },
        "id": "JuXP7LOhFW-C",
        "outputId": "a1136691-5cc3-4db2-8240-d78f9d0a106b"
      },
      "execution_count": null,
      "outputs": [
        {
          "output_type": "execute_result",
          "data": {
            "text/plain": [
              "[('jacket', 0.920958936214447),\n",
              " ('buttocks', 0.9046000838279724),\n",
              " ('flapping', 0.8933189511299133),\n",
              " ('bret', 0.8926150798797607),\n",
              " ('palm', 0.8921723365783691)]"
            ]
          },
          "metadata": {},
          "execution_count": 127
        }
      ]
    },
    {
      "cell_type": "markdown",
      "source": [
        "## Document Embeddings"
      ],
      "metadata": {
        "id": "avrhMwLU80Op"
      }
    },
    {
      "cell_type": "code",
      "source": [],
      "metadata": {
        "id": "LVViPVMp7I6Z"
      },
      "execution_count": null,
      "outputs": []
    }
  ]
}